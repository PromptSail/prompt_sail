{
 "cells": [
  {
   "metadata": {},
   "cell_type": "markdown",
   "source": [
    "1. Install Google Cloud SDK:\n",
    "```bash\n",
    "(New-Object Net.WebClient).DownloadFile(\"https://dl.google.com/dl/cloudsdk/channels/rapid/GoogleCloudSDKInstaller.exe\", \"$env:Temp\\GoogleCloudSDKInstaller.exe\")\n",
    "& $env:Temp\\GoogleCloudSDKInstaller.exe\n",
    "```\n",
    "2. Login to Google Cloud SDK and get credentials:\n",
    "```bash\n",
    "gcloud init\n",
    "gcloud auth application-default login\n",
    "```\n",
    "3. Your credentials will be stored in `C:\\Users\\<username>\\AppData\\Roaming\\gcloud\\application_default_credentials.json`"
   ],
   "id": "481c8ae9b1704f7a"
  },
  {
   "cell_type": "code",
   "id": "initial_id",
   "metadata": {
    "collapsed": true,
    "ExecuteTime": {
     "end_time": "2024-05-24T07:44:49.055825Z",
     "start_time": "2024-05-24T07:44:44.470260Z"
    }
   },
   "source": [
    "from langchain_google_vertexai import VertexAI\n",
    "\n",
    "model = VertexAI(project_id=\"ai-services-409611\", location=\"europe-west3\", model_id=\"gemini-pro\")\n",
    "\n",
    "message = \"What are some of the pros and cons of Python as a programming language?\"\n",
    "model.invoke(message)"
   ],
   "outputs": [
    {
     "data": {
      "text/plain": [
       "' **Pros of Python:**\\n\\n* **Easy to learn and use:** Python is known for its simple syntax and readability, making it a great choice for beginners. It also has a large and supportive community, with many resources available online.\\n* **Versatile:** Python can be used for a wide variety of tasks, including web development, data science, machine learning, and artificial intelligence.\\n* **Powerful:** Python has a rich library of built-in functions and modules, making it easy to perform complex tasks without having to write a lot of code.\\n* **Cross-platform:** Python can be run on a variety of operating systems'"
      ]
     },
     "execution_count": 1,
     "metadata": {},
     "output_type": "execute_result"
    }
   ],
   "execution_count": 1
  },
  {
   "metadata": {},
   "cell_type": "code",
   "outputs": [],
   "execution_count": null,
   "source": "",
   "id": "670f1685d4ec3ae2"
  }
 ],
 "metadata": {
  "kernelspec": {
   "display_name": "Python 3",
   "language": "python",
   "name": "python3"
  },
  "language_info": {
   "codemirror_mode": {
    "name": "ipython",
    "version": 2
   },
   "file_extension": ".py",
   "mimetype": "text/x-python",
   "name": "python",
   "nbconvert_exporter": "python",
   "pygments_lexer": "ipython2",
   "version": "2.7.6"
  }
 },
 "nbformat": 4,
 "nbformat_minor": 5
}
