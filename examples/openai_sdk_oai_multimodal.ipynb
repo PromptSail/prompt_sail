{
 "cells": [
  {
   "cell_type": "code",
   "id": "initial_id",
   "metadata": {
    "collapsed": true,
    "ExecuteTime": {
     "end_time": "2024-06-27T10:33:38.910703Z",
     "start_time": "2024-06-27T10:33:38.458715Z"
    }
   },
   "source": [
    "from openai import OpenAI\n",
    "from dotenv import load_dotenv, dotenv_values\n",
    "from pprint import pprint\n",
    "from io import BytesIO\n",
    "import requests\n",
    "from PIL import Image\n",
    "\n",
    "config = dotenv_values(\".env\")\n",
    "\n",
    "openai_key = config[\"OPENAI_API_KEY\"]\n",
    "openai_org_id = config[\"OPENAI_ORG_ID\"]\n",
    "print(\n",
    "    f\"OpenAI api key={openai_key[0:3]}...{openai_key[-3:]}\"\n",
    ")"
   ],
   "outputs": [
    {
     "name": "stdout",
     "output_type": "stream",
     "text": [
      "OpenAI api key=sk-...fRh\n"
     ]
    }
   ],
   "execution_count": 1
  },
  {
   "metadata": {
    "ExecuteTime": {
     "end_time": "2024-06-27T10:33:39.800209Z",
     "start_time": "2024-06-27T10:33:39.775678Z"
    }
   },
   "cell_type": "code",
   "source": [
    "api_base_url = \"http://localhost:8000/models-playground/openai\"\n",
    "model_name = \"gpt-4o\"\n",
    "\n",
    "oai_client = OpenAI(base_url=api_base_url, api_key=openai_key, max_retries=0)"
   ],
   "id": "58d26e13439642a6",
   "outputs": [],
   "execution_count": 2
  },
  {
   "metadata": {},
   "cell_type": "markdown",
   "source": "# Analyze image",
   "id": "f749cf2912a9b340"
  },
  {
   "metadata": {
    "ExecuteTime": {
     "end_time": "2024-06-27T10:33:43.845723Z",
     "start_time": "2024-06-27T10:33:43.841184Z"
    }
   },
   "cell_type": "code",
   "source": [
    "import base64\n",
    "\n",
    "def encode_image(image_path):\n",
    "    with open(image_path, \"rb\") as image_file:\n",
    "        return base64.b64encode(image_file.read()).decode(\"utf-8\")"
   ],
   "id": "400b43dff031f747",
   "outputs": [],
   "execution_count": 3
  },
  {
   "metadata": {
    "ExecuteTime": {
     "end_time": "2024-06-27T10:33:44.767771Z",
     "start_time": "2024-06-27T10:33:44.753753Z"
    }
   },
   "cell_type": "code",
   "source": [
    "IMAGE_PATH = \"example_image.png\"\n",
    "base64_image = encode_image(IMAGE_PATH)"
   ],
   "id": "d52065c3eb8a5dcd",
   "outputs": [],
   "execution_count": 4
  },
  {
   "metadata": {
    "ExecuteTime": {
     "end_time": "2024-06-27T10:33:58.384488Z",
     "start_time": "2024-06-27T10:33:47.539678Z"
    }
   },
   "cell_type": "code",
   "source": [
    "response = oai_client.chat.completions.create(\n",
    "    model=model_name,\n",
    "    messages=[\n",
    "        {\"role\": \"system\", \"content\": \"You are a helpful assistant that responds in Markdown. Help me with my math homework!\"},\n",
    "        {\"role\": \"user\", \"content\": [\n",
    "            {\"type\": \"text\", \"text\": \"What is the breed of dog in this photo?\"},\n",
    "            {\"type\": \"image_url\", \"image_url\": {\n",
    "                \"url\": f\"data:image/png;base64,{base64_image}\"}\n",
    "            }\n",
    "        ]}\n",
    "    ],\n",
    "    temperature=0.0,\n",
    ")\n",
    "print(response.choices[0].message.content)"
   ],
   "id": "f6d6bdeb5a5f79a",
   "outputs": [
    {
     "name": "stdout",
     "output_type": "stream",
     "text": [
      "The dog in the photo appears to be a Pembroke Welsh Corgi. This breed is known for its short legs, long body, and large ears.\n"
     ]
    }
   ],
   "execution_count": 5
  },
  {
   "metadata": {
    "ExecuteTime": {
     "end_time": "2024-06-24T15:58:37.413373Z",
     "start_time": "2024-06-24T15:58:35.786465Z"
    }
   },
   "cell_type": "code",
   "source": [
    "completion = oai_client.chat.completions.create(\n",
    "  model=model_name,\n",
    "  messages=[\n",
    "    {\"role\": \"system\", \"content\": \"You are a helpful assistant that helps me with my math homework!\"},\n",
    "    {\"role\": \"user\", \"content\": \"Hello! Could you solve 20 x 5?\"}\n",
    "  ]\n",
    ")\n",
    "print(\"Assistant: \" + completion.choices[0].message.content)"
   ],
   "id": "aea461cc97de94ab",
   "outputs": [
    {
     "name": "stdout",
     "output_type": "stream",
     "text": [
      "Assistant: Sure, I can help with that! \n",
      "The multiplication of 20 and 5 is:\n",
      "\n",
      "20 x 5 = 100\n",
      "\n",
      "So, the answer is 100.\n"
     ]
    }
   ],
   "execution_count": 12
  },
  {
   "metadata": {},
   "cell_type": "code",
   "outputs": [],
   "execution_count": null,
   "source": "",
   "id": "bf206bc0c4a99612"
  }
 ],
 "metadata": {
  "kernelspec": {
   "display_name": "Python 3",
   "language": "python",
   "name": "python3"
  },
  "language_info": {
   "codemirror_mode": {
    "name": "ipython",
    "version": 2
   },
   "file_extension": ".py",
   "mimetype": "text/x-python",
   "name": "python",
   "nbconvert_exporter": "python",
   "pygments_lexer": "ipython2",
   "version": "2.7.6"
  }
 },
 "nbformat": 4,
 "nbformat_minor": 5
}
