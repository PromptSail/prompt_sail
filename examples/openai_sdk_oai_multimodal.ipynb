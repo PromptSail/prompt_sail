{
 "cells": [
  {
   "cell_type": "code",
   "id": "initial_id",
   "metadata": {
    "collapsed": true,
    "ExecuteTime": {
     "end_time": "2024-06-14T06:17:10.335341Z",
     "start_time": "2024-06-14T06:17:09.774330Z"
    }
   },
   "source": [
    "from openai import OpenAI\n",
    "from dotenv import load_dotenv, dotenv_values\n",
    "from pprint import pprint\n",
    "from io import BytesIO\n",
    "import requests\n",
    "from PIL import Image\n",
    "\n",
    "config = dotenv_values(\".env\")\n",
    "\n",
    "openai_key = config[\"OPENAI_API_KEY\"]\n",
    "openai_org_id = config[\"OPENAI_ORG_ID\"]\n",
    "print(\n",
    "    f\"OpenAI api key={openai_key[0:3]}...{openai_key[-3:]}\"\n",
    ")"
   ],
   "outputs": [
    {
     "name": "stdout",
     "output_type": "stream",
     "text": [
      "OpenAI api key=sk-...fRh\n"
     ]
    }
   ],
   "execution_count": 1
  },
  {
   "metadata": {
    "ExecuteTime": {
     "end_time": "2024-06-14T06:20:03.679940Z",
     "start_time": "2024-06-14T06:20:03.660917Z"
    }
   },
   "cell_type": "code",
   "source": [
    "api_base_url = \"http://localhost:8000/project1/openai\"\n",
    "model_name = \"gpt-4o\"\n",
    "\n",
    "oai_client = OpenAI(base_url=api_base_url, api_key=openai_key, max_retries=0)"
   ],
   "id": "58d26e13439642a6",
   "outputs": [],
   "execution_count": 2
  },
  {
   "metadata": {},
   "cell_type": "markdown",
   "source": "# Analyze image",
   "id": "f749cf2912a9b340"
  },
  {
   "metadata": {
    "ExecuteTime": {
     "end_time": "2024-06-14T06:20:05.183887Z",
     "start_time": "2024-06-14T06:20:05.176367Z"
    }
   },
   "cell_type": "code",
   "source": [
    "import base64\n",
    "\n",
    "def encode_image(image_path):\n",
    "    with open(image_path, \"rb\") as image_file:\n",
    "        return base64.b64encode(image_file.read()).decode(\"utf-8\")"
   ],
   "id": "400b43dff031f747",
   "outputs": [],
   "execution_count": 3
  },
  {
   "metadata": {
    "ExecuteTime": {
     "end_time": "2024-06-14T06:20:12.193328Z",
     "start_time": "2024-06-14T06:20:12.176790Z"
    }
   },
   "cell_type": "code",
   "source": [
    "IMAGE_PATH = \"example_image.png\"\n",
    "base64_image = encode_image(IMAGE_PATH)"
   ],
   "id": "d52065c3eb8a5dcd",
   "outputs": [],
   "execution_count": 5
  },
  {
   "metadata": {
    "ExecuteTime": {
     "end_time": "2024-06-14T06:36:49.705444Z",
     "start_time": "2024-06-14T06:36:41.797825Z"
    }
   },
   "cell_type": "code",
   "source": [
    "response = oai_client.chat.completions.create(\n",
    "    model=model_name,\n",
    "    messages=[\n",
    "        {\"role\": \"system\", \"content\": \"You are a helpful assistant that responds in Markdown. Help me with my math homework!\"},\n",
    "        {\"role\": \"user\", \"content\": [\n",
    "            {\"type\": \"text\", \"text\": \"What is the breed of dog in this photo?\"},\n",
    "            {\"type\": \"image_url\", \"image_url\": {\n",
    "                \"url\": f\"data:image/png;base64,{base64_image}\"}\n",
    "            }\n",
    "        ]}\n",
    "    ],\n",
    "    temperature=0.0,\n",
    ")\n",
    "print(response.choices[0].message.content)"
   ],
   "id": "f6d6bdeb5a5f79a",
   "outputs": [
    {
     "name": "stdout",
     "output_type": "stream",
     "text": [
      "The dog in the photo appears to be a Pembroke Welsh Corgi. This breed is known for its short legs, long body, and large ears. They are often seen with a coat that is a mix of white and shades of brown or red.\n"
     ]
    }
   ],
   "execution_count": 12
  },
  {
   "metadata": {
    "ExecuteTime": {
     "end_time": "2024-06-14T06:26:14.011525Z",
     "start_time": "2024-06-14T06:26:10.513372Z"
    }
   },
   "cell_type": "code",
   "source": [
    "completion = oai_client.chat.completions.create(\n",
    "  model=model_name,\n",
    "  messages=[\n",
    "    {\"role\": \"system\", \"content\": \"You are a helpful assistant that helps me with my math homework!\"},\n",
    "    {\"role\": \"user\", \"content\": \"Hello! Could you solve 20 x 5?\"}\n",
    "  ]\n",
    ")\n",
    "print(\"Assistant: \" + completion.choices[0].message.content)"
   ],
   "id": "aea461cc97de94ab",
   "outputs": [
    {
     "name": "stdout",
     "output_type": "stream",
     "text": [
      "Assistant: Of course! The product of 20 and 5 is:\n",
      "\n",
      "\\[ 20 \\times 5 = 100 \\]\n",
      "\n",
      "So, \\( 20 \\times 5 = 100 \\).\n"
     ]
    }
   ],
   "execution_count": 8
  }
 ],
 "metadata": {
  "kernelspec": {
   "display_name": "Python 3",
   "language": "python",
   "name": "python3"
  },
  "language_info": {
   "codemirror_mode": {
    "name": "ipython",
    "version": 2
   },
   "file_extension": ".py",
   "mimetype": "text/x-python",
   "name": "python",
   "nbconvert_exporter": "python",
   "pygments_lexer": "ipython2",
   "version": "2.7.6"
  }
 },
 "nbformat": 4,
 "nbformat_minor": 5
}
