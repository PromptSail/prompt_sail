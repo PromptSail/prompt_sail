{
 "cells": [
  {
   "metadata": {},
   "cell_type": "markdown",
   "source": [
    "1. Install Google Cloud SDK:\n",
    "\n",
    "```bash\n",
    "(New-Object Net.WebClient).DownloadFile(\"https://dl.google.com/dl/cloudsdk/channels/rapid/GoogleCloudSDKInstaller.exe\", \"$env:Temp\\GoogleCloudSDKInstaller.exe\")\n",
    "& $env:Temp\\GoogleCloudSDKInstaller.exe\n",
    "```\n",
    "\n",
    "2. Login to Google Cloud SDK and get credentials:\n",
    "\n",
    "```bash\n",
    "gcloud init\n",
    "gcloud auth application-default login\n",
    "```\n",
    "\n",
    "3. Get access token using the following command:\n",
    "\n",
    "```bash\n",
    "gcloud auth application-default print-access-token\n",
    "```\n",
    "\n",
    "4. Set `VERTEXAI_BEARER` in `.env`\n",
    "\n",
    "5. Add vertexai as provider in promptsail:\n",
    "\n",
    "```json\n",
    "  {\n",
    "    deployment_name: 'vertexai',\n",
    "    slug: 'vertexai',\n",
    "    api_base: 'https://europe-west3-aiplatform.googleapis.com/v1',\n",
    "    description: '',\n",
    "    provider_name: 'Google VertexAI'\n",
    "  }\n",
    "```\n"
   ],
   "id": "36e201b4c05b8b26"
  },
  {
   "metadata": {},
   "cell_type": "code",
   "outputs": [],
   "execution_count": null,
   "source": [
    "# Example chat content\n",
    "chat_content = {\n",
    "    \"contents\": [\n",
    "        {\n",
    "            \"role\": \"USER\",\n",
    "            \"parts\": {\n",
    "                \"text\": \"Hello!\"\n",
    "            }\n",
    "        },\n",
    "        {\n",
    "            \"role\": \"MODEL\",\n",
    "            \"parts\": {\n",
    "                \"text\": \"Argh! What brings ye to my ship?\"\n",
    "            }\n",
    "        },\n",
    "        {\n",
    "            \"role\": \"USER\",\n",
    "            \"parts\": {\n",
    "                \"text\": \"Wow! You are a real-life priate!\"\n",
    "            }\n",
    "        }\n",
    "    ],\n",
    "    \"generation_config\": {\n",
    "        \"temperature\": 0.2,\n",
    "        \"topP\": 0.8,\n",
    "        \"topK\": 40,\n",
    "        \"maxOutputTokens\": 200\n",
    "    }\n",
    "}"
   ],
   "id": "eab9c81b28c9d2c7"
  },
  {
   "metadata": {
    "ExecuteTime": {
     "end_time": "2024-05-25T02:53:05.872887Z",
     "start_time": "2024-05-25T02:53:02.240696Z"
    }
   },
   "cell_type": "code",
   "source": [
    "import requests\n",
    "import os\n",
    "from dotenv import load_dotenv\n",
    "load_dotenv()\n",
    "\n",
    "\n",
    "bearer = \"Bearer \" + os.getenv(\"VERTEXAI_BEARER\")\n",
    "\n",
    "base_url = \"http://localhost:8000/project1/vertexai\"\n",
    "project = \"ai-services-409611\"\n",
    "location = \"europe-west3\"\n",
    "model = \"gemini-1.5-pro-preview-0514\"\n",
    "\n",
    "target_path = f\"/projects/{project}/locations/{location}/publishers/google/models/{model}:generateContent\"\n",
    "\n",
    "headers = {\n",
    "    'Authorization': bearer,\n",
    "    'Content-Type': 'application/json'\n",
    "}\n",
    "\n",
    "response = requests.post(base_url + target_path, headers=headers, json=chat_content)\n",
    "\n",
    "print(response.json())"
   ],
   "id": "f24a217a443635af",
   "outputs": [
    {
     "name": "stdout",
     "output_type": "stream",
     "text": [
      "{'candidates': [{'content': {'role': 'model', 'parts': [{'text': \"Shiver me timbers! A real-life pirate, ye say? Aye, that I be!  What be yer business with ol' Cap'n AI? 🦜  \\n\"}]}, 'finishReason': 'STOP', 'safetyRatings': [{'category': 'HARM_CATEGORY_HATE_SPEECH', 'probability': 'NEGLIGIBLE', 'probabilityScore': 0.26683465, 'severity': 'HARM_SEVERITY_LOW', 'severityScore': 0.23934932}, {'category': 'HARM_CATEGORY_DANGEROUS_CONTENT', 'probability': 'NEGLIGIBLE', 'probabilityScore': 0.44432363, 'severity': 'HARM_SEVERITY_LOW', 'severityScore': 0.38329497}, {'category': 'HARM_CATEGORY_HARASSMENT', 'probability': 'NEGLIGIBLE', 'probabilityScore': 0.4141286, 'severity': 'HARM_SEVERITY_LOW', 'severityScore': 0.30239108}, {'category': 'HARM_CATEGORY_SEXUALLY_EXPLICIT', 'probability': 'NEGLIGIBLE', 'probabilityScore': 0.23440665, 'severity': 'HARM_SEVERITY_LOW', 'severityScore': 0.21386933}]}], 'usageMetadata': {'promptTokenCount': 23, 'candidatesTokenCount': 37, 'totalTokenCount': 60}}\n"
     ]
    }
   ],
   "execution_count": 10
  },
  {
   "metadata": {},
   "cell_type": "code",
   "outputs": [],
   "execution_count": null,
   "source": "",
   "id": "4135d02e156cf80a"
  }
 ],
 "metadata": {
  "kernelspec": {
   "display_name": "Python 3",
   "language": "python",
   "name": "python3"
  },
  "language_info": {
   "codemirror_mode": {
    "name": "ipython",
    "version": 2
   },
   "file_extension": ".py",
   "mimetype": "text/x-python",
   "name": "python",
   "nbconvert_exporter": "python",
   "pygments_lexer": "ipython2",
   "version": "2.7.6"
  }
 },
 "nbformat": 4,
 "nbformat_minor": 5
}
