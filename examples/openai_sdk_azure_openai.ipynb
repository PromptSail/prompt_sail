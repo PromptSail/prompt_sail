{
 "cells": [
  {
   "cell_type": "markdown",
   "metadata": {},
   "source": [
    "# How to connect to Azure OpenAI service via OpenAI Python SDK"
   ]
  },
  {
   "cell_type": "markdown",
   "metadata": {},
   "source": [
    "\n",
    "First you need to get or create an Azure OpenAI resource. \n",
    "You can do it here: https://portal.azure.com/#view/Microsoft_Azure_ProjectOxford/CognitiveServicesHub/~/OpenAI\n",
    "\n",
    "Click on the chosen resource and than the \"Develop\" button in the middle of the screen.\n",
    "\n",
    "Copy the API key and endpoint and paste it into `.env` file in the `examples` folder. "
   ]
  },
  {
   "cell_type": "markdown",
   "metadata": {},
   "source": [
    "import the OpenAI Python SDK and load your API key from the environment"
   ]
  },
  {
   "cell_type": "code",
   "execution_count": 2,
   "metadata": {},
   "outputs": [
    {
     "name": "stdout",
     "output_type": "stream",
     "text": [
      "Azure OpenAI api key=9b2...d67b3\n",
      "Azure OpenAI api endpoint=https://openai-pr...\n",
      "Azure OpenAI deployment name=gpt-35T...\n",
      "Azure OpenAI api version=2023-07-01-preview\n"
     ]
    }
   ],
   "source": [
    "from openai import AzureOpenAI\n",
    "import os\n",
    "from dotenv import load_dotenv, dotenv_values\n",
    "from pprint import pprint\n",
    "\n",
    "#load_dotenv()\n",
    "\n",
    "\n",
    "config = dotenv_values(\".env\")\n",
    "\n",
    "\n",
    "azure_oai_key = config[\"AZURE_OPENAI_API_KEY\"]\n",
    "api_base_url = config[\"AZURE_OPENAI_ENDPOINT\"]\n",
    "\n",
    "deployment_name = config[\"AZURE_OPENAI_DEPLOYMENT_NAME\"]\n",
    "api_version = config[\"AZURE_OPENAI_API_VERSION\"]\n",
    "\n",
    "print(\n",
    "    f\"Azure OpenAI api key={azure_oai_key[0:3]}...{azure_oai_key[-5:]}\"\n",
    ")\n",
    "print(\n",
    "    f\"Azure OpenAI api endpoint={api_base_url[0:17]}...\"\n",
    ")\n",
    "print(f\"Azure OpenAI deployment name={deployment_name[0:7]}...\")\n",
    "print(f\"Azure OpenAI api version={api_version}\")"
   ]
  },
  {
   "cell_type": "code",
   "execution_count": 3,
   "metadata": {},
   "outputs": [],
   "source": [
    "aoai_client = AzureOpenAI(\n",
    "    api_key=azure_oai_key,\n",
    "    azure_endpoint=api_base_url,\n",
    "    api_version=api_version,\n",
    ")"
   ]
  },
  {
   "cell_type": "code",
   "execution_count": 4,
   "metadata": {},
   "outputs": [
    {
     "name": "stdout",
     "output_type": "stream",
     "text": [
      "[Model(id='gpt-35-turbo', created=None, object='model', owned_by=None, capabilities={'fine_tune': False, 'inference': True, 'completion': True, 'chat_completion': True, 'embeddings': False}, lifecycle_status='generally-available', deprecation={'inference': 1720137600}, status='succeeded', created_at=1678320000, updated_at=1688601600),\n",
      " Model(id='gpt-35-turbo-0301', created=None, object='model', owned_by=None, capabilities={'fine_tune': False, 'inference': True, 'completion': True, 'chat_completion': True, 'embeddings': False}, lifecycle_status='generally-available', deprecation={'inference': 1720137600}, status='succeeded', created_at=1678320000, updated_at=1688601600),\n",
      " Model(id='gpt-35-turbo-0613', created=None, object='model', owned_by=None, capabilities={'fine_tune': False, 'inference': True, 'completion': False, 'chat_completion': True, 'embeddings': False}, lifecycle_status='generally-available', deprecation={'fine_tune': 1718236800, 'inference': 1718236800}, status='succeeded', created_at=1687132800, updated_at=1687132800),\n",
      " Model(id='gpt-35-turbo-1106', created=None, object='model', owned_by=None, capabilities={'fine_tune': False, 'inference': True, 'completion': False, 'chat_completion': True, 'embeddings': False}, lifecycle_status='generally-available', deprecation={'fine_tune': 1734048000, 'inference': 1730851200}, status='succeeded', created_at=1700006400, updated_at=1700006400),\n",
      " Model(id='gpt-35-turbo-16k', created=None, object='model', owned_by=None, capabilities={'fine_tune': False, 'inference': True, 'completion': False, 'chat_completion': True, 'embeddings': False}, lifecycle_status='generally-available', deprecation={'inference': 1718236800}, status='succeeded', created_at=1687132800, updated_at=1687132800),\n",
      " Model(id='gpt-35-turbo-16k-0613', created=None, object='model', owned_by=None, capabilities={'fine_tune': False, 'inference': True, 'completion': False, 'chat_completion': True, 'embeddings': False}, lifecycle_status='generally-available', deprecation={'inference': 1718236800}, status='succeeded', created_at=1687132800, updated_at=1687132800),\n",
      " Model(id='gpt-35-turbo-instruct', created=None, object='model', owned_by=None, capabilities={'fine_tune': False, 'inference': True, 'completion': True, 'chat_completion': False, 'embeddings': False}, lifecycle_status='generally-available', deprecation={'inference': 1727654400}, status='succeeded', created_at=1694649600, updated_at=1694649600),\n",
      " Model(id='gpt-35-turbo-instruct-0914', created=None, object='model', owned_by=None, capabilities={'fine_tune': False, 'inference': True, 'completion': True, 'chat_completion': False, 'embeddings': False}, lifecycle_status='generally-available', deprecation={'inference': 1727654400}, status='succeeded', created_at=1694649600, updated_at=1694649600),\n",
      " Model(id='gpt-4', created=None, object='model', owned_by=None, capabilities={'fine_tune': False, 'inference': True, 'completion': False, 'chat_completion': True, 'embeddings': False}, lifecycle_status='generally-available', deprecation={'fine_tune': 1720137600, 'inference': 1720137600}, status='succeeded', created_at=1687132800, updated_at=1687132800),\n",
      " Model(id='gpt-4-0125-Preview', created=None, object='model', owned_by=None, capabilities={'fine_tune': False, 'inference': True, 'completion': False, 'chat_completion': True, 'embeddings': False}, lifecycle_status='preview', deprecation={'inference': 1742515200}, status='succeeded', created_at=1706140800, updated_at=1706140800),\n",
      " Model(id='gpt-4-0314', created=None, object='model', owned_by=None, capabilities={'fine_tune': False, 'inference': True, 'completion': False, 'chat_completion': True, 'embeddings': False}, lifecycle_status='generally-available', deprecation={'inference': 1720137600}, status='succeeded', created_at=1679356800, updated_at=1688601600),\n",
      " Model(id='gpt-4-0613', created=None, object='model', owned_by=None, capabilities={'fine_tune': False, 'inference': True, 'completion': False, 'chat_completion': True, 'embeddings': False}, lifecycle_status='generally-available', deprecation={'fine_tune': 1720137600, 'inference': 1720137600}, status='succeeded', created_at=1687132800, updated_at=1687132800),\n",
      " Model(id='gpt-4-1106-Preview', created=None, object='model', owned_by=None, capabilities={'fine_tune': False, 'inference': True, 'completion': False, 'chat_completion': True, 'embeddings': False}, lifecycle_status='preview', deprecation={'inference': 1711843200}, status='succeeded', created_at=1700006400, updated_at=1700006400),\n",
      " Model(id='gpt-4-32k', created=None, object='model', owned_by=None, capabilities={'fine_tune': False, 'inference': True, 'completion': False, 'chat_completion': True, 'embeddings': False}, lifecycle_status='generally-available', deprecation={'inference': 1720137600}, status='succeeded', created_at=1687132800, updated_at=1687132800),\n",
      " Model(id='gpt-4-32k-0314', created=None, object='model', owned_by=None, capabilities={'fine_tune': False, 'inference': True, 'completion': False, 'chat_completion': True, 'embeddings': False}, lifecycle_status='generally-available', deprecation={'inference': 1720137600}, status='succeeded', created_at=1679356800, updated_at=1688601600),\n",
      " Model(id='gpt-4-32k-0613', created=None, object='model', owned_by=None, capabilities={'fine_tune': False, 'inference': True, 'completion': False, 'chat_completion': True, 'embeddings': False}, lifecycle_status='generally-available', deprecation={'inference': 1720137600}, status='succeeded', created_at=1687132800, updated_at=1687132800),\n",
      " Model(id='gpt-4-vision-preview', created=None, object='model', owned_by=None, capabilities={'fine_tune': False, 'inference': True, 'completion': False, 'chat_completion': True, 'embeddings': False}, lifecycle_status='preview', deprecation={'inference': 1711843200}, status='succeeded', created_at=1700092800, updated_at=1700092800)]\n"
     ]
    }
   ],
   "source": [
    "\n",
    "models = aoai_client.models.list().data\n",
    "models = [m for m in models if \"gpt\" in m.id.lower()]\n",
    "\n",
    "# sort models by model id   \n",
    "models = sorted(models, key=lambda x: x.id)\n",
    "\n",
    "# print models which contains gpt in the name\n",
    "pprint(models)\n",
    "\n"
   ]
  },
  {
   "cell_type": "code",
   "execution_count": 5,
   "metadata": {},
   "outputs": [
    {
     "name": "stdout",
     "output_type": "stream",
     "text": [
      "('The planets of the solar system, in order from the Sun, are:\\n'\n",
      " '\\n'\n",
      " '1. Mercury\\n'\n",
      " '2. Venus\\n'\n",
      " '3. Earth\\n'\n",
      " '4. Mars\\n'\n",
      " '5. Jupiter\\n'\n",
      " '6. Saturn\\n'\n",
      " '7. Uranus\\n'\n",
      " '8. Neptune\\n'\n",
      " '\\n'\n",
      " 'Please note that Pluto was considered a planet until 2006 when it was '\n",
      " 'reclassified as a dwarf planet.')\n"
     ]
    }
   ],
   "source": [
    "response = aoai_client.chat.completions.create(\n",
    "    model=deployment_name,\n",
    "    messages=[\n",
    "        {\n",
    "            \"role\": \"system\",\n",
    "            \"content\": \"You are teacher and help studends learn phisics, geography and chemistry.\",\n",
    "        },\n",
    "        {\n",
    "            \"role\": \"user\",\n",
    "            \"content\": \"Name the planets of the solar system.\",\n",
    "        },\n",
    "    ],\n",
    ")\n",
    "\n",
    "pprint(response.choices[0].message.content)"
   ]
  },
  {
   "cell_type": "markdown",
   "metadata": {},
   "source": [
    "## Create a request to the OpenAI via promptsail proxy"
   ]
  },
  {
   "cell_type": "markdown",
   "metadata": {},
   "source": [
    "Run the docker and go to PromptSail UI http://localhost/\n",
    "\n",
    "Create new project with you `project_slug`or edit existing one.\n",
    "\n",
    "Add your own Azure OpenAI provider by editing the project settings, this will map the Azure OpenAI endpoint to new proxy prompt sail URL. \n",
    "\n",
    "Set the `api base url` to your Azure OpenAI endpoint like\n",
    " \n",
    "'https://**azure_openai_resource**.openai.azure.com/'\n",
    " \n",
    " and add meaningfull `deployment name`.\n",
    "\n",
    "\n",
    "In mongo it will create new entry in `ai_providers` array, similar to this one\n",
    "\n",
    "```bash\n",
    "{\n",
    "     ai_providers: [\n",
    "        {\n",
    "            deployment_name: 'azure US deployment',\n",
    "            slug: 'azure-us-deployment',\n",
    "            api_base: 'https://[azure_openai_resource].openai.azure.com/',\n",
    "            description: '',\n",
    "            provider_name: 'Azure OpenAI'\n",
    "        }\n",
    "    ],\n",
    "}\n",
    "```\n",
    "\n",
    "In this case we will use the default `project 2` settings:\n",
    "* with project_slug -> 'project2' \n",
    "* deployment_name -> 'azure-us-deployment'\n",
    "resulting in promptsail proxy url like this: \n",
    "\n",
    "**\"http://localhost:8000/project2/azure-us-deployment\"**"
   ]
  },
  {
   "cell_type": "code",
   "execution_count": 6,
   "metadata": {},
   "outputs": [
    {
     "name": "stdout",
     "output_type": "stream",
     "text": [
      "('The planets in our solar system, in order from closest to the Sun to '\n",
      " 'farthest, are:\\n'\n",
      " '\\n'\n",
      " '1. Mercury\\n'\n",
      " '2. Venus\\n'\n",
      " '3. Earth\\n'\n",
      " '4. Mars\\n'\n",
      " '5. Jupiter\\n'\n",
      " '6. Saturn\\n'\n",
      " '7. Uranus\\n'\n",
      " '8. Neptune\\n'\n",
      " '\\n'\n",
      " 'Please note that Pluto used to be considered the ninth planet, but it has '\n",
      " 'since been reclassified as a \"dwarf planet\" by the International '\n",
      " 'Astronomical Union (IAU).')\n"
     ]
    }
   ],
   "source": [
    "\n",
    "ps_api_base = \"http://localhost:8000/project2/azure-us-deployment\"\n",
    "\n",
    "ps_api_base = \"http://localhost:8000/edu-project/ps-us2\"\n",
    "\n",
    "\n",
    "ps_client = AzureOpenAI(\n",
    "    api_key=azure_oai_key,\n",
    "    azure_endpoint=ps_api_base,\n",
    "    api_version=api_version,\n",
    ")\n",
    "\n",
    "\n",
    "response = ps_client.chat.completions.create(\n",
    "    model=deployment_name,\n",
    "    messages=[\n",
    "        {\n",
    "            \"role\": \"system\",\n",
    "            \"content\": \"You are teacher and help studends learn phisics, geography and chemistry.\",\n",
    "        },\n",
    "        {\n",
    "            \"role\": \"user\",\n",
    "            \"content\": \"Name the plantets in solar system.\",\n",
    "        },\n",
    "    ],\n",
    ")\n",
    "\n",
    "pprint(response.choices[0].message.content)\n",
    "\n"
   ]
  },
  {
   "cell_type": "code",
   "execution_count": null,
   "metadata": {},
   "outputs": [],
   "source": []
  }
 ],
 "metadata": {
  "kernelspec": {
   "display_name": "prompt-sail-hDSOLtZB-py3.10",
   "language": "python",
   "name": "python3"
  },
  "language_info": {
   "codemirror_mode": {
    "name": "ipython",
    "version": 3
   },
   "file_extension": ".py",
   "mimetype": "text/x-python",
   "name": "python",
   "nbconvert_exporter": "python",
   "pygments_lexer": "ipython3",
   "version": "3.10.6"
  }
 },
 "nbformat": 4,
 "nbformat_minor": 2
}
