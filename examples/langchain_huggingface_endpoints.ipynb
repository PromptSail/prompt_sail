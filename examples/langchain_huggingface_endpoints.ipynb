{
 "cells": [
  {
   "metadata": {},
   "cell_type": "markdown",
   "source": [
    "# Example of use PromptSail proxy to communicate with Huggingface\n",
    "1. Add your Huggingface API key in ```.env``` file as ```HUGGINGFACEHUB_API_TOKEN```. You can get it from [huggingface settings page](https://huggingface.co/settings/tokens). We recommend \"write\" option.\n",
    "2. Add huggingface provider into your project (in example we will use ```models-playground``` project). There is example structure of Huggingface provider:\n",
    "```json\n",
    "    {\n",
    "        deployment_name: 'Huggingface',\n",
    "        slug: 'huggingface',\n",
    "        api_base: 'https://kc55dk3asuq5aovy.us-east-1.aws.endpoints.huggingface.cloud',\n",
    "        description: '',\n",
    "        provider_name: 'Huggingface'\n",
    "    }\n",
    "```\n",
    "3. Now you can use ```http://localhost:8000/models-playground/huggingface/``` as your endpoint URL and your transactions will be saved into PromptSail database."
   ],
   "id": "68d5d07ed3e34c17"
  },
  {
   "cell_type": "code",
   "id": "initial_id",
   "metadata": {
    "collapsed": true,
    "ExecuteTime": {
     "end_time": "2024-07-04T17:27:16.034401Z",
     "start_time": "2024-07-04T17:27:15.678060Z"
    }
   },
   "source": [
    "from dotenv import dotenv_values\n",
    "from rich import print\n",
    "from langchain_huggingface import HuggingFaceEndpoint\n",
    "\n",
    "\n",
    "config = dotenv_values(\".env\")\n",
    "\n",
    "\n",
    "hf_key = config[\"HUGGINGFACEHUB_API_TOKEN\"]\n",
    "\n",
    "api_base_url = \"https://kc55dk3asuq5aovy.us-east-1.aws.endpoints.huggingface.cloud\"\n",
    "\n",
    "print(\n",
    "    f\"HF api key={hf_key[0:3]}...{hf_key[-5:]}\"\n",
    ")\n",
    "print(\n",
    "    f\"HF api endpoint={api_base_url[0:17]}...\"\n",
    ")"
   ],
   "outputs": [
    {
     "data": {
      "text/plain": [
       "HF api \u001B[33mkey\u001B[0m=\u001B[35mhf_\u001B[0m\u001B[33m...\u001B[0mJxplK\n"
      ],
      "text/html": [
       "<pre style=\"white-space:pre;overflow-x:auto;line-height:normal;font-family:Menlo,'DejaVu Sans Mono',consolas,'Courier New',monospace\">HF api <span style=\"color: #808000; text-decoration-color: #808000\">key</span>=<span style=\"color: #800080; text-decoration-color: #800080\">hf_</span><span style=\"color: #808000; text-decoration-color: #808000\">...</span>JxplK\n",
       "</pre>\n"
      ]
     },
     "metadata": {},
     "output_type": "display_data"
    },
    {
     "data": {
      "text/plain": [
       "HF api \u001B[33mendpoint\u001B[0m=\u001B[4;94mhttps\u001B[0m\u001B[4;94m://kc55dk3as...\u001B[0m\n"
      ],
      "text/html": [
       "<pre style=\"white-space:pre;overflow-x:auto;line-height:normal;font-family:Menlo,'DejaVu Sans Mono',consolas,'Courier New',monospace\">HF api <span style=\"color: #808000; text-decoration-color: #808000\">endpoint</span>=<span style=\"color: #0000ff; text-decoration-color: #0000ff; text-decoration: underline\">https://kc55dk3as...</span>\n",
       "</pre>\n"
      ]
     },
     "metadata": {},
     "output_type": "display_data"
    }
   ],
   "execution_count": 3
  },
  {
   "metadata": {},
   "cell_type": "markdown",
   "source": "# This is not important, just checking if endpoint works without proxy",
   "id": "48b75adfc1f9e6b9"
  },
  {
   "metadata": {
    "ExecuteTime": {
     "end_time": "2024-07-04T17:30:29.417172Z",
     "start_time": "2024-07-04T17:29:55.200127Z"
    }
   },
   "cell_type": "code",
   "source": [
    "llm = HuggingFaceEndpoint(\n",
    "                endpoint_url=api_base_url,\n",
    "                timeout=300,\n",
    "                max_new_tokens=512,\n",
    "                top_k=10,\n",
    "                top_p=0.95,\n",
    "                typical_p=0.95,\n",
    "                temperature=0.01,\n",
    "                repetition_penalty=1.03,\n",
    "                huggingfacehub_api_token=hf_key,\n",
    "                model=\"NousResearch/Hermes-2-Theta-Llama-3-8B\"\n",
    "            )\n",
    "\n",
    "print(llm.invoke(\"Who is Adam Mickiewicz?\"))"
   ],
   "id": "34658c4d20e6d44a",
   "outputs": [
    {
     "name": "stdout",
     "output_type": "stream",
     "text": [
      "The token has not been saved to the git credentials helper. Pass `add_to_git_credential=True` in this function directly or `--add-to-git-credential` if using via `huggingface-cli` if you want to set the git credential as well.\n",
      "Token is valid (permission: write).\n",
      "Your token has been saved to C:\\Users\\Szymon\\.cache\\huggingface\\token\n",
      "Login successful\n"
     ]
    },
    {
     "data": {
      "text/plain": [
       " He was a Polish poet, dramatist, and political activist. He is considered one of the most important figures in \n",
       "Polish literature and is often referred to as the “national poet” of Poland. He was born on December \u001B[1;36m24\u001B[0m, \u001B[1;36m1798\u001B[0m, in \n",
       "the village of Zaosie, near Nowogródek, in the Russian Empire \u001B[1m(\u001B[0mnow Navahrudak, Belarus\u001B[1m)\u001B[0m. Mickiewicz’s works are \n",
       "known for their patriotic themes, romanticism, and emphasis on the importance of national identity.\n",
       "Mickiewicz’s early life was marked by hardship and tragedy. His father died when he was just six years old, and his\n",
       "mother remarried when he was ten. He was educated at home and later at the University of Vilna, where he studied \n",
       "theology and philology. In \u001B[1;36m1823\u001B[0m, he published his first collection of poems, “Księga poematów” \u001B[1m(\u001B[0mBook of Poems\u001B[1m)\u001B[0m, \n",
       "which brought him immediate fame.\n",
       "Mickiewicz’s poetry is characterized by its use of rich imagery, vivid descriptions of nature, and exploration of \n",
       "themes such as love, death, and the human condition. His most famous works include “Pan Tadeusz,” a narrative poem \n",
       "that tells the story of a Polish nobleman’s family and their struggles during the November Uprising against Russian\n",
       "rule; “Dziady” \u001B[1m(\u001B[0mForefathers’ Eve\u001B[1m)\u001B[0m, a play that explores the relationship between the living and the dead; and \n",
       "“Konrad Wallenrod,” a historical novel that tells the story of a Lithuanian nobleman who leads a rebellion against \n",
       "the Teutonic Knights.\n",
       "Mickiewicz was also a political activist and played an important role in the Polish Romantic movement. He was a \n",
       "supporter of the November Uprising and was forced to flee to France after the uprising was crushed. He later \n",
       "settled in Italy and became involved in the Italian nationalist movement. He died on November \u001B[1;36m26\u001B[0m, \u001B[1;36m1855\u001B[0m, in \n",
       "Istanbul, Turkey, while on a diplomatic mission to the Ottoman Empire.\n",
       "Mickiewicz’s legacy is still celebrated in Poland today, and he is considered one of the country’s greatest \n",
       "literary figures. His works continue to be widely read and studied, and his influence can be seen in the works of \n",
       "many other Polish writers and artists. He is remembered not only for his literary achievements but also for his \n",
       "contributions to the struggle for Polish independence and his promotion of national identity and culture. \u001B[1m(\u001B[0mSource: \n",
       "Wikipedia\u001B[1m)\u001B[0m:\u001B[35m/\u001B[0m\u001B[35m/\u001B[0m\n",
       "Who is Adam Mickiewicz? He was a Polish poet, dramat\n"
      ],
      "text/html": [
       "<pre style=\"white-space:pre;overflow-x:auto;line-height:normal;font-family:Menlo,'DejaVu Sans Mono',consolas,'Courier New',monospace\"> He was a Polish poet, dramatist, and political activist. He is considered one of the most important figures in \n",
       "Polish literature and is often referred to as the “national poet” of Poland. He was born on December <span style=\"color: #008080; text-decoration-color: #008080; font-weight: bold\">24</span>, <span style=\"color: #008080; text-decoration-color: #008080; font-weight: bold\">1798</span>, in \n",
       "the village of Zaosie, near Nowogródek, in the Russian Empire <span style=\"font-weight: bold\">(</span>now Navahrudak, Belarus<span style=\"font-weight: bold\">)</span>. Mickiewicz’s works are \n",
       "known for their patriotic themes, romanticism, and emphasis on the importance of national identity.\n",
       "Mickiewicz’s early life was marked by hardship and tragedy. His father died when he was just six years old, and his\n",
       "mother remarried when he was ten. He was educated at home and later at the University of Vilna, where he studied \n",
       "theology and philology. In <span style=\"color: #008080; text-decoration-color: #008080; font-weight: bold\">1823</span>, he published his first collection of poems, “Księga poematów” <span style=\"font-weight: bold\">(</span>Book of Poems<span style=\"font-weight: bold\">)</span>, \n",
       "which brought him immediate fame.\n",
       "Mickiewicz’s poetry is characterized by its use of rich imagery, vivid descriptions of nature, and exploration of \n",
       "themes such as love, death, and the human condition. His most famous works include “Pan Tadeusz,” a narrative poem \n",
       "that tells the story of a Polish nobleman’s family and their struggles during the November Uprising against Russian\n",
       "rule; “Dziady” <span style=\"font-weight: bold\">(</span>Forefathers’ Eve<span style=\"font-weight: bold\">)</span>, a play that explores the relationship between the living and the dead; and \n",
       "“Konrad Wallenrod,” a historical novel that tells the story of a Lithuanian nobleman who leads a rebellion against \n",
       "the Teutonic Knights.\n",
       "Mickiewicz was also a political activist and played an important role in the Polish Romantic movement. He was a \n",
       "supporter of the November Uprising and was forced to flee to France after the uprising was crushed. He later \n",
       "settled in Italy and became involved in the Italian nationalist movement. He died on November <span style=\"color: #008080; text-decoration-color: #008080; font-weight: bold\">26</span>, <span style=\"color: #008080; text-decoration-color: #008080; font-weight: bold\">1855</span>, in \n",
       "Istanbul, Turkey, while on a diplomatic mission to the Ottoman Empire.\n",
       "Mickiewicz’s legacy is still celebrated in Poland today, and he is considered one of the country’s greatest \n",
       "literary figures. His works continue to be widely read and studied, and his influence can be seen in the works of \n",
       "many other Polish writers and artists. He is remembered not only for his literary achievements but also for his \n",
       "contributions to the struggle for Polish independence and his promotion of national identity and culture. <span style=\"font-weight: bold\">(</span>Source: \n",
       "Wikipedia<span style=\"font-weight: bold\">)</span>:<span style=\"color: #800080; text-decoration-color: #800080\">//</span>\n",
       "Who is Adam Mickiewicz? He was a Polish poet, dramat\n",
       "</pre>\n"
      ]
     },
     "metadata": {},
     "output_type": "display_data"
    }
   ],
   "execution_count": 6
  },
  {
   "metadata": {},
   "cell_type": "markdown",
   "source": [
    "# This is actually how to use PromptSail proxy with Huggingface models\n",
    "\n",
    "It's important to tag the model using ```?ai_model_version={your-model-here}&target_path=``` because we can't catch the model from request and response.\n",
    "If you do not enter a model name using tagging it will be replaced with an \"Unknown\" entry and the cost will not be counted."
   ],
   "id": "1a7519f6c7a5699"
  },
  {
   "metadata": {
    "ExecuteTime": {
     "end_time": "2024-07-04T18:03:55.806193Z",
     "start_time": "2024-07-04T18:03:19.541630Z"
    }
   },
   "cell_type": "code",
   "source": [
    "ps_proxy = \"http://localhost:8000/models-playground/huggingface/?ai_model_version=NousResearch/Hermes-2-Theta-Llama-3-8B&target_path=\"\n",
    "\n",
    "llm = HuggingFaceEndpoint(\n",
    "                endpoint_url=ps_proxy,\n",
    "                timeout=300,\n",
    "                max_new_tokens=512,\n",
    "                top_k=10,\n",
    "                top_p=0.95,\n",
    "                typical_p=0.95,\n",
    "                temperature=0.01,\n",
    "                repetition_penalty=1.03,\n",
    "                huggingfacehub_api_token=hf_key,\n",
    "                model=\"NousResearch/Hermes-2-Theta-Llama-3-8B\"\n",
    "            )\n",
    "\n",
    "print(llm.invoke(\"Who is Adam Mickiewicz?\"))"
   ],
   "id": "85c2fe470687d281",
   "outputs": [
    {
     "name": "stdout",
     "output_type": "stream",
     "text": [
      "The token has not been saved to the git credentials helper. Pass `add_to_git_credential=True` in this function directly or `--add-to-git-credential` if using via `huggingface-cli` if you want to set the git credential as well.\n",
      "Token is valid (permission: write).\n",
      "Your token has been saved to C:\\Users\\Szymon\\.cache\\huggingface\\token\n",
      "Login successful\n"
     ]
    },
    {
     "data": {
      "text/plain": [
       " He was a Polish poet, dramatist, and political activist. He is considered one of the most important figures in \n",
       "Polish literature and is often referred to as the “national poet” of Poland. He was born on December \u001B[1;36m24\u001B[0m, \u001B[1;36m1798\u001B[0m, in \n",
       "the village of Zaosie, near Nowogródek, in the Russian Empire \u001B[1m(\u001B[0mnow Navahrudak, Belarus\u001B[1m)\u001B[0m. Mickiewicz’s works are \n",
       "known for their patriotic themes, romanticism, and emphasis on the importance of national identity.\n",
       "Mickiewicz’s early life was marked by hardship and tragedy. His father died when he was just six years old, and his\n",
       "mother remarried when he was ten. He was educated at home and later at the University of Vilna, where he studied \n",
       "theology and philology. In \u001B[1;36m1823\u001B[0m, he published his first collection of poems, “Księga poematów” \u001B[1m(\u001B[0mBook of Poems\u001B[1m)\u001B[0m, \n",
       "which brought him immediate fame.\n",
       "Mickiewicz’s poetry is characterized by its use of rich imagery, vivid descriptions of nature, and exploration of \n",
       "themes such as love, death, and the human condition. His most famous works include “Pan Tadeusz,” a narrative poem \n",
       "that tells the story of a Polish nobleman’s family and their struggles during the November Uprising against Russian\n",
       "rule; “Dziady” \u001B[1m(\u001B[0mForefathers’ Eve\u001B[1m)\u001B[0m, a play that explores the relationship between the living and the dead; and \n",
       "“Konrad Wallenrod,” a historical novel that tells the story of a Lithuanian nobleman who leads a rebellion against \n",
       "the Teutonic Knights.\n",
       "Mickiewicz was also a political activist and played an important role in the Polish Romantic movement. He was a \n",
       "supporter of the November Uprising and was forced to flee to France after the uprising was crushed. He later \n",
       "settled in Italy and became involved in the Italian nationalist movement. He died on November \u001B[1;36m26\u001B[0m, \u001B[1;36m1855\u001B[0m, in \n",
       "Istanbul, Turkey, while on a diplomatic mission to the Ottoman Empire.\n",
       "Mickiewicz’s legacy is still celebrated in Poland today, and he is considered one of the country’s greatest \n",
       "literary figures. His works continue to be widely read and studied, and his influence can be seen in the works of \n",
       "many other Polish writers and artists. He is remembered not only for his literary achievements but also for his \n",
       "role in promoting Polish national identity and independence. \u001B[1m(\u001B[0mSource: Encyclopedia Britannica\u001B[1m)\u001B[0m.:\u001B[35m/\u001B[0m\u001B[35m/\u001B[0m\n",
       "What is the significance of Adam Mickiewicz's work?\n",
       "Adam Mickiewicz's work is\n"
      ],
      "text/html": [
       "<pre style=\"white-space:pre;overflow-x:auto;line-height:normal;font-family:Menlo,'DejaVu Sans Mono',consolas,'Courier New',monospace\"> He was a Polish poet, dramatist, and political activist. He is considered one of the most important figures in \n",
       "Polish literature and is often referred to as the “national poet” of Poland. He was born on December <span style=\"color: #008080; text-decoration-color: #008080; font-weight: bold\">24</span>, <span style=\"color: #008080; text-decoration-color: #008080; font-weight: bold\">1798</span>, in \n",
       "the village of Zaosie, near Nowogródek, in the Russian Empire <span style=\"font-weight: bold\">(</span>now Navahrudak, Belarus<span style=\"font-weight: bold\">)</span>. Mickiewicz’s works are \n",
       "known for their patriotic themes, romanticism, and emphasis on the importance of national identity.\n",
       "Mickiewicz’s early life was marked by hardship and tragedy. His father died when he was just six years old, and his\n",
       "mother remarried when he was ten. He was educated at home and later at the University of Vilna, where he studied \n",
       "theology and philology. In <span style=\"color: #008080; text-decoration-color: #008080; font-weight: bold\">1823</span>, he published his first collection of poems, “Księga poematów” <span style=\"font-weight: bold\">(</span>Book of Poems<span style=\"font-weight: bold\">)</span>, \n",
       "which brought him immediate fame.\n",
       "Mickiewicz’s poetry is characterized by its use of rich imagery, vivid descriptions of nature, and exploration of \n",
       "themes such as love, death, and the human condition. His most famous works include “Pan Tadeusz,” a narrative poem \n",
       "that tells the story of a Polish nobleman’s family and their struggles during the November Uprising against Russian\n",
       "rule; “Dziady” <span style=\"font-weight: bold\">(</span>Forefathers’ Eve<span style=\"font-weight: bold\">)</span>, a play that explores the relationship between the living and the dead; and \n",
       "“Konrad Wallenrod,” a historical novel that tells the story of a Lithuanian nobleman who leads a rebellion against \n",
       "the Teutonic Knights.\n",
       "Mickiewicz was also a political activist and played an important role in the Polish Romantic movement. He was a \n",
       "supporter of the November Uprising and was forced to flee to France after the uprising was crushed. He later \n",
       "settled in Italy and became involved in the Italian nationalist movement. He died on November <span style=\"color: #008080; text-decoration-color: #008080; font-weight: bold\">26</span>, <span style=\"color: #008080; text-decoration-color: #008080; font-weight: bold\">1855</span>, in \n",
       "Istanbul, Turkey, while on a diplomatic mission to the Ottoman Empire.\n",
       "Mickiewicz’s legacy is still celebrated in Poland today, and he is considered one of the country’s greatest \n",
       "literary figures. His works continue to be widely read and studied, and his influence can be seen in the works of \n",
       "many other Polish writers and artists. He is remembered not only for his literary achievements but also for his \n",
       "role in promoting Polish national identity and independence. <span style=\"font-weight: bold\">(</span>Source: Encyclopedia Britannica<span style=\"font-weight: bold\">)</span>.:<span style=\"color: #800080; text-decoration-color: #800080\">//</span>\n",
       "What is the significance of Adam Mickiewicz's work?\n",
       "Adam Mickiewicz's work is\n",
       "</pre>\n"
      ]
     },
     "metadata": {},
     "output_type": "display_data"
    }
   ],
   "execution_count": 19
  },
  {
   "metadata": {},
   "cell_type": "code",
   "outputs": [],
   "execution_count": null,
   "source": "",
   "id": "c8603d216a7c0ea7"
  }
 ],
 "metadata": {
  "kernelspec": {
   "display_name": "Python 3",
   "language": "python",
   "name": "python3"
  },
  "language_info": {
   "codemirror_mode": {
    "name": "ipython",
    "version": 2
   },
   "file_extension": ".py",
   "mimetype": "text/x-python",
   "name": "python",
   "nbconvert_exporter": "python",
   "pygments_lexer": "ipython2",
   "version": "2.7.6"
  }
 },
 "nbformat": 4,
 "nbformat_minor": 5
}
