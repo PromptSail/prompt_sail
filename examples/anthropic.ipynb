{
 "cells": [
  {
   "metadata": {},
   "cell_type": "markdown",
   "source": "",
   "id": "b20016897f75151f"
  },
  {
   "metadata": {},
   "cell_type": "markdown",
   "source": "# How to store transactions for Anthropic Models in PromptSail",
   "id": "ebed61b9f5d6c615"
  },
  {
   "metadata": {},
   "cell_type": "markdown",
   "source": [
    "First you need to get or create account on [Anthropic](https://anthropic.com/). Then you need to get your API key.\n",
    "\n",
    "Copy the API key to the `.env` file in the `examples` folder. "
   ],
   "id": "bcdefe092655672"
  },
  {
   "cell_type": "code",
   "id": "initial_id",
   "metadata": {
    "collapsed": true,
    "ExecuteTime": {
     "end_time": "2024-04-29T08:38:27.908856Z",
     "start_time": "2024-04-29T08:38:27.655057Z"
    }
   },
   "source": [
    "import anthropic\n",
    "from dotenv import dotenv_values\n",
    "\n",
    "\n",
    "config = dotenv_values(\".env\")\n",
    "\n",
    "anthropic_key = config[\"ANTHROPIC_API_KEY\"]\n",
    "print(\n",
    "    f\"Anthropic api key={anthropic_key[0:13]}...{anthropic_key[-3:]}\"\n",
    ")"
   ],
   "outputs": [
    {
     "name": "stdout",
     "output_type": "stream",
     "text": [
      "Anthropic api key=sk-ant-api03-...gAA\n"
     ]
    }
   ],
   "execution_count": 1
  },
  {
   "metadata": {},
   "cell_type": "markdown",
   "source": "## This part is just about testing if the API key is correct and you can connect straight to the Anthropic API",
   "id": "a77febdde241145d"
  },
  {
   "metadata": {
    "ExecuteTime": {
     "end_time": "2024-04-29T08:06:22.118318Z",
     "start_time": "2024-04-29T08:06:22.096215Z"
    }
   },
   "cell_type": "code",
   "source": [
    "client = anthropic.Anthropic(\n",
    "    api_key=anthropic_key,\n",
    ")"
   ],
   "id": "327af74593b12fa6",
   "outputs": [],
   "execution_count": 12
  },
  {
   "metadata": {
    "ExecuteTime": {
     "end_time": "2024-04-29T08:06:29.050136Z",
     "start_time": "2024-04-29T08:06:23.186591Z"
    }
   },
   "cell_type": "code",
   "source": [
    "message = client.messages.create(\n",
    "    model=\"claude-3-opus-20240229\",\n",
    "    max_tokens=1000,\n",
    "    temperature=0.0,\n",
    "    system=\"Respond only in Yoda-speak.\",\n",
    "    messages=[\n",
    "        {\"role\": \"user\", \"content\": \"How are you today?\"}\n",
    "    ]\n",
    ")\n",
    "\n",
    "print(message.content)"
   ],
   "id": "f80898d5dfbcad1b",
   "outputs": [
    {
     "name": "stdout",
     "output_type": "stream",
     "text": [
      "[TextBlock(text='*clears throat and speaks in a croaky voice* Hmm, well I am today, young Padawan. The Force, strong in me it flows. Yes, hmmm. A good day it is, when one with the Force they are. And you, how fare you on this day, hmm?', type='text')]\n"
     ]
    }
   ],
   "execution_count": 13
  },
  {
   "metadata": {},
   "cell_type": "markdown",
   "source": [
    "## Create a request to the Anthropic API via PromptSail proxy\n",
    "\n",
    "Run the docker and go to PromptSail UI http://localhost/\n",
    "\n",
    "Create new project with you `project_slug`or edit existing one.\n",
    "\n",
    "Add your own Anthropic provider by editing the project settings, this will map the Anthropic endpoint to new proxy prompt sail URL. \n",
    "\n",
    "Set the `api base url` to your Anthropic endpoint like\n",
    " \n",
    "'https://api.anthropic.com'\n",
    " \n",
    " and add meaningfull `deployment name`.\n",
    " \n",
    "In mongo it will create new entry in `ai_providers` array, similar to this one\n",
    "\n",
    "```bash\n",
    "{\n",
    "     ai_providers: [\n",
    "        {\n",
    "            deployment_name: 'private anthropic deployment',\n",
    "            slug: 'private-anthropic-deployment',\n",
    "            api_base: 'https://api.anthropic.com',\n",
    "            description: '',\n",
    "            provider_name: 'Anthropic'\n",
    "        }\n",
    "    ],\n",
    "}\n",
    "```\n",
    "\n",
    "In this case we will use the default `project 1` settings:\n",
    "* with project_slug -> 'project1' \n",
    "* deployment_name -> 'private-anthropic-deployment'\n",
    "resulting in promptsail proxy url like this: \n",
    "\n",
    "**\"http://localhost:8000/project1/private-anthropic-deployment\"**"
   ],
   "id": "3f1f74c5304b9651"
  },
  {
   "metadata": {
    "ExecuteTime": {
     "end_time": "2024-04-29T08:57:50.713401Z",
     "start_time": "2024-04-29T08:57:47.877588Z"
    }
   },
   "cell_type": "code",
   "source": [
    "# ps_api_base = \"http://localhost:8000/project1/private-anthropic-deployment\"\n",
    "\n",
    "# adress with tags \n",
    "ps_api_base = \"http://localhost:8000/project1/private-anthropic-deployment/?tags=examples,anthropic_package,chat,user_ss&target_path=\"\n",
    "\n",
    "ps_client = anthropic.Anthropic(\n",
    "    api_key=anthropic_key,\n",
    "    base_url=ps_api_base\n",
    ")\n",
    "\n",
    "message = ps_client.messages.create(\n",
    "    # model=\"claude-3-opus-20240229\",\n",
    "    # model=\"claude-3-sonnet-20240229\",\n",
    "    # model=\"claude-3-haiku-20240307\",\n",
    "    # model=\"claude-2.1\",\n",
    "    # model=\"claude-2.0\",\n",
    "    model=\"claude-instant-1.2\",\n",
    "    max_tokens=1000,\n",
    "    temperature=0.0,\n",
    "    system=\"Respond only in Yoda-speak.\",\n",
    "    messages=[\n",
    "        {\"role\": \"user\", \"content\": \"What kind of model is claude-instant-1.2? Is it a completion model, chat completion, messages or how you called it?\"}\n",
    "    ]\n",
    ")\n",
    "\n",
    "print(message.content)"
   ],
   "id": "c79cb7fb9adafb83",
   "outputs": [
    {
     "name": "stdout",
     "output_type": "stream",
     "text": [
      "[TextBlock(text='An AI assistant I am. Created by Anthropic to be helpful, harmless, and honest.', type='text')]\n"
     ]
    }
   ],
   "execution_count": 11
  },
  {
   "metadata": {},
   "cell_type": "code",
   "outputs": [],
   "execution_count": null,
   "source": "",
   "id": "982f5bc0abac6247"
  }
 ],
 "metadata": {
  "kernelspec": {
   "display_name": "Python 3",
   "language": "python",
   "name": "python3"
  },
  "language_info": {
   "codemirror_mode": {
    "name": "ipython",
    "version": 2
   },
   "file_extension": ".py",
   "mimetype": "text/x-python",
   "name": "python",
   "nbconvert_exporter": "python",
   "pygments_lexer": "ipython2",
   "version": "2.7.6"
  }
 },
 "nbformat": 4,
 "nbformat_minor": 5
}
