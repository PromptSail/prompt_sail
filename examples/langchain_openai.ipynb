{
 "cells": [
  {
   "cell_type": "markdown",
   "metadata": {},
   "source": [
    "# Prompt sail proxy for OpenAI with LangChain"
   ]
  },
  {
   "cell_type": "code",
   "execution_count": 2,
   "metadata": {},
   "outputs": [
    {
     "name": "stdout",
     "output_type": "stream",
     "text": [
      "OpenAI api loaded=sk...\n"
     ]
    }
   ],
   "source": [
    "from langchain.llms import OpenAI\n",
    "\n",
    "\n",
    "import os\n",
    "from dotenv import load_dotenv\n",
    "load_dotenv()\n",
    "\n",
    "print(f\"OpenAI api loaded={os.getenv('OPENAI_API_KEY')[0:2]}...\")"
   ]
  },
  {
   "cell_type": "markdown",
   "metadata": {},
   "source": [
    "At the application start we created two test projects with OpenAI API mappings. \n",
    "There are visible on main dashboard http://promptsail.local/\n",
    "\n",
    "\n",
    "* [project1](http://promptsail.local/ui/project/project1) -> https://api.openai.com/v1\n",
    "* [project2](http://promptsail.local/ui/project/project2) -> https://api.openai.com/v1\n",
    "\n"
   ]
  },
  {
   "cell_type": "code",
   "execution_count": null,
   "metadata": {},
   "outputs": [],
   "source": [
    "#api_base = \"http://project1.localhost:8000\"\n",
    "\n",
    "api_base = \"http://project1.promptsail.local\"\n",
    "\n",
    "llm = OpenAI(\n",
    "    model_name=\"text-davinci-003\", #\"gpt-3.5-turbo\", #,\n",
    "    openai_api_base=api_base,\n",
    ")\n",
    "response = llm(\"Explaining the meaning of life in two sentence.\")\n",
    "print(response)\n"
   ]
  }
 ],
 "metadata": {
  "kernelspec": {
   "display_name": "prompt-sail-hDSOLtZB-py3.10",
   "language": "python",
   "name": "python3"
  },
  "language_info": {
   "codemirror_mode": {
    "name": "ipython",
    "version": 3
   },
   "file_extension": ".py",
   "mimetype": "text/x-python",
   "name": "python",
   "nbconvert_exporter": "python",
   "pygments_lexer": "ipython3",
   "version": "3.10.6"
  }
 },
 "nbformat": 4,
 "nbformat_minor": 2
}
