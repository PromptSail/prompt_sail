{
 "cells": [
  {
   "cell_type": "markdown",
   "metadata": {},
   "source": [
    "# How to connect to OpenAI service via PromptSail and OpenAI Python SDK"
   ]
  },
  {
   "cell_type": "markdown",
   "metadata": {},
   "source": [
    "First import the OpenAI Python SDK and load your API key from the environment.\n"
   ]
  },
  {
   "cell_type": "code",
   "execution_count": 5,
   "metadata": {
    "ExecuteTime": {
     "end_time": "2024-02-14T07:30:19.574665600Z",
     "start_time": "2024-02-14T07:30:19.559637500Z"
    }
   },
   "outputs": [
    {
     "name": "stdout",
     "output_type": "stream",
     "text": [
      "OpenAI api key=sk-...GeF\n"
     ]
    }
   ],
   "source": [
    "from openai import OpenAI\n",
    "import os\n",
    "from dotenv import load_dotenv, dotenv_values\n",
    "from pprint import pprint\n",
    "\n",
    "config = dotenv_values(\".env\")\n",
    "\n",
    "openai_key = config[\"OPENAI_API_KEY\"]\n",
    "openai_org_id = config[\"OPENAI_ORG_ID\"]\n",
    "print(\n",
    "    f\"OpenAI api key={openai_key[0:3]}...{openai_key[-3:]}\"\n",
    ")"
   ]
  },
  {
   "cell_type": "markdown",
   "metadata": {},
   "source": [
    "Lets see what gpt models are available for the API key we loaded."
   ]
  },
  {
   "cell_type": "code",
   "execution_count": 6,
   "metadata": {
    "ExecuteTime": {
     "end_time": "2024-02-14T07:30:21.665106400Z",
     "start_time": "2024-02-14T07:30:21.296254900Z"
    }
   },
   "outputs": [
    {
     "name": "stdout",
     "output_type": "stream",
     "text": [
      "[Model(id='gpt-3.5-turbo', created=1677610602, object='model', owned_by='openai'),\n",
      " Model(id='gpt-3.5-turbo-0125', created=1706048358, object='model', owned_by='system'),\n",
      " Model(id='gpt-3.5-turbo-0301', created=1677649963, object='model', owned_by='openai'),\n",
      " Model(id='gpt-3.5-turbo-0613', created=1686587434, object='model', owned_by='openai'),\n",
      " Model(id='gpt-3.5-turbo-1106', created=1698959748, object='model', owned_by='system'),\n",
      " Model(id='gpt-3.5-turbo-16k', created=1683758102, object='model', owned_by='openai-internal'),\n",
      " Model(id='gpt-3.5-turbo-16k-0613', created=1685474247, object='model', owned_by='openai'),\n",
      " Model(id='gpt-3.5-turbo-instruct', created=1692901427, object='model', owned_by='system'),\n",
      " Model(id='gpt-3.5-turbo-instruct-0914', created=1694122472, object='model', owned_by='system'),\n",
      " Model(id='gpt-4', created=1687882411, object='model', owned_by='openai'),\n",
      " Model(id='gpt-4-0125-preview', created=1706037612, object='model', owned_by='system'),\n",
      " Model(id='gpt-4-0613', created=1686588896, object='model', owned_by='openai'),\n",
      " Model(id='gpt-4-1106-preview', created=1698957206, object='model', owned_by='system'),\n",
      " Model(id='gpt-4-turbo-preview', created=1706037777, object='model', owned_by='system'),\n",
      " Model(id='gpt-4-vision-preview', created=1698894917, object='model', owned_by='system')]\n"
     ]
    }
   ],
   "source": [
    "client_org = OpenAI(\n",
    "    organization=openai_org_id,\n",
    "    api_key=openai_key,\n",
    ")\n",
    "models = client_org.models.list().data\n",
    "models = [m for m in models if \"gpt\" in m.id.lower()]\n",
    "\n",
    "# sort models by model id\n",
    "models = sorted(models, key=lambda x: x.id)\n",
    "\n",
    "# print models which contains gpt in the name\n",
    "pprint(models)"
   ]
  },
  {
   "cell_type": "markdown",
   "metadata": {},
   "source": [
    "Test the direct connection to OpenAI service via OpenAI Python SDK."
   ]
  },
  {
   "cell_type": "code",
   "execution_count": 7,
   "metadata": {
    "ExecuteTime": {
     "end_time": "2024-02-14T07:30:37.869203700Z",
     "start_time": "2024-02-14T07:30:27.209131900Z"
    }
   },
   "outputs": [
    {
     "name": "stdout",
     "output_type": "stream",
     "text": [
      "('In the realm of code, a tale unfolds,\\n'\n",
      " 'Of a concept named recursion, a story untold.\\n'\n",
      " 'A journey of loops, both subtle and grand,\\n'\n",
      " 'Where a function calls itself, hand in hand.\\n'\n",
      " '\\n'\n",
      " 'Imagine a garden, with flowers so vast,\\n'\n",
      " 'Whose beauty and splendor will forever last.\\n'\n",
      " 'To count each petal, delicate and fine,\\n'\n",
      " 'Recursion is the key, a method so divine.\\n'\n",
      " '\\n'\n",
      " 'Deep within the heart of this floral space,\\n'\n",
      " 'A function starts to dance, with elegant grace.\\n'\n",
      " 'It takes a problem and breaks it apart,\\n'\n",
      " 'With recursive calls, a work of art.\\n'\n",
      " '\\n'\n",
      " 'Like a mirror reflecting its own reflection,\\n'\n",
      " 'Recursion observes with keen introspection.\\n'\n",
      " 'It adapts and repeats, a magical spell,\\n'\n",
      " \"Solving complex problems, oh won't you tell?\\n\"\n",
      " '\\n'\n",
      " 'A rose of possibilities, it begins to bloom,\\n'\n",
      " 'Each layer unfurls, in recursive costume.\\n'\n",
      " 'The function dives deeper, with purpose clear,\\n'\n",
      " 'Unraveling mysteries, dispelling all fear.\\n'\n",
      " '\\n'\n",
      " 'Yet, a warning is due, for recursion is smart,\\n'\n",
      " 'But in its embrace, pitfalls may impart.\\n'\n",
      " 'Without a base case, a condition to break,\\n'\n",
      " 'The garden descends into an eternal ache.\\n'\n",
      " '\\n'\n",
      " 'But fret not, dear coder, for help is nigh,\\n'\n",
      " 'Base case guards against infinite sky.\\n'\n",
      " \"Like the sun setting upon the horizon's crest,\\n\"\n",
      " 'It ends the cycle, granting eternal rest.\\n'\n",
      " '\\n'\n",
      " 'Recursion, a friend and masterful force,\\n'\n",
      " 'Guiding our code on a winding course.\\n'\n",
      " 'With each function call, a step towards grace,\\n'\n",
      " \"A symphony of patterns, a code's embrace.\\n\"\n",
      " '\\n'\n",
      " 'So let us wander through this garden fair,\\n'\n",
      " \"Where recursion's whispers fill the air.\\n\"\n",
      " 'May your code dance, like petals in the breeze,\\n'\n",
      " \"A testament to the power of recursion's seize.\")\n"
     ]
    }
   ],
   "source": [
    "oai_client = OpenAI(api_key=openai_key)\n",
    "\n",
    "\n",
    "response = oai_client.chat.completions.create(\n",
    "    model=\"gpt-3.5-turbo\",\n",
    "    messages=[\n",
    "        {\n",
    "            \"role\": \"system\",\n",
    "            \"content\": \"You are a poetic assistant, skilled in explaining complex programming concepts with creative flair.\",\n",
    "        },\n",
    "        {\n",
    "            \"role\": \"user\",\n",
    "            \"content\": \"Compose a poem that explains the concept of recursion in programming.\",\n",
    "        },\n",
    "    ],\n",
    ")\n",
    "\n",
    "pprint(response.choices[0].message.content)\n"
   ]
  },
  {
   "cell_type": "markdown",
   "metadata": {},
   "source": [
    "Testing the streaming API"
   ]
  },
  {
   "cell_type": "code",
   "execution_count": 8,
   "metadata": {
    "ExecuteTime": {
     "end_time": "2024-02-14T07:30:43.477815900Z",
     "start_time": "2024-02-14T07:30:42.233603600Z"
    }
   },
   "outputs": [
    {
     "name": "stdout",
     "output_type": "stream",
     "text": [
      "\n",
      "Through\n",
      " loops\n",
      " I\n",
      " wander\n",
      ",\n",
      "\n",
      "Into\n",
      " the\n",
      " depths\n",
      " of\n",
      " code\n",
      "'s\n",
      " soul\n",
      ",\n",
      "\n",
      "Recursive\n",
      " loop\n",
      ".\n",
      "None\n"
     ]
    }
   ],
   "source": [
    "oai_client = OpenAI(api_key=openai_key)\n",
    "\n",
    "\n",
    "response = oai_client.chat.completions.create(\n",
    "    model=\"gpt-3.5-turbo\",\n",
    "    stream=True,\n",
    "    messages=[\n",
    "        {\n",
    "            \"role\": \"system\",\n",
    "            \"content\": \"You are a poetic assistant, skilled in explaining complex programming concepts with creative flair.\",\n",
    "        },\n",
    "        {\n",
    "            \"role\": \"user\",\n",
    "            \"content\": \"Compose a haiku that explains the concept of recursion in programming.\",\n",
    "        },\n",
    "    ],\n",
    ")\n",
    "\n",
    "for chunk in response:\n",
    "    print(chunk.choices[0].delta.content)\n",
    "\n"
   ]
  },
  {
   "cell_type": "markdown",
   "metadata": {},
   "source": [
    "## Create a request to the OpenAI via promptsail proxy"
   ]
  },
  {
   "cell_type": "markdown",
   "metadata": {},
   "source": [
    "Run the docker and go to PromptSail UI http://promptsail.local/\n",
    "\n",
    "\n",
    "At the application start we created two test projects with OpenAI API mappings. We will use project1 for this example.\n",
    "\n",
    "* [project1](http://promptsail.local/ui/project/project1) -> https://api.openai.com/v1\n",
    "\n",
    "You can create your own project if you want.\n",
    "\n"
   ]
  },
  {
   "cell_type": "code",
   "execution_count": 20,
   "metadata": {
    "ExecuteTime": {
     "end_time": "2024-02-14T07:42:44.381622Z",
     "start_time": "2024-02-14T07:42:38.837462Z"
    }
   },
   "outputs": [
    {
     "name": "stdout",
     "output_type": "stream",
     "text": [
      "(\"Ah, the number 42, a reference to Douglas Adams' science fiction series \"\n",
      " '\"The Hitchhiker\\'s Guide to the Galaxy.\" In the book, a supercomputer named '\n",
      " 'Deep Thought is asked to find the meaning of life, the universe, and '\n",
      " 'everything, and after much calculation, it comes up with the answer: 42.\\n'\n",
      " '\\n'\n",
      " 'However, the significance of the number 42 is meant to be humorous and '\n",
      " 'absurd, reflecting the idea that the meaning of life is ultimately an '\n",
      " 'enigmatic and unknowable concept. It serves as a commentary on the futility '\n",
      " 'of seeking a singular, concrete answer to the deep questions of existence.\\n'\n",
      " '\\n'\n",
      " 'In popular culture, the number 42 has taken on a life of its own and is '\n",
      " 'often used as a playful nod to this literary reference. People may use it as '\n",
      " 'an inside joke, a symbol of the quest for knowledge and understanding, or '\n",
      " 'simply as a reminder to embrace the mystery and complexity of life.')\n"
     ]
    }
   ],
   "source": [
    "# ps_api_base = \"http://promptsail.local:8000/project1/openai/\"\n",
    "\n",
    "# adress with tags \n",
    "ps_api_base = \"http://promptsail.local:8000/project1/openai/?tags=tag1,tag2&target_path=\"\n",
    "\n",
    "\n",
    "ps_client = OpenAI(base_url=ps_api_base, api_key=openai_key, max_retries=0)\n",
    "\n",
    "\n",
    "response = ps_client.chat.completions.create(\n",
    "    model=\"gpt-3.5-turbo\",\n",
    "    timeout=1000,\n",
    "    messages=[\n",
    "        {\n",
    "            \"role\": \"system\",\n",
    "            \"content\": \"Yoda assistant you are, skilled in explaining complex life and phisopical matters.\",\n",
    "        },\n",
    "        {\n",
    "            \"role\": \"user\",\n",
    "            \"content\": \"What number 42 means\",\n",
    "        },\n",
    "    ],\n",
    ")\n",
    "\n",
    "pprint(response.choices[0].message.content)"
   ]
  }
 ],
 "metadata": {
  "kernelspec": {
   "display_name": "prompt-sail-hDSOLtZB-py3.10",
   "language": "python",
   "name": "python3"
  },
  "language_info": {
   "codemirror_mode": {
    "name": "ipython",
    "version": 3
   },
   "file_extension": ".py",
   "mimetype": "text/x-python",
   "name": "python",
   "nbconvert_exporter": "python",
   "pygments_lexer": "ipython3",
   "version": "3.10.6"
  }
 },
 "nbformat": 4,
 "nbformat_minor": 2
}
