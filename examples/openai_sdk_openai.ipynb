{
 "cells": [
  {
   "cell_type": "markdown",
   "metadata": {},
   "source": [
    "# How to connect to OpenAI service via PromptSail and OpenAI Python SDK"
   ]
  },
  {
   "cell_type": "markdown",
   "metadata": {},
   "source": [
    "First import the OpenAI Python SDK and load your API key from the environment.\n",
    "\n",
    "\n",
    "Install all the necessary packages from [examples/pyproject.toml](pyproject.toml) by running the following command:\n",
    "\n",
    "```bash \n",
    "cd prompt_sail/examples\n",
    "poetry install\n",
    "```"
   ]
  },
  {
   "cell_type": "code",
   "execution_count": 1,
   "metadata": {
    "ExecuteTime": {
     "end_time": "2024-07-01T11:18:21.709560Z",
     "start_time": "2024-07-01T11:18:21.304243Z"
    }
   },
   "outputs": [
    {
     "data": {
      "text/html": [
       "<pre style=\"white-space:pre;overflow-x:auto;line-height:normal;font-family:Menlo,'DejaVu Sans Mono',consolas,'Courier New',monospace\">OpenAI api <span style=\"color: #808000; text-decoration-color: #808000\">key</span>=<span style=\"color: #800080; text-decoration-color: #800080\">sk</span>-<span style=\"color: #808000; text-decoration-color: #808000\">...</span>fRh\n",
       "</pre>\n"
      ],
      "text/plain": [
       "OpenAI api \u001b[33mkey\u001b[0m=\u001b[35msk\u001b[0m-\u001b[33m...\u001b[0mfRh\n"
      ]
     },
     "metadata": {},
     "output_type": "display_data"
    }
   ],
   "source": [
    "from openai import OpenAI\n",
    "import os\n",
    "from dotenv import load_dotenv, dotenv_values\n",
    "from rich import print\n",
    "\n",
    "config = dotenv_values(\".env\")\n",
    "\n",
    "openai_key = config[\"OPENAI_API_KEY\"]\n",
    "openai_org_id = config[\"OPENAI_ORG_ID\"]\n",
    "print(\n",
    "    f\"OpenAI api key={openai_key[0:3]}...{openai_key[-3:]}\"\n",
    ")"
   ]
  },
  {
   "cell_type": "markdown",
   "metadata": {},
   "source": [
    "Lets see what gpt models are available for the API key we loaded."
   ]
  },
  {
   "cell_type": "code",
   "execution_count": 2,
   "metadata": {
    "ExecuteTime": {
     "end_time": "2024-07-01T11:18:23.512730Z",
     "start_time": "2024-07-01T11:18:23.068398Z"
    }
   },
   "outputs": [
    {
     "data": {
      "text/html": [
       "<pre style=\"white-space:pre;overflow-x:auto;line-height:normal;font-family:Menlo,'DejaVu Sans Mono',consolas,'Courier New',monospace\"><span style=\"font-weight: bold\">[</span>\n",
       "    <span style=\"color: #800080; text-decoration-color: #800080; font-weight: bold\">Model</span><span style=\"font-weight: bold\">(</span><span style=\"color: #808000; text-decoration-color: #808000\">id</span>=<span style=\"color: #008000; text-decoration-color: #008000\">'gpt-3.5-turbo'</span>, <span style=\"color: #808000; text-decoration-color: #808000\">created</span>=<span style=\"color: #008080; text-decoration-color: #008080; font-weight: bold\">1677610602</span>, <span style=\"color: #808000; text-decoration-color: #808000\">object</span>=<span style=\"color: #008000; text-decoration-color: #008000\">'model'</span>, <span style=\"color: #808000; text-decoration-color: #808000\">owned_by</span>=<span style=\"color: #008000; text-decoration-color: #008000\">'openai'</span><span style=\"font-weight: bold\">)</span>,\n",
       "    <span style=\"color: #800080; text-decoration-color: #800080; font-weight: bold\">Model</span><span style=\"font-weight: bold\">(</span><span style=\"color: #808000; text-decoration-color: #808000\">id</span>=<span style=\"color: #008000; text-decoration-color: #008000\">'gpt-3.5-turbo-0125'</span>, <span style=\"color: #808000; text-decoration-color: #808000\">created</span>=<span style=\"color: #008080; text-decoration-color: #008080; font-weight: bold\">1706048358</span>, <span style=\"color: #808000; text-decoration-color: #808000\">object</span>=<span style=\"color: #008000; text-decoration-color: #008000\">'model'</span>, <span style=\"color: #808000; text-decoration-color: #808000\">owned_by</span>=<span style=\"color: #008000; text-decoration-color: #008000\">'system'</span><span style=\"font-weight: bold\">)</span>,\n",
       "    <span style=\"color: #800080; text-decoration-color: #800080; font-weight: bold\">Model</span><span style=\"font-weight: bold\">(</span><span style=\"color: #808000; text-decoration-color: #808000\">id</span>=<span style=\"color: #008000; text-decoration-color: #008000\">'gpt-3.5-turbo-0301'</span>, <span style=\"color: #808000; text-decoration-color: #808000\">created</span>=<span style=\"color: #008080; text-decoration-color: #008080; font-weight: bold\">1677649963</span>, <span style=\"color: #808000; text-decoration-color: #808000\">object</span>=<span style=\"color: #008000; text-decoration-color: #008000\">'model'</span>, <span style=\"color: #808000; text-decoration-color: #808000\">owned_by</span>=<span style=\"color: #008000; text-decoration-color: #008000\">'openai'</span><span style=\"font-weight: bold\">)</span>,\n",
       "    <span style=\"color: #800080; text-decoration-color: #800080; font-weight: bold\">Model</span><span style=\"font-weight: bold\">(</span><span style=\"color: #808000; text-decoration-color: #808000\">id</span>=<span style=\"color: #008000; text-decoration-color: #008000\">'gpt-3.5-turbo-0613'</span>, <span style=\"color: #808000; text-decoration-color: #808000\">created</span>=<span style=\"color: #008080; text-decoration-color: #008080; font-weight: bold\">1686587434</span>, <span style=\"color: #808000; text-decoration-color: #808000\">object</span>=<span style=\"color: #008000; text-decoration-color: #008000\">'model'</span>, <span style=\"color: #808000; text-decoration-color: #808000\">owned_by</span>=<span style=\"color: #008000; text-decoration-color: #008000\">'openai'</span><span style=\"font-weight: bold\">)</span>,\n",
       "    <span style=\"color: #800080; text-decoration-color: #800080; font-weight: bold\">Model</span><span style=\"font-weight: bold\">(</span><span style=\"color: #808000; text-decoration-color: #808000\">id</span>=<span style=\"color: #008000; text-decoration-color: #008000\">'gpt-3.5-turbo-1106'</span>, <span style=\"color: #808000; text-decoration-color: #808000\">created</span>=<span style=\"color: #008080; text-decoration-color: #008080; font-weight: bold\">1698959748</span>, <span style=\"color: #808000; text-decoration-color: #808000\">object</span>=<span style=\"color: #008000; text-decoration-color: #008000\">'model'</span>, <span style=\"color: #808000; text-decoration-color: #808000\">owned_by</span>=<span style=\"color: #008000; text-decoration-color: #008000\">'system'</span><span style=\"font-weight: bold\">)</span>,\n",
       "    <span style=\"color: #800080; text-decoration-color: #800080; font-weight: bold\">Model</span><span style=\"font-weight: bold\">(</span><span style=\"color: #808000; text-decoration-color: #808000\">id</span>=<span style=\"color: #008000; text-decoration-color: #008000\">'gpt-3.5-turbo-16k'</span>, <span style=\"color: #808000; text-decoration-color: #808000\">created</span>=<span style=\"color: #008080; text-decoration-color: #008080; font-weight: bold\">1683758102</span>, <span style=\"color: #808000; text-decoration-color: #808000\">object</span>=<span style=\"color: #008000; text-decoration-color: #008000\">'model'</span>, <span style=\"color: #808000; text-decoration-color: #808000\">owned_by</span>=<span style=\"color: #008000; text-decoration-color: #008000\">'openai-internal'</span><span style=\"font-weight: bold\">)</span>,\n",
       "    <span style=\"color: #800080; text-decoration-color: #800080; font-weight: bold\">Model</span><span style=\"font-weight: bold\">(</span><span style=\"color: #808000; text-decoration-color: #808000\">id</span>=<span style=\"color: #008000; text-decoration-color: #008000\">'gpt-3.5-turbo-16k-0613'</span>, <span style=\"color: #808000; text-decoration-color: #808000\">created</span>=<span style=\"color: #008080; text-decoration-color: #008080; font-weight: bold\">1685474247</span>, <span style=\"color: #808000; text-decoration-color: #808000\">object</span>=<span style=\"color: #008000; text-decoration-color: #008000\">'model'</span>, <span style=\"color: #808000; text-decoration-color: #808000\">owned_by</span>=<span style=\"color: #008000; text-decoration-color: #008000\">'openai'</span><span style=\"font-weight: bold\">)</span>,\n",
       "    <span style=\"color: #800080; text-decoration-color: #800080; font-weight: bold\">Model</span><span style=\"font-weight: bold\">(</span><span style=\"color: #808000; text-decoration-color: #808000\">id</span>=<span style=\"color: #008000; text-decoration-color: #008000\">'gpt-3.5-turbo-instruct'</span>, <span style=\"color: #808000; text-decoration-color: #808000\">created</span>=<span style=\"color: #008080; text-decoration-color: #008080; font-weight: bold\">1692901427</span>, <span style=\"color: #808000; text-decoration-color: #808000\">object</span>=<span style=\"color: #008000; text-decoration-color: #008000\">'model'</span>, <span style=\"color: #808000; text-decoration-color: #808000\">owned_by</span>=<span style=\"color: #008000; text-decoration-color: #008000\">'system'</span><span style=\"font-weight: bold\">)</span>,\n",
       "    <span style=\"color: #800080; text-decoration-color: #800080; font-weight: bold\">Model</span><span style=\"font-weight: bold\">(</span><span style=\"color: #808000; text-decoration-color: #808000\">id</span>=<span style=\"color: #008000; text-decoration-color: #008000\">'gpt-3.5-turbo-instruct-0914'</span>, <span style=\"color: #808000; text-decoration-color: #808000\">created</span>=<span style=\"color: #008080; text-decoration-color: #008080; font-weight: bold\">1694122472</span>, <span style=\"color: #808000; text-decoration-color: #808000\">object</span>=<span style=\"color: #008000; text-decoration-color: #008000\">'model'</span>, <span style=\"color: #808000; text-decoration-color: #808000\">owned_by</span>=<span style=\"color: #008000; text-decoration-color: #008000\">'system'</span><span style=\"font-weight: bold\">)</span>,\n",
       "    <span style=\"color: #800080; text-decoration-color: #800080; font-weight: bold\">Model</span><span style=\"font-weight: bold\">(</span><span style=\"color: #808000; text-decoration-color: #808000\">id</span>=<span style=\"color: #008000; text-decoration-color: #008000\">'gpt-4'</span>, <span style=\"color: #808000; text-decoration-color: #808000\">created</span>=<span style=\"color: #008080; text-decoration-color: #008080; font-weight: bold\">1687882411</span>, <span style=\"color: #808000; text-decoration-color: #808000\">object</span>=<span style=\"color: #008000; text-decoration-color: #008000\">'model'</span>, <span style=\"color: #808000; text-decoration-color: #808000\">owned_by</span>=<span style=\"color: #008000; text-decoration-color: #008000\">'openai'</span><span style=\"font-weight: bold\">)</span>,\n",
       "    <span style=\"color: #800080; text-decoration-color: #800080; font-weight: bold\">Model</span><span style=\"font-weight: bold\">(</span><span style=\"color: #808000; text-decoration-color: #808000\">id</span>=<span style=\"color: #008000; text-decoration-color: #008000\">'gpt-4-0125-preview'</span>, <span style=\"color: #808000; text-decoration-color: #808000\">created</span>=<span style=\"color: #008080; text-decoration-color: #008080; font-weight: bold\">1706037612</span>, <span style=\"color: #808000; text-decoration-color: #808000\">object</span>=<span style=\"color: #008000; text-decoration-color: #008000\">'model'</span>, <span style=\"color: #808000; text-decoration-color: #808000\">owned_by</span>=<span style=\"color: #008000; text-decoration-color: #008000\">'system'</span><span style=\"font-weight: bold\">)</span>,\n",
       "    <span style=\"color: #800080; text-decoration-color: #800080; font-weight: bold\">Model</span><span style=\"font-weight: bold\">(</span><span style=\"color: #808000; text-decoration-color: #808000\">id</span>=<span style=\"color: #008000; text-decoration-color: #008000\">'gpt-4-0613'</span>, <span style=\"color: #808000; text-decoration-color: #808000\">created</span>=<span style=\"color: #008080; text-decoration-color: #008080; font-weight: bold\">1686588896</span>, <span style=\"color: #808000; text-decoration-color: #808000\">object</span>=<span style=\"color: #008000; text-decoration-color: #008000\">'model'</span>, <span style=\"color: #808000; text-decoration-color: #808000\">owned_by</span>=<span style=\"color: #008000; text-decoration-color: #008000\">'openai'</span><span style=\"font-weight: bold\">)</span>,\n",
       "    <span style=\"color: #800080; text-decoration-color: #800080; font-weight: bold\">Model</span><span style=\"font-weight: bold\">(</span><span style=\"color: #808000; text-decoration-color: #808000\">id</span>=<span style=\"color: #008000; text-decoration-color: #008000\">'gpt-4-1106-preview'</span>, <span style=\"color: #808000; text-decoration-color: #808000\">created</span>=<span style=\"color: #008080; text-decoration-color: #008080; font-weight: bold\">1698957206</span>, <span style=\"color: #808000; text-decoration-color: #808000\">object</span>=<span style=\"color: #008000; text-decoration-color: #008000\">'model'</span>, <span style=\"color: #808000; text-decoration-color: #808000\">owned_by</span>=<span style=\"color: #008000; text-decoration-color: #008000\">'system'</span><span style=\"font-weight: bold\">)</span>,\n",
       "    <span style=\"color: #800080; text-decoration-color: #800080; font-weight: bold\">Model</span><span style=\"font-weight: bold\">(</span><span style=\"color: #808000; text-decoration-color: #808000\">id</span>=<span style=\"color: #008000; text-decoration-color: #008000\">'gpt-4-1106-vision-preview'</span>, <span style=\"color: #808000; text-decoration-color: #808000\">created</span>=<span style=\"color: #008080; text-decoration-color: #008080; font-weight: bold\">1711473033</span>, <span style=\"color: #808000; text-decoration-color: #808000\">object</span>=<span style=\"color: #008000; text-decoration-color: #008000\">'model'</span>, <span style=\"color: #808000; text-decoration-color: #808000\">owned_by</span>=<span style=\"color: #008000; text-decoration-color: #008000\">'system'</span><span style=\"font-weight: bold\">)</span>,\n",
       "    <span style=\"color: #800080; text-decoration-color: #800080; font-weight: bold\">Model</span><span style=\"font-weight: bold\">(</span><span style=\"color: #808000; text-decoration-color: #808000\">id</span>=<span style=\"color: #008000; text-decoration-color: #008000\">'gpt-4-turbo'</span>, <span style=\"color: #808000; text-decoration-color: #808000\">created</span>=<span style=\"color: #008080; text-decoration-color: #008080; font-weight: bold\">1712361441</span>, <span style=\"color: #808000; text-decoration-color: #808000\">object</span>=<span style=\"color: #008000; text-decoration-color: #008000\">'model'</span>, <span style=\"color: #808000; text-decoration-color: #808000\">owned_by</span>=<span style=\"color: #008000; text-decoration-color: #008000\">'system'</span><span style=\"font-weight: bold\">)</span>,\n",
       "    <span style=\"color: #800080; text-decoration-color: #800080; font-weight: bold\">Model</span><span style=\"font-weight: bold\">(</span><span style=\"color: #808000; text-decoration-color: #808000\">id</span>=<span style=\"color: #008000; text-decoration-color: #008000\">'gpt-4-turbo-2024-04-09'</span>, <span style=\"color: #808000; text-decoration-color: #808000\">created</span>=<span style=\"color: #008080; text-decoration-color: #008080; font-weight: bold\">1712601677</span>, <span style=\"color: #808000; text-decoration-color: #808000\">object</span>=<span style=\"color: #008000; text-decoration-color: #008000\">'model'</span>, <span style=\"color: #808000; text-decoration-color: #808000\">owned_by</span>=<span style=\"color: #008000; text-decoration-color: #008000\">'system'</span><span style=\"font-weight: bold\">)</span>,\n",
       "    <span style=\"color: #800080; text-decoration-color: #800080; font-weight: bold\">Model</span><span style=\"font-weight: bold\">(</span><span style=\"color: #808000; text-decoration-color: #808000\">id</span>=<span style=\"color: #008000; text-decoration-color: #008000\">'gpt-4-turbo-preview'</span>, <span style=\"color: #808000; text-decoration-color: #808000\">created</span>=<span style=\"color: #008080; text-decoration-color: #008080; font-weight: bold\">1706037777</span>, <span style=\"color: #808000; text-decoration-color: #808000\">object</span>=<span style=\"color: #008000; text-decoration-color: #008000\">'model'</span>, <span style=\"color: #808000; text-decoration-color: #808000\">owned_by</span>=<span style=\"color: #008000; text-decoration-color: #008000\">'system'</span><span style=\"font-weight: bold\">)</span>,\n",
       "    <span style=\"color: #800080; text-decoration-color: #800080; font-weight: bold\">Model</span><span style=\"font-weight: bold\">(</span><span style=\"color: #808000; text-decoration-color: #808000\">id</span>=<span style=\"color: #008000; text-decoration-color: #008000\">'gpt-4-vision-preview'</span>, <span style=\"color: #808000; text-decoration-color: #808000\">created</span>=<span style=\"color: #008080; text-decoration-color: #008080; font-weight: bold\">1698894917</span>, <span style=\"color: #808000; text-decoration-color: #808000\">object</span>=<span style=\"color: #008000; text-decoration-color: #008000\">'model'</span>, <span style=\"color: #808000; text-decoration-color: #808000\">owned_by</span>=<span style=\"color: #008000; text-decoration-color: #008000\">'system'</span><span style=\"font-weight: bold\">)</span>,\n",
       "    <span style=\"color: #800080; text-decoration-color: #800080; font-weight: bold\">Model</span><span style=\"font-weight: bold\">(</span><span style=\"color: #808000; text-decoration-color: #808000\">id</span>=<span style=\"color: #008000; text-decoration-color: #008000\">'gpt-4o'</span>, <span style=\"color: #808000; text-decoration-color: #808000\">created</span>=<span style=\"color: #008080; text-decoration-color: #008080; font-weight: bold\">1715367049</span>, <span style=\"color: #808000; text-decoration-color: #808000\">object</span>=<span style=\"color: #008000; text-decoration-color: #008000\">'model'</span>, <span style=\"color: #808000; text-decoration-color: #808000\">owned_by</span>=<span style=\"color: #008000; text-decoration-color: #008000\">'system'</span><span style=\"font-weight: bold\">)</span>,\n",
       "    <span style=\"color: #800080; text-decoration-color: #800080; font-weight: bold\">Model</span><span style=\"font-weight: bold\">(</span><span style=\"color: #808000; text-decoration-color: #808000\">id</span>=<span style=\"color: #008000; text-decoration-color: #008000\">'gpt-4o-2024-05-13'</span>, <span style=\"color: #808000; text-decoration-color: #808000\">created</span>=<span style=\"color: #008080; text-decoration-color: #008080; font-weight: bold\">1715368132</span>, <span style=\"color: #808000; text-decoration-color: #808000\">object</span>=<span style=\"color: #008000; text-decoration-color: #008000\">'model'</span>, <span style=\"color: #808000; text-decoration-color: #808000\">owned_by</span>=<span style=\"color: #008000; text-decoration-color: #008000\">'system'</span><span style=\"font-weight: bold\">)</span>\n",
       "<span style=\"font-weight: bold\">]</span>\n",
       "</pre>\n"
      ],
      "text/plain": [
       "\u001b[1m[\u001b[0m\n",
       "    \u001b[1;35mModel\u001b[0m\u001b[1m(\u001b[0m\u001b[33mid\u001b[0m=\u001b[32m'gpt-3.5-turbo'\u001b[0m, \u001b[33mcreated\u001b[0m=\u001b[1;36m1677610602\u001b[0m, \u001b[33mobject\u001b[0m=\u001b[32m'model'\u001b[0m, \u001b[33mowned_by\u001b[0m=\u001b[32m'openai'\u001b[0m\u001b[1m)\u001b[0m,\n",
       "    \u001b[1;35mModel\u001b[0m\u001b[1m(\u001b[0m\u001b[33mid\u001b[0m=\u001b[32m'gpt-3.5-turbo-0125'\u001b[0m, \u001b[33mcreated\u001b[0m=\u001b[1;36m1706048358\u001b[0m, \u001b[33mobject\u001b[0m=\u001b[32m'model'\u001b[0m, \u001b[33mowned_by\u001b[0m=\u001b[32m'system'\u001b[0m\u001b[1m)\u001b[0m,\n",
       "    \u001b[1;35mModel\u001b[0m\u001b[1m(\u001b[0m\u001b[33mid\u001b[0m=\u001b[32m'gpt-3.5-turbo-0301'\u001b[0m, \u001b[33mcreated\u001b[0m=\u001b[1;36m1677649963\u001b[0m, \u001b[33mobject\u001b[0m=\u001b[32m'model'\u001b[0m, \u001b[33mowned_by\u001b[0m=\u001b[32m'openai'\u001b[0m\u001b[1m)\u001b[0m,\n",
       "    \u001b[1;35mModel\u001b[0m\u001b[1m(\u001b[0m\u001b[33mid\u001b[0m=\u001b[32m'gpt-3.5-turbo-0613'\u001b[0m, \u001b[33mcreated\u001b[0m=\u001b[1;36m1686587434\u001b[0m, \u001b[33mobject\u001b[0m=\u001b[32m'model'\u001b[0m, \u001b[33mowned_by\u001b[0m=\u001b[32m'openai'\u001b[0m\u001b[1m)\u001b[0m,\n",
       "    \u001b[1;35mModel\u001b[0m\u001b[1m(\u001b[0m\u001b[33mid\u001b[0m=\u001b[32m'gpt-3.5-turbo-1106'\u001b[0m, \u001b[33mcreated\u001b[0m=\u001b[1;36m1698959748\u001b[0m, \u001b[33mobject\u001b[0m=\u001b[32m'model'\u001b[0m, \u001b[33mowned_by\u001b[0m=\u001b[32m'system'\u001b[0m\u001b[1m)\u001b[0m,\n",
       "    \u001b[1;35mModel\u001b[0m\u001b[1m(\u001b[0m\u001b[33mid\u001b[0m=\u001b[32m'gpt-3.5-turbo-16k'\u001b[0m, \u001b[33mcreated\u001b[0m=\u001b[1;36m1683758102\u001b[0m, \u001b[33mobject\u001b[0m=\u001b[32m'model'\u001b[0m, \u001b[33mowned_by\u001b[0m=\u001b[32m'openai-internal'\u001b[0m\u001b[1m)\u001b[0m,\n",
       "    \u001b[1;35mModel\u001b[0m\u001b[1m(\u001b[0m\u001b[33mid\u001b[0m=\u001b[32m'gpt-3.5-turbo-16k-0613'\u001b[0m, \u001b[33mcreated\u001b[0m=\u001b[1;36m1685474247\u001b[0m, \u001b[33mobject\u001b[0m=\u001b[32m'model'\u001b[0m, \u001b[33mowned_by\u001b[0m=\u001b[32m'openai'\u001b[0m\u001b[1m)\u001b[0m,\n",
       "    \u001b[1;35mModel\u001b[0m\u001b[1m(\u001b[0m\u001b[33mid\u001b[0m=\u001b[32m'gpt-3.5-turbo-instruct'\u001b[0m, \u001b[33mcreated\u001b[0m=\u001b[1;36m1692901427\u001b[0m, \u001b[33mobject\u001b[0m=\u001b[32m'model'\u001b[0m, \u001b[33mowned_by\u001b[0m=\u001b[32m'system'\u001b[0m\u001b[1m)\u001b[0m,\n",
       "    \u001b[1;35mModel\u001b[0m\u001b[1m(\u001b[0m\u001b[33mid\u001b[0m=\u001b[32m'gpt-3.5-turbo-instruct-0914'\u001b[0m, \u001b[33mcreated\u001b[0m=\u001b[1;36m1694122472\u001b[0m, \u001b[33mobject\u001b[0m=\u001b[32m'model'\u001b[0m, \u001b[33mowned_by\u001b[0m=\u001b[32m'system'\u001b[0m\u001b[1m)\u001b[0m,\n",
       "    \u001b[1;35mModel\u001b[0m\u001b[1m(\u001b[0m\u001b[33mid\u001b[0m=\u001b[32m'gpt-4'\u001b[0m, \u001b[33mcreated\u001b[0m=\u001b[1;36m1687882411\u001b[0m, \u001b[33mobject\u001b[0m=\u001b[32m'model'\u001b[0m, \u001b[33mowned_by\u001b[0m=\u001b[32m'openai'\u001b[0m\u001b[1m)\u001b[0m,\n",
       "    \u001b[1;35mModel\u001b[0m\u001b[1m(\u001b[0m\u001b[33mid\u001b[0m=\u001b[32m'gpt-4-0125-preview'\u001b[0m, \u001b[33mcreated\u001b[0m=\u001b[1;36m1706037612\u001b[0m, \u001b[33mobject\u001b[0m=\u001b[32m'model'\u001b[0m, \u001b[33mowned_by\u001b[0m=\u001b[32m'system'\u001b[0m\u001b[1m)\u001b[0m,\n",
       "    \u001b[1;35mModel\u001b[0m\u001b[1m(\u001b[0m\u001b[33mid\u001b[0m=\u001b[32m'gpt-4-0613'\u001b[0m, \u001b[33mcreated\u001b[0m=\u001b[1;36m1686588896\u001b[0m, \u001b[33mobject\u001b[0m=\u001b[32m'model'\u001b[0m, \u001b[33mowned_by\u001b[0m=\u001b[32m'openai'\u001b[0m\u001b[1m)\u001b[0m,\n",
       "    \u001b[1;35mModel\u001b[0m\u001b[1m(\u001b[0m\u001b[33mid\u001b[0m=\u001b[32m'gpt-4-1106-preview'\u001b[0m, \u001b[33mcreated\u001b[0m=\u001b[1;36m1698957206\u001b[0m, \u001b[33mobject\u001b[0m=\u001b[32m'model'\u001b[0m, \u001b[33mowned_by\u001b[0m=\u001b[32m'system'\u001b[0m\u001b[1m)\u001b[0m,\n",
       "    \u001b[1;35mModel\u001b[0m\u001b[1m(\u001b[0m\u001b[33mid\u001b[0m=\u001b[32m'gpt-4-1106-vision-preview'\u001b[0m, \u001b[33mcreated\u001b[0m=\u001b[1;36m1711473033\u001b[0m, \u001b[33mobject\u001b[0m=\u001b[32m'model'\u001b[0m, \u001b[33mowned_by\u001b[0m=\u001b[32m'system'\u001b[0m\u001b[1m)\u001b[0m,\n",
       "    \u001b[1;35mModel\u001b[0m\u001b[1m(\u001b[0m\u001b[33mid\u001b[0m=\u001b[32m'gpt-4-turbo'\u001b[0m, \u001b[33mcreated\u001b[0m=\u001b[1;36m1712361441\u001b[0m, \u001b[33mobject\u001b[0m=\u001b[32m'model'\u001b[0m, \u001b[33mowned_by\u001b[0m=\u001b[32m'system'\u001b[0m\u001b[1m)\u001b[0m,\n",
       "    \u001b[1;35mModel\u001b[0m\u001b[1m(\u001b[0m\u001b[33mid\u001b[0m=\u001b[32m'gpt-4-turbo-2024-04-09'\u001b[0m, \u001b[33mcreated\u001b[0m=\u001b[1;36m1712601677\u001b[0m, \u001b[33mobject\u001b[0m=\u001b[32m'model'\u001b[0m, \u001b[33mowned_by\u001b[0m=\u001b[32m'system'\u001b[0m\u001b[1m)\u001b[0m,\n",
       "    \u001b[1;35mModel\u001b[0m\u001b[1m(\u001b[0m\u001b[33mid\u001b[0m=\u001b[32m'gpt-4-turbo-preview'\u001b[0m, \u001b[33mcreated\u001b[0m=\u001b[1;36m1706037777\u001b[0m, \u001b[33mobject\u001b[0m=\u001b[32m'model'\u001b[0m, \u001b[33mowned_by\u001b[0m=\u001b[32m'system'\u001b[0m\u001b[1m)\u001b[0m,\n",
       "    \u001b[1;35mModel\u001b[0m\u001b[1m(\u001b[0m\u001b[33mid\u001b[0m=\u001b[32m'gpt-4-vision-preview'\u001b[0m, \u001b[33mcreated\u001b[0m=\u001b[1;36m1698894917\u001b[0m, \u001b[33mobject\u001b[0m=\u001b[32m'model'\u001b[0m, \u001b[33mowned_by\u001b[0m=\u001b[32m'system'\u001b[0m\u001b[1m)\u001b[0m,\n",
       "    \u001b[1;35mModel\u001b[0m\u001b[1m(\u001b[0m\u001b[33mid\u001b[0m=\u001b[32m'gpt-4o'\u001b[0m, \u001b[33mcreated\u001b[0m=\u001b[1;36m1715367049\u001b[0m, \u001b[33mobject\u001b[0m=\u001b[32m'model'\u001b[0m, \u001b[33mowned_by\u001b[0m=\u001b[32m'system'\u001b[0m\u001b[1m)\u001b[0m,\n",
       "    \u001b[1;35mModel\u001b[0m\u001b[1m(\u001b[0m\u001b[33mid\u001b[0m=\u001b[32m'gpt-4o-2024-05-13'\u001b[0m, \u001b[33mcreated\u001b[0m=\u001b[1;36m1715368132\u001b[0m, \u001b[33mobject\u001b[0m=\u001b[32m'model'\u001b[0m, \u001b[33mowned_by\u001b[0m=\u001b[32m'system'\u001b[0m\u001b[1m)\u001b[0m\n",
       "\u001b[1m]\u001b[0m\n"
      ]
     },
     "metadata": {},
     "output_type": "display_data"
    }
   ],
   "source": [
    "client_org = OpenAI(\n",
    "    organization=openai_org_id,\n",
    "    api_key=openai_key,\n",
    ")\n",
    "models = client_org.models.list().data\n",
    "models = [m for m in models if \"gpt\" in m.id.lower()]\n",
    "\n",
    "# sort models by model id\n",
    "models = sorted(models, key=lambda x: x.id)\n",
    "\n",
    "# print models which contains gpt in the name\n",
    "print(models)"
   ]
  },
  {
   "cell_type": "markdown",
   "metadata": {},
   "source": [
    "Test the direct connection to OpenAI service via OpenAI Python SDK."
   ]
  },
  {
   "cell_type": "code",
   "execution_count": 3,
   "metadata": {
    "ExecuteTime": {
     "end_time": "2024-07-01T11:18:25.543634Z",
     "start_time": "2024-07-01T11:18:25.531209Z"
    }
   },
   "outputs": [],
   "source": [
    "haiku_prompt = [\n",
    "    {\n",
    "        \"role\": \"system\",\n",
    "        \"content\": \"You are a poetic assistant, skilled in explaining complex programming concepts with creative flair.\",\n",
    "    },\n",
    "    {\n",
    "        \"role\": \"user\",\n",
    "        \"content\": \"Compose a haiku that explains the concept of recursion in programming.\",\n",
    "    },\n",
    "]\n",
    "\n",
    "poem_prompt = [\n",
    "    {\n",
    "        \"role\": \"system\",\n",
    "        \"content\": \"You are a poetic assistant, skilled in explaining complex programming concepts with creative flair.\",\n",
    "    },\n",
    "    {\n",
    "        \"role\": \"user\",\n",
    "        \"content\": \"Compose a five line poem that explains the concept of recursion in programming.\",\n",
    "    },\n",
    "]\n",
    "\n",
    "yoda_prompt = [\n",
    "    {\n",
    "        \"role\": \"system\",\n",
    "        \"content\": \"Yoda assistant you are, skilled in explaining complex life and phisopical matters.\",\n",
    "    },\n",
    "    {\n",
    "        \"role\": \"user\",\n",
    "        \"content\": \"What number 42 means, be brief.\",\n",
    "    },\n",
    "]\n",
    "\n",
    "\n",
    "teacher_chat=[\n",
    "        {\n",
    "            \"role\": \"system\",\n",
    "            \"content\": \"You are teacher and help studends learn phisics, geography and chemistry.\",\n",
    "        },\n",
    "        {\n",
    "            \"role\": \"user\",\n",
    "            \"content\": \"Name the plantets in solar system.\",\n",
    "        },\n",
    "        {\n",
    "            \"role\": \"assistant\",\n",
    "            \"content\": \"The planets in our solar system, listed in order from closest to the Sun to farthest, are:\\n\\n1. Mercury\\n2. Venus\\n3. Earth\\n4. Mars\\n5. Jupiter\\n6. Saturn\\n7. Uranus\\n8. Neptune\\n\\nIt is worth mentioning that there is ongoing debate about the classification of Pluto, which was previously considered the ninth planet but is now classified as a dwarf planet.\",        \n",
    "        }, \n",
    "        { \n",
    "            \"role\": \"user\",\n",
    "            \"content\": \"What is the distance between Earth and Mars?\"\n",
    "        }\n",
    "]"
   ]
  },
  {
   "cell_type": "code",
   "execution_count": 7,
   "metadata": {},
   "outputs": [
    {
     "data": {
      "text/html": [
       "<pre style=\"white-space:pre;overflow-x:auto;line-height:normal;font-family:Menlo,'DejaVu Sans Mono',consolas,'Courier New',monospace\">The distance between Earth and Mars varies depending on their positions in their respective orbits around the Sun, \n",
       "as both planets have elliptical orbits. On average, the distance between Earth and Mars is about <span style=\"color: #008080; text-decoration-color: #008080; font-weight: bold\">225</span> million \n",
       "kilometers <span style=\"font-weight: bold\">(</span><span style=\"color: #008080; text-decoration-color: #008080; font-weight: bold\">140</span> million miles<span style=\"font-weight: bold\">)</span>.\n",
       "\n",
       "However, the closest approach, known as opposition, when Mars is on the opposite side of the Sun from Earth, can \n",
       "bring the two planets as close as about <span style=\"color: #008080; text-decoration-color: #008080; font-weight: bold\">54.6</span> million kilometers <span style=\"font-weight: bold\">(</span><span style=\"color: #008080; text-decoration-color: #008080; font-weight: bold\">33.9</span> million miles<span style=\"font-weight: bold\">)</span>. The farthest point, known as \n",
       "conjunction, when Mars is on the same side of the Sun as Earth, can be as far as about <span style=\"color: #008080; text-decoration-color: #008080; font-weight: bold\">401</span> million kilometers <span style=\"font-weight: bold\">(</span><span style=\"color: #008080; text-decoration-color: #008080; font-weight: bold\">249</span> \n",
       "million miles<span style=\"font-weight: bold\">)</span>.\n",
       "</pre>\n"
      ],
      "text/plain": [
       "The distance between Earth and Mars varies depending on their positions in their respective orbits around the Sun, \n",
       "as both planets have elliptical orbits. On average, the distance between Earth and Mars is about \u001b[1;36m225\u001b[0m million \n",
       "kilometers \u001b[1m(\u001b[0m\u001b[1;36m140\u001b[0m million miles\u001b[1m)\u001b[0m.\n",
       "\n",
       "However, the closest approach, known as opposition, when Mars is on the opposite side of the Sun from Earth, can \n",
       "bring the two planets as close as about \u001b[1;36m54.6\u001b[0m million kilometers \u001b[1m(\u001b[0m\u001b[1;36m33.9\u001b[0m million miles\u001b[1m)\u001b[0m. The farthest point, known as \n",
       "conjunction, when Mars is on the same side of the Sun as Earth, can be as far as about \u001b[1;36m401\u001b[0m million kilometers \u001b[1m(\u001b[0m\u001b[1;36m249\u001b[0m \n",
       "million miles\u001b[1m)\u001b[0m.\n"
      ]
     },
     "metadata": {},
     "output_type": "display_data"
    }
   ],
   "source": [
    "oai_client = OpenAI(api_key=openai_key)\n",
    "\n",
    "response = oai_client.chat.completions.create(\n",
    "    model=\"gpt-3.5-turbo\",\n",
    "    messages=teacher_chat,\n",
    ")\n",
    "\n",
    "print(response.choices[0].message.content)"
   ]
  },
  {
   "cell_type": "markdown",
   "metadata": {},
   "source": [
    "Testing the streaming API"
   ]
  },
  {
   "cell_type": "code",
   "execution_count": 4,
   "metadata": {
    "ExecuteTime": {
     "end_time": "2024-07-01T11:18:28.982007Z",
     "start_time": "2024-07-01T11:18:27.878741Z"
    }
   },
   "outputs": [
    {
     "data": {
      "text/html": [
       "<pre style=\"white-space:pre;overflow-x:auto;line-height:normal;font-family:Menlo,'DejaVu Sans Mono',consolas,'Courier New',monospace\">\n",
       "</pre>\n"
      ],
      "text/plain": [
       "\n"
      ]
     },
     "metadata": {},
     "output_type": "display_data"
    },
    {
     "data": {
      "text/html": [
       "<pre style=\"white-space:pre;overflow-x:auto;line-height:normal;font-family:Menlo,'DejaVu Sans Mono',consolas,'Courier New',monospace\">In\n",
       "</pre>\n"
      ],
      "text/plain": [
       "In\n"
      ]
     },
     "metadata": {},
     "output_type": "display_data"
    },
    {
     "data": {
      "text/html": [
       "<pre style=\"white-space:pre;overflow-x:auto;line-height:normal;font-family:Menlo,'DejaVu Sans Mono',consolas,'Courier New',monospace\"> code\n",
       "</pre>\n"
      ],
      "text/plain": [
       " code\n"
      ]
     },
     "metadata": {},
     "output_type": "display_data"
    },
    {
     "data": {
      "text/html": [
       "<pre style=\"white-space:pre;overflow-x:auto;line-height:normal;font-family:Menlo,'DejaVu Sans Mono',consolas,'Courier New',monospace\">'s\n",
       "</pre>\n"
      ],
      "text/plain": [
       "'s\n"
      ]
     },
     "metadata": {},
     "output_type": "display_data"
    },
    {
     "data": {
      "text/html": [
       "<pre style=\"white-space:pre;overflow-x:auto;line-height:normal;font-family:Menlo,'DejaVu Sans Mono',consolas,'Courier New',monospace\"> dance\n",
       "</pre>\n"
      ],
      "text/plain": [
       " dance\n"
      ]
     },
     "metadata": {},
     "output_type": "display_data"
    },
    {
     "data": {
      "text/html": [
       "<pre style=\"white-space:pre;overflow-x:auto;line-height:normal;font-family:Menlo,'DejaVu Sans Mono',consolas,'Courier New',monospace\">,\n",
       "</pre>\n"
      ],
      "text/plain": [
       ",\n"
      ]
     },
     "metadata": {},
     "output_type": "display_data"
    },
    {
     "data": {
      "text/html": [
       "<pre style=\"white-space:pre;overflow-x:auto;line-height:normal;font-family:Menlo,'DejaVu Sans Mono',consolas,'Courier New',monospace\"> returns\n",
       "</pre>\n"
      ],
      "text/plain": [
       " returns\n"
      ]
     },
     "metadata": {},
     "output_type": "display_data"
    },
    {
     "data": {
      "text/html": [
       "<pre style=\"white-space:pre;overflow-x:auto;line-height:normal;font-family:Menlo,'DejaVu Sans Mono',consolas,'Courier New',monospace\">,\n",
       "\n",
       "</pre>\n"
      ],
      "text/plain": [
       ",\n",
       "\n"
      ]
     },
     "metadata": {},
     "output_type": "display_data"
    },
    {
     "data": {
      "text/html": [
       "<pre style=\"white-space:pre;overflow-x:auto;line-height:normal;font-family:Menlo,'DejaVu Sans Mono',consolas,'Courier New',monospace\">A\n",
       "</pre>\n"
      ],
      "text/plain": [
       "A\n"
      ]
     },
     "metadata": {},
     "output_type": "display_data"
    },
    {
     "data": {
      "text/html": [
       "<pre style=\"white-space:pre;overflow-x:auto;line-height:normal;font-family:Menlo,'DejaVu Sans Mono',consolas,'Courier New',monospace\"> function\n",
       "</pre>\n"
      ],
      "text/plain": [
       " function\n"
      ]
     },
     "metadata": {},
     "output_type": "display_data"
    },
    {
     "data": {
      "text/html": [
       "<pre style=\"white-space:pre;overflow-x:auto;line-height:normal;font-family:Menlo,'DejaVu Sans Mono',consolas,'Courier New',monospace\"> calls\n",
       "</pre>\n"
      ],
      "text/plain": [
       " calls\n"
      ]
     },
     "metadata": {},
     "output_type": "display_data"
    },
    {
     "data": {
      "text/html": [
       "<pre style=\"white-space:pre;overflow-x:auto;line-height:normal;font-family:Menlo,'DejaVu Sans Mono',consolas,'Courier New',monospace\"> itself\n",
       "</pre>\n"
      ],
      "text/plain": [
       " itself\n"
      ]
     },
     "metadata": {},
     "output_type": "display_data"
    },
    {
     "data": {
      "text/html": [
       "<pre style=\"white-space:pre;overflow-x:auto;line-height:normal;font-family:Menlo,'DejaVu Sans Mono',consolas,'Courier New',monospace\">,\n",
       "</pre>\n"
      ],
      "text/plain": [
       ",\n"
      ]
     },
     "metadata": {},
     "output_type": "display_data"
    },
    {
     "data": {
      "text/html": [
       "<pre style=\"white-space:pre;overflow-x:auto;line-height:normal;font-family:Menlo,'DejaVu Sans Mono',consolas,'Courier New',monospace\"> \n",
       "\n",
       "</pre>\n"
      ],
      "text/plain": [
       " \n",
       "\n"
      ]
     },
     "metadata": {},
     "output_type": "display_data"
    },
    {
     "data": {
      "text/html": [
       "<pre style=\"white-space:pre;overflow-x:auto;line-height:normal;font-family:Menlo,'DejaVu Sans Mono',consolas,'Courier New',monospace\">Echo\n",
       "</pre>\n"
      ],
      "text/plain": [
       "Echo\n"
      ]
     },
     "metadata": {},
     "output_type": "display_data"
    },
    {
     "data": {
      "text/html": [
       "<pre style=\"white-space:pre;overflow-x:auto;line-height:normal;font-family:Menlo,'DejaVu Sans Mono',consolas,'Courier New',monospace\">es\n",
       "</pre>\n"
      ],
      "text/plain": [
       "es\n"
      ]
     },
     "metadata": {},
     "output_type": "display_data"
    },
    {
     "data": {
      "text/html": [
       "<pre style=\"white-space:pre;overflow-x:auto;line-height:normal;font-family:Menlo,'DejaVu Sans Mono',consolas,'Courier New',monospace\"> in\n",
       "</pre>\n"
      ],
      "text/plain": [
       " in\n"
      ]
     },
     "metadata": {},
     "output_type": "display_data"
    },
    {
     "data": {
      "text/html": [
       "<pre style=\"white-space:pre;overflow-x:auto;line-height:normal;font-family:Menlo,'DejaVu Sans Mono',consolas,'Courier New',monospace\"> the\n",
       "</pre>\n"
      ],
      "text/plain": [
       " the\n"
      ]
     },
     "metadata": {},
     "output_type": "display_data"
    },
    {
     "data": {
      "text/html": [
       "<pre style=\"white-space:pre;overflow-x:auto;line-height:normal;font-family:Menlo,'DejaVu Sans Mono',consolas,'Courier New',monospace\"> void\n",
       "</pre>\n"
      ],
      "text/plain": [
       " void\n"
      ]
     },
     "metadata": {},
     "output_type": "display_data"
    },
    {
     "data": {
      "text/html": [
       "<pre style=\"white-space:pre;overflow-x:auto;line-height:normal;font-family:Menlo,'DejaVu Sans Mono',consolas,'Courier New',monospace\">.\n",
       "</pre>\n"
      ],
      "text/plain": [
       ".\n"
      ]
     },
     "metadata": {},
     "output_type": "display_data"
    },
    {
     "data": {
      "text/html": [
       "<pre style=\"white-space:pre;overflow-x:auto;line-height:normal;font-family:Menlo,'DejaVu Sans Mono',consolas,'Courier New',monospace\"><span style=\"color: #800080; text-decoration-color: #800080; font-style: italic\">None</span>\n",
       "</pre>\n"
      ],
      "text/plain": [
       "\u001b[3;35mNone\u001b[0m\n"
      ]
     },
     "metadata": {},
     "output_type": "display_data"
    }
   ],
   "source": [
    "oai_client = OpenAI(api_key=openai_key)\n",
    "\n",
    "\n",
    "response = oai_client.chat.completions.create(\n",
    "    model=\"gpt-3.5-turbo\",\n",
    "    stream=True,\n",
    "    messages=haiku_prompt\n",
    ")\n",
    "\n",
    "for chunk in response:\n",
    "    print(chunk.choices[0].delta.content)\n",
    "\n"
   ]
  },
  {
   "cell_type": "markdown",
   "metadata": {},
   "source": [
    "## Create a request to the OpenAI via promptsail proxy"
   ]
  },
  {
   "cell_type": "markdown",
   "metadata": {},
   "source": [
    "Run the docker and go to PromptSail UI http://localhost/\n",
    "\n",
    "\n",
    "At the application start we created test projects (models-playground) with OpenAI API deployment. We will use project1 for this example.\n",
    "\n",
    "In this case we will use the default `Models Playground` settings:\n",
    "* with project_slug -> 'models-playground' \n",
    "* deployment_name -> 'openai'\n",
    "resulting in promptsail proxy url like this: \n",
    "\n",
    "**http://localhost:8000/models-playground/openai/** -> https://api.openai.com/v1\n",
    "\n",
    "You can create your own project if you want.\n",
    "\n"
   ]
  },
  {
   "cell_type": "code",
   "execution_count": 7,
   "metadata": {
    "ExecuteTime": {
     "end_time": "2024-07-01T11:23:47.598219Z",
     "start_time": "2024-07-01T11:23:43.576246Z"
    }
   },
   "outputs": [
    {
     "data": {
      "text/html": [
       "<pre style=\"white-space:pre;overflow-x:auto;line-height:normal;font-family:Menlo,'DejaVu Sans Mono',consolas,'Courier New',monospace\">The distance between Earth and Mars varies depending on their positions in their respective orbits around the Sun, \n",
       "as both planets have elliptical orbits. On average, the distance between Earth and Mars is about <span style=\"color: #008080; text-decoration-color: #008080; font-weight: bold\">225</span> million \n",
       "kilometers <span style=\"font-weight: bold\">(</span><span style=\"color: #008080; text-decoration-color: #008080; font-weight: bold\">140</span> million miles<span style=\"font-weight: bold\">)</span>.\n",
       "\n",
       "However, the minimum distance between Earth and Mars <span style=\"font-weight: bold\">(</span>opposition<span style=\"font-weight: bold\">)</span> can be as close as about <span style=\"color: #008080; text-decoration-color: #008080; font-weight: bold\">54.6</span> million kilometers \n",
       "<span style=\"font-weight: bold\">(</span><span style=\"color: #008080; text-decoration-color: #008080; font-weight: bold\">33.9</span> million miles<span style=\"font-weight: bold\">)</span>, while the maximum distance <span style=\"font-weight: bold\">(</span>conjunction<span style=\"font-weight: bold\">)</span> can be as far as about <span style=\"color: #008080; text-decoration-color: #008080; font-weight: bold\">401</span> million kilometers <span style=\"font-weight: bold\">(</span><span style=\"color: #008080; text-decoration-color: #008080; font-weight: bold\">249</span> \n",
       "million miles<span style=\"font-weight: bold\">)</span>.\n",
       "</pre>\n"
      ],
      "text/plain": [
       "The distance between Earth and Mars varies depending on their positions in their respective orbits around the Sun, \n",
       "as both planets have elliptical orbits. On average, the distance between Earth and Mars is about \u001b[1;36m225\u001b[0m million \n",
       "kilometers \u001b[1m(\u001b[0m\u001b[1;36m140\u001b[0m million miles\u001b[1m)\u001b[0m.\n",
       "\n",
       "However, the minimum distance between Earth and Mars \u001b[1m(\u001b[0mopposition\u001b[1m)\u001b[0m can be as close as about \u001b[1;36m54.6\u001b[0m million kilometers \n",
       "\u001b[1m(\u001b[0m\u001b[1;36m33.9\u001b[0m million miles\u001b[1m)\u001b[0m, while the maximum distance \u001b[1m(\u001b[0mconjunction\u001b[1m)\u001b[0m can be as far as about \u001b[1;36m401\u001b[0m million kilometers \u001b[1m(\u001b[0m\u001b[1;36m249\u001b[0m \n",
       "million miles\u001b[1m)\u001b[0m.\n"
      ]
     },
     "metadata": {},
     "output_type": "display_data"
    }
   ],
   "source": [
    "ps_api_base = \"http://localhost:8000/models-playground/openai/\"\n",
    "\n",
    "# adress with tags \n",
    "#ps_api_base = \"http://localhost:8000/models-playground/openai/?tags=examples,openai_sdk,chat,user_ks&target_path=\"\n",
    "\n",
    "\n",
    "ps_client = OpenAI(base_url=ps_api_base, api_key=openai_key, max_retries=0)\n",
    "\n",
    "\n",
    "# model_name = \"gpt-4-turbo-preview\"\n",
    "model_name = \"gpt-3.5-turbo-0125\"\n",
    "\n",
    "response = ps_client.chat.completions.create(\n",
    "    model=model_name,\n",
    "    temperature=0.5,\n",
    "    messages=teacher_chat,\n",
    ")\n",
    "\n",
    "print(response.choices[0].message.content)"
   ]
  },
  {
   "cell_type": "markdown",
   "metadata": {},
   "source": [
    "### Streaming API"
   ]
  },
  {
   "cell_type": "code",
   "execution_count": 11,
   "metadata": {
    "ExecuteTime": {
     "end_time": "2024-07-01T11:24:58.282211Z",
     "start_time": "2024-07-01T11:24:53.678828Z"
    }
   },
   "outputs": [
    {
     "data": {
      "text/html": [
       "<pre style=\"white-space:pre;overflow-x:auto;line-height:normal;font-family:Menlo,'DejaVu Sans Mono',consolas,'Courier New',monospace\">\n",
       "</pre>\n"
      ],
      "text/plain": [
       "\n"
      ]
     },
     "metadata": {},
     "output_type": "display_data"
    },
    {
     "data": {
      "text/html": [
       "<pre style=\"white-space:pre;overflow-x:auto;line-height:normal;font-family:Menlo,'DejaVu Sans Mono',consolas,'Courier New',monospace\">In\n",
       "</pre>\n"
      ],
      "text/plain": [
       "In\n"
      ]
     },
     "metadata": {},
     "output_type": "display_data"
    },
    {
     "data": {
      "text/html": [
       "<pre style=\"white-space:pre;overflow-x:auto;line-height:normal;font-family:Menlo,'DejaVu Sans Mono',consolas,'Courier New',monospace\"> code\n",
       "</pre>\n"
      ],
      "text/plain": [
       " code\n"
      ]
     },
     "metadata": {},
     "output_type": "display_data"
    },
    {
     "data": {
      "text/html": [
       "<pre style=\"white-space:pre;overflow-x:auto;line-height:normal;font-family:Menlo,'DejaVu Sans Mono',consolas,'Courier New',monospace\">'s\n",
       "</pre>\n"
      ],
      "text/plain": [
       "'s\n"
      ]
     },
     "metadata": {},
     "output_type": "display_data"
    },
    {
     "data": {
      "text/html": [
       "<pre style=\"white-space:pre;overflow-x:auto;line-height:normal;font-family:Menlo,'DejaVu Sans Mono',consolas,'Courier New',monospace\"> gentle\n",
       "</pre>\n"
      ],
      "text/plain": [
       " gentle\n"
      ]
     },
     "metadata": {},
     "output_type": "display_data"
    },
    {
     "data": {
      "text/html": [
       "<pre style=\"white-space:pre;overflow-x:auto;line-height:normal;font-family:Menlo,'DejaVu Sans Mono',consolas,'Courier New',monospace\"> dance\n",
       "</pre>\n"
      ],
      "text/plain": [
       " dance\n"
      ]
     },
     "metadata": {},
     "output_type": "display_data"
    },
    {
     "data": {
      "text/html": [
       "<pre style=\"white-space:pre;overflow-x:auto;line-height:normal;font-family:Menlo,'DejaVu Sans Mono',consolas,'Courier New',monospace\">,\n",
       "\n",
       "</pre>\n"
      ],
      "text/plain": [
       ",\n",
       "\n"
      ]
     },
     "metadata": {},
     "output_type": "display_data"
    },
    {
     "data": {
      "text/html": [
       "<pre style=\"white-space:pre;overflow-x:auto;line-height:normal;font-family:Menlo,'DejaVu Sans Mono',consolas,'Courier New',monospace\">Functions\n",
       "</pre>\n"
      ],
      "text/plain": [
       "Functions\n"
      ]
     },
     "metadata": {},
     "output_type": "display_data"
    },
    {
     "data": {
      "text/html": [
       "<pre style=\"white-space:pre;overflow-x:auto;line-height:normal;font-family:Menlo,'DejaVu Sans Mono',consolas,'Courier New',monospace\"> calling\n",
       "</pre>\n"
      ],
      "text/plain": [
       " calling\n"
      ]
     },
     "metadata": {},
     "output_type": "display_data"
    },
    {
     "data": {
      "text/html": [
       "<pre style=\"white-space:pre;overflow-x:auto;line-height:normal;font-family:Menlo,'DejaVu Sans Mono',consolas,'Courier New',monospace\"> themselves\n",
       "</pre>\n"
      ],
      "text/plain": [
       " themselves\n"
      ]
     },
     "metadata": {},
     "output_type": "display_data"
    },
    {
     "data": {
      "text/html": [
       "<pre style=\"white-space:pre;overflow-x:auto;line-height:normal;font-family:Menlo,'DejaVu Sans Mono',consolas,'Courier New',monospace\"> deep\n",
       "</pre>\n"
      ],
      "text/plain": [
       " deep\n"
      ]
     },
     "metadata": {},
     "output_type": "display_data"
    },
    {
     "data": {
      "text/html": [
       "<pre style=\"white-space:pre;overflow-x:auto;line-height:normal;font-family:Menlo,'DejaVu Sans Mono',consolas,'Courier New',monospace\">,\n",
       "\n",
       "</pre>\n"
      ],
      "text/plain": [
       ",\n",
       "\n"
      ]
     },
     "metadata": {},
     "output_type": "display_data"
    },
    {
     "data": {
      "text/html": [
       "<pre style=\"white-space:pre;overflow-x:auto;line-height:normal;font-family:Menlo,'DejaVu Sans Mono',consolas,'Courier New',monospace\">Rec\n",
       "</pre>\n"
      ],
      "text/plain": [
       "Rec\n"
      ]
     },
     "metadata": {},
     "output_type": "display_data"
    },
    {
     "data": {
      "text/html": [
       "<pre style=\"white-space:pre;overflow-x:auto;line-height:normal;font-family:Menlo,'DejaVu Sans Mono',consolas,'Courier New',monospace\">ursion\n",
       "</pre>\n"
      ],
      "text/plain": [
       "ursion\n"
      ]
     },
     "metadata": {},
     "output_type": "display_data"
    },
    {
     "data": {
      "text/html": [
       "<pre style=\"white-space:pre;overflow-x:auto;line-height:normal;font-family:Menlo,'DejaVu Sans Mono',consolas,'Courier New',monospace\">'s\n",
       "</pre>\n"
      ],
      "text/plain": [
       "'s\n"
      ]
     },
     "metadata": {},
     "output_type": "display_data"
    },
    {
     "data": {
      "text/html": [
       "<pre style=\"white-space:pre;overflow-x:auto;line-height:normal;font-family:Menlo,'DejaVu Sans Mono',consolas,'Courier New',monospace\"> embrace\n",
       "</pre>\n"
      ],
      "text/plain": [
       " embrace\n"
      ]
     },
     "metadata": {},
     "output_type": "display_data"
    },
    {
     "data": {
      "text/html": [
       "<pre style=\"white-space:pre;overflow-x:auto;line-height:normal;font-family:Menlo,'DejaVu Sans Mono',consolas,'Courier New',monospace\">.\n",
       "</pre>\n"
      ],
      "text/plain": [
       ".\n"
      ]
     },
     "metadata": {},
     "output_type": "display_data"
    },
    {
     "data": {
      "text/html": [
       "<pre style=\"white-space:pre;overflow-x:auto;line-height:normal;font-family:Menlo,'DejaVu Sans Mono',consolas,'Courier New',monospace\"><span style=\"color: #800080; text-decoration-color: #800080; font-style: italic\">None</span>\n",
       "</pre>\n"
      ],
      "text/plain": [
       "\u001b[3;35mNone\u001b[0m\n"
      ]
     },
     "metadata": {},
     "output_type": "display_data"
    }
   ],
   "source": [
    "response = ps_client.chat.completions.create(\n",
    "    model=\"gpt-3.5-turbo\",\n",
    "    stream=True,\n",
    "    messages=haiku_prompt\n",
    ")\n",
    "\n",
    "for chunk in response:\n",
    "    print(chunk.choices[0].delta.content)"
   ]
  },
  {
   "cell_type": "code",
   "execution_count": null,
   "metadata": {},
   "outputs": [],
   "source": []
  }
 ],
 "metadata": {
  "kernelspec": {
   "display_name": "prompt-sail-hDSOLtZB-py3.10",
   "language": "python",
   "name": "python3"
  },
  "language_info": {
   "codemirror_mode": {
    "name": "ipython",
    "version": 3
   },
   "file_extension": ".py",
   "mimetype": "text/x-python",
   "name": "python",
   "nbconvert_exporter": "python",
   "pygments_lexer": "ipython3",
   "version": "3.10.11"
  }
 },
 "nbformat": 4,
 "nbformat_minor": 2
}
