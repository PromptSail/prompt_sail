{
 "cells": [
  {
   "cell_type": "markdown",
   "metadata": {},
   "source": [
    "# How to connect to OpenAI service via PromptSail and OpenAI Python SDK"
   ]
  },
  {
   "cell_type": "markdown",
   "metadata": {},
   "source": [
    "First import the OpenAI Python SDK and load your API key from the environment.\n",
    "\n",
    "\n",
    "Install all the necessary packages from [examples/pyproject.toml](pyproject.toml) by running the following command:\n",
    "\n",
    "```bash \n",
    "cd prompt_sail/examples\n",
    "poetry install\n",
    "```"
   ]
  },
  {
   "cell_type": "code",
   "metadata": {
    "ExecuteTime": {
     "end_time": "2024-07-11T11:12:01.773523Z",
     "start_time": "2024-07-11T11:11:58.508350Z"
    }
   },
   "source": [
    "from openai import OpenAI\n",
    "import os\n",
    "from dotenv import load_dotenv, dotenv_values\n",
    "from rich import print\n",
    "\n",
    "config = dotenv_values(\".env\")\n",
    "\n",
    "openai_key = config[\"OPENAI_API_KEY\"]\n",
    "openai_org_id = config[\"OPENAI_ORG_ID\"]\n",
    "print(\n",
    "    f\"OpenAI api key={openai_key[0:3]}...{openai_key[-3:]}\"\n",
    ")"
   ],
   "outputs": [
    {
     "data": {
      "text/plain": [
       "OpenAI api \u001B[33mkey\u001B[0m=\u001B[35msk\u001B[0m-\u001B[33m...\u001B[0mfRh\n"
      ],
      "text/html": [
       "<pre style=\"white-space:pre;overflow-x:auto;line-height:normal;font-family:Menlo,'DejaVu Sans Mono',consolas,'Courier New',monospace\">OpenAI api <span style=\"color: #808000; text-decoration-color: #808000\">key</span>=<span style=\"color: #800080; text-decoration-color: #800080\">sk</span>-<span style=\"color: #808000; text-decoration-color: #808000\">...</span>fRh\n",
       "</pre>\n"
      ]
     },
     "metadata": {},
     "output_type": "display_data"
    }
   ],
   "execution_count": 1
  },
  {
   "cell_type": "markdown",
   "metadata": {},
   "source": [
    "Lets see what gpt models are available for the API key we loaded."
   ]
  },
  {
   "cell_type": "code",
   "metadata": {
    "ExecuteTime": {
     "end_time": "2024-07-11T11:12:14.707137Z",
     "start_time": "2024-07-11T11:12:13.490347Z"
    }
   },
   "source": [
    "client_org = OpenAI(\n",
    "    organization=openai_org_id,\n",
    "    api_key=openai_key,\n",
    ")\n",
    "models = client_org.models.list().data\n",
    "models = [m for m in models if \"gpt\" in m.id.lower()]\n",
    "\n",
    "# sort models by model id\n",
    "models = sorted(models, key=lambda x: x.id)\n",
    "\n",
    "# print models which contains gpt in the name\n",
    "print(models)"
   ],
   "outputs": [
    {
     "data": {
      "text/plain": [
       "\u001B[1m[\u001B[0m\n",
       "    \u001B[1;35mModel\u001B[0m\u001B[1m(\u001B[0m\u001B[33mid\u001B[0m=\u001B[32m'gpt-3.5-turbo'\u001B[0m, \u001B[33mcreated\u001B[0m=\u001B[1;36m1677610602\u001B[0m, \u001B[33mobject\u001B[0m=\u001B[32m'model'\u001B[0m, \u001B[33mowned_by\u001B[0m=\u001B[32m'openai'\u001B[0m\u001B[1m)\u001B[0m,\n",
       "    \u001B[1;35mModel\u001B[0m\u001B[1m(\u001B[0m\u001B[33mid\u001B[0m=\u001B[32m'gpt-3.5-turbo-0125'\u001B[0m, \u001B[33mcreated\u001B[0m=\u001B[1;36m1706048358\u001B[0m, \u001B[33mobject\u001B[0m=\u001B[32m'model'\u001B[0m, \u001B[33mowned_by\u001B[0m=\u001B[32m'system'\u001B[0m\u001B[1m)\u001B[0m,\n",
       "    \u001B[1;35mModel\u001B[0m\u001B[1m(\u001B[0m\u001B[33mid\u001B[0m=\u001B[32m'gpt-3.5-turbo-0301'\u001B[0m, \u001B[33mcreated\u001B[0m=\u001B[1;36m1677649963\u001B[0m, \u001B[33mobject\u001B[0m=\u001B[32m'model'\u001B[0m, \u001B[33mowned_by\u001B[0m=\u001B[32m'openai'\u001B[0m\u001B[1m)\u001B[0m,\n",
       "    \u001B[1;35mModel\u001B[0m\u001B[1m(\u001B[0m\u001B[33mid\u001B[0m=\u001B[32m'gpt-3.5-turbo-0613'\u001B[0m, \u001B[33mcreated\u001B[0m=\u001B[1;36m1686587434\u001B[0m, \u001B[33mobject\u001B[0m=\u001B[32m'model'\u001B[0m, \u001B[33mowned_by\u001B[0m=\u001B[32m'openai'\u001B[0m\u001B[1m)\u001B[0m,\n",
       "    \u001B[1;35mModel\u001B[0m\u001B[1m(\u001B[0m\u001B[33mid\u001B[0m=\u001B[32m'gpt-3.5-turbo-1106'\u001B[0m, \u001B[33mcreated\u001B[0m=\u001B[1;36m1698959748\u001B[0m, \u001B[33mobject\u001B[0m=\u001B[32m'model'\u001B[0m, \u001B[33mowned_by\u001B[0m=\u001B[32m'system'\u001B[0m\u001B[1m)\u001B[0m,\n",
       "    \u001B[1;35mModel\u001B[0m\u001B[1m(\u001B[0m\u001B[33mid\u001B[0m=\u001B[32m'gpt-3.5-turbo-16k'\u001B[0m, \u001B[33mcreated\u001B[0m=\u001B[1;36m1683758102\u001B[0m, \u001B[33mobject\u001B[0m=\u001B[32m'model'\u001B[0m, \u001B[33mowned_by\u001B[0m=\u001B[32m'openai-internal'\u001B[0m\u001B[1m)\u001B[0m,\n",
       "    \u001B[1;35mModel\u001B[0m\u001B[1m(\u001B[0m\u001B[33mid\u001B[0m=\u001B[32m'gpt-3.5-turbo-16k-0613'\u001B[0m, \u001B[33mcreated\u001B[0m=\u001B[1;36m1685474247\u001B[0m, \u001B[33mobject\u001B[0m=\u001B[32m'model'\u001B[0m, \u001B[33mowned_by\u001B[0m=\u001B[32m'openai'\u001B[0m\u001B[1m)\u001B[0m,\n",
       "    \u001B[1;35mModel\u001B[0m\u001B[1m(\u001B[0m\u001B[33mid\u001B[0m=\u001B[32m'gpt-3.5-turbo-instruct'\u001B[0m, \u001B[33mcreated\u001B[0m=\u001B[1;36m1692901427\u001B[0m, \u001B[33mobject\u001B[0m=\u001B[32m'model'\u001B[0m, \u001B[33mowned_by\u001B[0m=\u001B[32m'system'\u001B[0m\u001B[1m)\u001B[0m,\n",
       "    \u001B[1;35mModel\u001B[0m\u001B[1m(\u001B[0m\u001B[33mid\u001B[0m=\u001B[32m'gpt-3.5-turbo-instruct-0914'\u001B[0m, \u001B[33mcreated\u001B[0m=\u001B[1;36m1694122472\u001B[0m, \u001B[33mobject\u001B[0m=\u001B[32m'model'\u001B[0m, \u001B[33mowned_by\u001B[0m=\u001B[32m'system'\u001B[0m\u001B[1m)\u001B[0m,\n",
       "    \u001B[1;35mModel\u001B[0m\u001B[1m(\u001B[0m\u001B[33mid\u001B[0m=\u001B[32m'gpt-4'\u001B[0m, \u001B[33mcreated\u001B[0m=\u001B[1;36m1687882411\u001B[0m, \u001B[33mobject\u001B[0m=\u001B[32m'model'\u001B[0m, \u001B[33mowned_by\u001B[0m=\u001B[32m'openai'\u001B[0m\u001B[1m)\u001B[0m,\n",
       "    \u001B[1;35mModel\u001B[0m\u001B[1m(\u001B[0m\u001B[33mid\u001B[0m=\u001B[32m'gpt-4-0125-preview'\u001B[0m, \u001B[33mcreated\u001B[0m=\u001B[1;36m1706037612\u001B[0m, \u001B[33mobject\u001B[0m=\u001B[32m'model'\u001B[0m, \u001B[33mowned_by\u001B[0m=\u001B[32m'system'\u001B[0m\u001B[1m)\u001B[0m,\n",
       "    \u001B[1;35mModel\u001B[0m\u001B[1m(\u001B[0m\u001B[33mid\u001B[0m=\u001B[32m'gpt-4-0613'\u001B[0m, \u001B[33mcreated\u001B[0m=\u001B[1;36m1686588896\u001B[0m, \u001B[33mobject\u001B[0m=\u001B[32m'model'\u001B[0m, \u001B[33mowned_by\u001B[0m=\u001B[32m'openai'\u001B[0m\u001B[1m)\u001B[0m,\n",
       "    \u001B[1;35mModel\u001B[0m\u001B[1m(\u001B[0m\u001B[33mid\u001B[0m=\u001B[32m'gpt-4-1106-preview'\u001B[0m, \u001B[33mcreated\u001B[0m=\u001B[1;36m1698957206\u001B[0m, \u001B[33mobject\u001B[0m=\u001B[32m'model'\u001B[0m, \u001B[33mowned_by\u001B[0m=\u001B[32m'system'\u001B[0m\u001B[1m)\u001B[0m,\n",
       "    \u001B[1;35mModel\u001B[0m\u001B[1m(\u001B[0m\u001B[33mid\u001B[0m=\u001B[32m'gpt-4-1106-vision-preview'\u001B[0m, \u001B[33mcreated\u001B[0m=\u001B[1;36m1711473033\u001B[0m, \u001B[33mobject\u001B[0m=\u001B[32m'model'\u001B[0m, \u001B[33mowned_by\u001B[0m=\u001B[32m'system'\u001B[0m\u001B[1m)\u001B[0m,\n",
       "    \u001B[1;35mModel\u001B[0m\u001B[1m(\u001B[0m\u001B[33mid\u001B[0m=\u001B[32m'gpt-4-turbo'\u001B[0m, \u001B[33mcreated\u001B[0m=\u001B[1;36m1712361441\u001B[0m, \u001B[33mobject\u001B[0m=\u001B[32m'model'\u001B[0m, \u001B[33mowned_by\u001B[0m=\u001B[32m'system'\u001B[0m\u001B[1m)\u001B[0m,\n",
       "    \u001B[1;35mModel\u001B[0m\u001B[1m(\u001B[0m\u001B[33mid\u001B[0m=\u001B[32m'gpt-4-turbo-2024-04-09'\u001B[0m, \u001B[33mcreated\u001B[0m=\u001B[1;36m1712601677\u001B[0m, \u001B[33mobject\u001B[0m=\u001B[32m'model'\u001B[0m, \u001B[33mowned_by\u001B[0m=\u001B[32m'system'\u001B[0m\u001B[1m)\u001B[0m,\n",
       "    \u001B[1;35mModel\u001B[0m\u001B[1m(\u001B[0m\u001B[33mid\u001B[0m=\u001B[32m'gpt-4-turbo-preview'\u001B[0m, \u001B[33mcreated\u001B[0m=\u001B[1;36m1706037777\u001B[0m, \u001B[33mobject\u001B[0m=\u001B[32m'model'\u001B[0m, \u001B[33mowned_by\u001B[0m=\u001B[32m'system'\u001B[0m\u001B[1m)\u001B[0m,\n",
       "    \u001B[1;35mModel\u001B[0m\u001B[1m(\u001B[0m\u001B[33mid\u001B[0m=\u001B[32m'gpt-4-vision-preview'\u001B[0m, \u001B[33mcreated\u001B[0m=\u001B[1;36m1698894917\u001B[0m, \u001B[33mobject\u001B[0m=\u001B[32m'model'\u001B[0m, \u001B[33mowned_by\u001B[0m=\u001B[32m'system'\u001B[0m\u001B[1m)\u001B[0m,\n",
       "    \u001B[1;35mModel\u001B[0m\u001B[1m(\u001B[0m\u001B[33mid\u001B[0m=\u001B[32m'gpt-4o'\u001B[0m, \u001B[33mcreated\u001B[0m=\u001B[1;36m1715367049\u001B[0m, \u001B[33mobject\u001B[0m=\u001B[32m'model'\u001B[0m, \u001B[33mowned_by\u001B[0m=\u001B[32m'system'\u001B[0m\u001B[1m)\u001B[0m,\n",
       "    \u001B[1;35mModel\u001B[0m\u001B[1m(\u001B[0m\u001B[33mid\u001B[0m=\u001B[32m'gpt-4o-2024-05-13'\u001B[0m, \u001B[33mcreated\u001B[0m=\u001B[1;36m1715368132\u001B[0m, \u001B[33mobject\u001B[0m=\u001B[32m'model'\u001B[0m, \u001B[33mowned_by\u001B[0m=\u001B[32m'system'\u001B[0m\u001B[1m)\u001B[0m\n",
       "\u001B[1m]\u001B[0m\n"
      ],
      "text/html": [
       "<pre style=\"white-space:pre;overflow-x:auto;line-height:normal;font-family:Menlo,'DejaVu Sans Mono',consolas,'Courier New',monospace\"><span style=\"font-weight: bold\">[</span>\n",
       "    <span style=\"color: #800080; text-decoration-color: #800080; font-weight: bold\">Model</span><span style=\"font-weight: bold\">(</span><span style=\"color: #808000; text-decoration-color: #808000\">id</span>=<span style=\"color: #008000; text-decoration-color: #008000\">'gpt-3.5-turbo'</span>, <span style=\"color: #808000; text-decoration-color: #808000\">created</span>=<span style=\"color: #008080; text-decoration-color: #008080; font-weight: bold\">1677610602</span>, <span style=\"color: #808000; text-decoration-color: #808000\">object</span>=<span style=\"color: #008000; text-decoration-color: #008000\">'model'</span>, <span style=\"color: #808000; text-decoration-color: #808000\">owned_by</span>=<span style=\"color: #008000; text-decoration-color: #008000\">'openai'</span><span style=\"font-weight: bold\">)</span>,\n",
       "    <span style=\"color: #800080; text-decoration-color: #800080; font-weight: bold\">Model</span><span style=\"font-weight: bold\">(</span><span style=\"color: #808000; text-decoration-color: #808000\">id</span>=<span style=\"color: #008000; text-decoration-color: #008000\">'gpt-3.5-turbo-0125'</span>, <span style=\"color: #808000; text-decoration-color: #808000\">created</span>=<span style=\"color: #008080; text-decoration-color: #008080; font-weight: bold\">1706048358</span>, <span style=\"color: #808000; text-decoration-color: #808000\">object</span>=<span style=\"color: #008000; text-decoration-color: #008000\">'model'</span>, <span style=\"color: #808000; text-decoration-color: #808000\">owned_by</span>=<span style=\"color: #008000; text-decoration-color: #008000\">'system'</span><span style=\"font-weight: bold\">)</span>,\n",
       "    <span style=\"color: #800080; text-decoration-color: #800080; font-weight: bold\">Model</span><span style=\"font-weight: bold\">(</span><span style=\"color: #808000; text-decoration-color: #808000\">id</span>=<span style=\"color: #008000; text-decoration-color: #008000\">'gpt-3.5-turbo-0301'</span>, <span style=\"color: #808000; text-decoration-color: #808000\">created</span>=<span style=\"color: #008080; text-decoration-color: #008080; font-weight: bold\">1677649963</span>, <span style=\"color: #808000; text-decoration-color: #808000\">object</span>=<span style=\"color: #008000; text-decoration-color: #008000\">'model'</span>, <span style=\"color: #808000; text-decoration-color: #808000\">owned_by</span>=<span style=\"color: #008000; text-decoration-color: #008000\">'openai'</span><span style=\"font-weight: bold\">)</span>,\n",
       "    <span style=\"color: #800080; text-decoration-color: #800080; font-weight: bold\">Model</span><span style=\"font-weight: bold\">(</span><span style=\"color: #808000; text-decoration-color: #808000\">id</span>=<span style=\"color: #008000; text-decoration-color: #008000\">'gpt-3.5-turbo-0613'</span>, <span style=\"color: #808000; text-decoration-color: #808000\">created</span>=<span style=\"color: #008080; text-decoration-color: #008080; font-weight: bold\">1686587434</span>, <span style=\"color: #808000; text-decoration-color: #808000\">object</span>=<span style=\"color: #008000; text-decoration-color: #008000\">'model'</span>, <span style=\"color: #808000; text-decoration-color: #808000\">owned_by</span>=<span style=\"color: #008000; text-decoration-color: #008000\">'openai'</span><span style=\"font-weight: bold\">)</span>,\n",
       "    <span style=\"color: #800080; text-decoration-color: #800080; font-weight: bold\">Model</span><span style=\"font-weight: bold\">(</span><span style=\"color: #808000; text-decoration-color: #808000\">id</span>=<span style=\"color: #008000; text-decoration-color: #008000\">'gpt-3.5-turbo-1106'</span>, <span style=\"color: #808000; text-decoration-color: #808000\">created</span>=<span style=\"color: #008080; text-decoration-color: #008080; font-weight: bold\">1698959748</span>, <span style=\"color: #808000; text-decoration-color: #808000\">object</span>=<span style=\"color: #008000; text-decoration-color: #008000\">'model'</span>, <span style=\"color: #808000; text-decoration-color: #808000\">owned_by</span>=<span style=\"color: #008000; text-decoration-color: #008000\">'system'</span><span style=\"font-weight: bold\">)</span>,\n",
       "    <span style=\"color: #800080; text-decoration-color: #800080; font-weight: bold\">Model</span><span style=\"font-weight: bold\">(</span><span style=\"color: #808000; text-decoration-color: #808000\">id</span>=<span style=\"color: #008000; text-decoration-color: #008000\">'gpt-3.5-turbo-16k'</span>, <span style=\"color: #808000; text-decoration-color: #808000\">created</span>=<span style=\"color: #008080; text-decoration-color: #008080; font-weight: bold\">1683758102</span>, <span style=\"color: #808000; text-decoration-color: #808000\">object</span>=<span style=\"color: #008000; text-decoration-color: #008000\">'model'</span>, <span style=\"color: #808000; text-decoration-color: #808000\">owned_by</span>=<span style=\"color: #008000; text-decoration-color: #008000\">'openai-internal'</span><span style=\"font-weight: bold\">)</span>,\n",
       "    <span style=\"color: #800080; text-decoration-color: #800080; font-weight: bold\">Model</span><span style=\"font-weight: bold\">(</span><span style=\"color: #808000; text-decoration-color: #808000\">id</span>=<span style=\"color: #008000; text-decoration-color: #008000\">'gpt-3.5-turbo-16k-0613'</span>, <span style=\"color: #808000; text-decoration-color: #808000\">created</span>=<span style=\"color: #008080; text-decoration-color: #008080; font-weight: bold\">1685474247</span>, <span style=\"color: #808000; text-decoration-color: #808000\">object</span>=<span style=\"color: #008000; text-decoration-color: #008000\">'model'</span>, <span style=\"color: #808000; text-decoration-color: #808000\">owned_by</span>=<span style=\"color: #008000; text-decoration-color: #008000\">'openai'</span><span style=\"font-weight: bold\">)</span>,\n",
       "    <span style=\"color: #800080; text-decoration-color: #800080; font-weight: bold\">Model</span><span style=\"font-weight: bold\">(</span><span style=\"color: #808000; text-decoration-color: #808000\">id</span>=<span style=\"color: #008000; text-decoration-color: #008000\">'gpt-3.5-turbo-instruct'</span>, <span style=\"color: #808000; text-decoration-color: #808000\">created</span>=<span style=\"color: #008080; text-decoration-color: #008080; font-weight: bold\">1692901427</span>, <span style=\"color: #808000; text-decoration-color: #808000\">object</span>=<span style=\"color: #008000; text-decoration-color: #008000\">'model'</span>, <span style=\"color: #808000; text-decoration-color: #808000\">owned_by</span>=<span style=\"color: #008000; text-decoration-color: #008000\">'system'</span><span style=\"font-weight: bold\">)</span>,\n",
       "    <span style=\"color: #800080; text-decoration-color: #800080; font-weight: bold\">Model</span><span style=\"font-weight: bold\">(</span><span style=\"color: #808000; text-decoration-color: #808000\">id</span>=<span style=\"color: #008000; text-decoration-color: #008000\">'gpt-3.5-turbo-instruct-0914'</span>, <span style=\"color: #808000; text-decoration-color: #808000\">created</span>=<span style=\"color: #008080; text-decoration-color: #008080; font-weight: bold\">1694122472</span>, <span style=\"color: #808000; text-decoration-color: #808000\">object</span>=<span style=\"color: #008000; text-decoration-color: #008000\">'model'</span>, <span style=\"color: #808000; text-decoration-color: #808000\">owned_by</span>=<span style=\"color: #008000; text-decoration-color: #008000\">'system'</span><span style=\"font-weight: bold\">)</span>,\n",
       "    <span style=\"color: #800080; text-decoration-color: #800080; font-weight: bold\">Model</span><span style=\"font-weight: bold\">(</span><span style=\"color: #808000; text-decoration-color: #808000\">id</span>=<span style=\"color: #008000; text-decoration-color: #008000\">'gpt-4'</span>, <span style=\"color: #808000; text-decoration-color: #808000\">created</span>=<span style=\"color: #008080; text-decoration-color: #008080; font-weight: bold\">1687882411</span>, <span style=\"color: #808000; text-decoration-color: #808000\">object</span>=<span style=\"color: #008000; text-decoration-color: #008000\">'model'</span>, <span style=\"color: #808000; text-decoration-color: #808000\">owned_by</span>=<span style=\"color: #008000; text-decoration-color: #008000\">'openai'</span><span style=\"font-weight: bold\">)</span>,\n",
       "    <span style=\"color: #800080; text-decoration-color: #800080; font-weight: bold\">Model</span><span style=\"font-weight: bold\">(</span><span style=\"color: #808000; text-decoration-color: #808000\">id</span>=<span style=\"color: #008000; text-decoration-color: #008000\">'gpt-4-0125-preview'</span>, <span style=\"color: #808000; text-decoration-color: #808000\">created</span>=<span style=\"color: #008080; text-decoration-color: #008080; font-weight: bold\">1706037612</span>, <span style=\"color: #808000; text-decoration-color: #808000\">object</span>=<span style=\"color: #008000; text-decoration-color: #008000\">'model'</span>, <span style=\"color: #808000; text-decoration-color: #808000\">owned_by</span>=<span style=\"color: #008000; text-decoration-color: #008000\">'system'</span><span style=\"font-weight: bold\">)</span>,\n",
       "    <span style=\"color: #800080; text-decoration-color: #800080; font-weight: bold\">Model</span><span style=\"font-weight: bold\">(</span><span style=\"color: #808000; text-decoration-color: #808000\">id</span>=<span style=\"color: #008000; text-decoration-color: #008000\">'gpt-4-0613'</span>, <span style=\"color: #808000; text-decoration-color: #808000\">created</span>=<span style=\"color: #008080; text-decoration-color: #008080; font-weight: bold\">1686588896</span>, <span style=\"color: #808000; text-decoration-color: #808000\">object</span>=<span style=\"color: #008000; text-decoration-color: #008000\">'model'</span>, <span style=\"color: #808000; text-decoration-color: #808000\">owned_by</span>=<span style=\"color: #008000; text-decoration-color: #008000\">'openai'</span><span style=\"font-weight: bold\">)</span>,\n",
       "    <span style=\"color: #800080; text-decoration-color: #800080; font-weight: bold\">Model</span><span style=\"font-weight: bold\">(</span><span style=\"color: #808000; text-decoration-color: #808000\">id</span>=<span style=\"color: #008000; text-decoration-color: #008000\">'gpt-4-1106-preview'</span>, <span style=\"color: #808000; text-decoration-color: #808000\">created</span>=<span style=\"color: #008080; text-decoration-color: #008080; font-weight: bold\">1698957206</span>, <span style=\"color: #808000; text-decoration-color: #808000\">object</span>=<span style=\"color: #008000; text-decoration-color: #008000\">'model'</span>, <span style=\"color: #808000; text-decoration-color: #808000\">owned_by</span>=<span style=\"color: #008000; text-decoration-color: #008000\">'system'</span><span style=\"font-weight: bold\">)</span>,\n",
       "    <span style=\"color: #800080; text-decoration-color: #800080; font-weight: bold\">Model</span><span style=\"font-weight: bold\">(</span><span style=\"color: #808000; text-decoration-color: #808000\">id</span>=<span style=\"color: #008000; text-decoration-color: #008000\">'gpt-4-1106-vision-preview'</span>, <span style=\"color: #808000; text-decoration-color: #808000\">created</span>=<span style=\"color: #008080; text-decoration-color: #008080; font-weight: bold\">1711473033</span>, <span style=\"color: #808000; text-decoration-color: #808000\">object</span>=<span style=\"color: #008000; text-decoration-color: #008000\">'model'</span>, <span style=\"color: #808000; text-decoration-color: #808000\">owned_by</span>=<span style=\"color: #008000; text-decoration-color: #008000\">'system'</span><span style=\"font-weight: bold\">)</span>,\n",
       "    <span style=\"color: #800080; text-decoration-color: #800080; font-weight: bold\">Model</span><span style=\"font-weight: bold\">(</span><span style=\"color: #808000; text-decoration-color: #808000\">id</span>=<span style=\"color: #008000; text-decoration-color: #008000\">'gpt-4-turbo'</span>, <span style=\"color: #808000; text-decoration-color: #808000\">created</span>=<span style=\"color: #008080; text-decoration-color: #008080; font-weight: bold\">1712361441</span>, <span style=\"color: #808000; text-decoration-color: #808000\">object</span>=<span style=\"color: #008000; text-decoration-color: #008000\">'model'</span>, <span style=\"color: #808000; text-decoration-color: #808000\">owned_by</span>=<span style=\"color: #008000; text-decoration-color: #008000\">'system'</span><span style=\"font-weight: bold\">)</span>,\n",
       "    <span style=\"color: #800080; text-decoration-color: #800080; font-weight: bold\">Model</span><span style=\"font-weight: bold\">(</span><span style=\"color: #808000; text-decoration-color: #808000\">id</span>=<span style=\"color: #008000; text-decoration-color: #008000\">'gpt-4-turbo-2024-04-09'</span>, <span style=\"color: #808000; text-decoration-color: #808000\">created</span>=<span style=\"color: #008080; text-decoration-color: #008080; font-weight: bold\">1712601677</span>, <span style=\"color: #808000; text-decoration-color: #808000\">object</span>=<span style=\"color: #008000; text-decoration-color: #008000\">'model'</span>, <span style=\"color: #808000; text-decoration-color: #808000\">owned_by</span>=<span style=\"color: #008000; text-decoration-color: #008000\">'system'</span><span style=\"font-weight: bold\">)</span>,\n",
       "    <span style=\"color: #800080; text-decoration-color: #800080; font-weight: bold\">Model</span><span style=\"font-weight: bold\">(</span><span style=\"color: #808000; text-decoration-color: #808000\">id</span>=<span style=\"color: #008000; text-decoration-color: #008000\">'gpt-4-turbo-preview'</span>, <span style=\"color: #808000; text-decoration-color: #808000\">created</span>=<span style=\"color: #008080; text-decoration-color: #008080; font-weight: bold\">1706037777</span>, <span style=\"color: #808000; text-decoration-color: #808000\">object</span>=<span style=\"color: #008000; text-decoration-color: #008000\">'model'</span>, <span style=\"color: #808000; text-decoration-color: #808000\">owned_by</span>=<span style=\"color: #008000; text-decoration-color: #008000\">'system'</span><span style=\"font-weight: bold\">)</span>,\n",
       "    <span style=\"color: #800080; text-decoration-color: #800080; font-weight: bold\">Model</span><span style=\"font-weight: bold\">(</span><span style=\"color: #808000; text-decoration-color: #808000\">id</span>=<span style=\"color: #008000; text-decoration-color: #008000\">'gpt-4-vision-preview'</span>, <span style=\"color: #808000; text-decoration-color: #808000\">created</span>=<span style=\"color: #008080; text-decoration-color: #008080; font-weight: bold\">1698894917</span>, <span style=\"color: #808000; text-decoration-color: #808000\">object</span>=<span style=\"color: #008000; text-decoration-color: #008000\">'model'</span>, <span style=\"color: #808000; text-decoration-color: #808000\">owned_by</span>=<span style=\"color: #008000; text-decoration-color: #008000\">'system'</span><span style=\"font-weight: bold\">)</span>,\n",
       "    <span style=\"color: #800080; text-decoration-color: #800080; font-weight: bold\">Model</span><span style=\"font-weight: bold\">(</span><span style=\"color: #808000; text-decoration-color: #808000\">id</span>=<span style=\"color: #008000; text-decoration-color: #008000\">'gpt-4o'</span>, <span style=\"color: #808000; text-decoration-color: #808000\">created</span>=<span style=\"color: #008080; text-decoration-color: #008080; font-weight: bold\">1715367049</span>, <span style=\"color: #808000; text-decoration-color: #808000\">object</span>=<span style=\"color: #008000; text-decoration-color: #008000\">'model'</span>, <span style=\"color: #808000; text-decoration-color: #808000\">owned_by</span>=<span style=\"color: #008000; text-decoration-color: #008000\">'system'</span><span style=\"font-weight: bold\">)</span>,\n",
       "    <span style=\"color: #800080; text-decoration-color: #800080; font-weight: bold\">Model</span><span style=\"font-weight: bold\">(</span><span style=\"color: #808000; text-decoration-color: #808000\">id</span>=<span style=\"color: #008000; text-decoration-color: #008000\">'gpt-4o-2024-05-13'</span>, <span style=\"color: #808000; text-decoration-color: #808000\">created</span>=<span style=\"color: #008080; text-decoration-color: #008080; font-weight: bold\">1715368132</span>, <span style=\"color: #808000; text-decoration-color: #808000\">object</span>=<span style=\"color: #008000; text-decoration-color: #008000\">'model'</span>, <span style=\"color: #808000; text-decoration-color: #808000\">owned_by</span>=<span style=\"color: #008000; text-decoration-color: #008000\">'system'</span><span style=\"font-weight: bold\">)</span>\n",
       "<span style=\"font-weight: bold\">]</span>\n",
       "</pre>\n"
      ]
     },
     "metadata": {},
     "output_type": "display_data"
    }
   ],
   "execution_count": 2
  },
  {
   "cell_type": "markdown",
   "metadata": {},
   "source": [
    "Test the direct connection to OpenAI service via OpenAI Python SDK."
   ]
  },
  {
   "cell_type": "code",
   "metadata": {
    "ExecuteTime": {
     "end_time": "2024-07-11T11:12:16.849073Z",
     "start_time": "2024-07-11T11:12:16.824325Z"
    }
   },
   "source": [
    "haiku_prompt = [\n",
    "    {\n",
    "        \"role\": \"system\",\n",
    "        \"content\": \"You are a poetic assistant, skilled in explaining complex programming concepts with creative flair.\",\n",
    "    },\n",
    "    {\n",
    "        \"role\": \"user\",\n",
    "        \"content\": \"Compose a haiku that explains the concept of recursion in programming.\",\n",
    "    },\n",
    "]\n",
    "\n",
    "poem_prompt = [\n",
    "    {\n",
    "        \"role\": \"system\",\n",
    "        \"content\": \"You are a poetic assistant, skilled in explaining complex programming concepts with creative flair.\",\n",
    "    },\n",
    "    {\n",
    "        \"role\": \"user\",\n",
    "        \"content\": \"Compose a five line poem that explains the concept of recursion in programming.\",\n",
    "    },\n",
    "]\n",
    "\n",
    "yoda_prompt = [\n",
    "    {\n",
    "        \"role\": \"system\",\n",
    "        \"content\": \"Yoda assistant you are, skilled in explaining complex life and phisopical matters.\",\n",
    "    },\n",
    "    {\n",
    "        \"role\": \"user\",\n",
    "        \"content\": \"What number 42 means, be brief.\",\n",
    "    },\n",
    "]\n",
    "\n",
    "\n",
    "teacher_chat=[\n",
    "        {\n",
    "            \"role\": \"system\",\n",
    "            \"content\": \"You are teacher and help studends learn phisics, geography and chemistry.\",\n",
    "        },\n",
    "        {\n",
    "            \"role\": \"user\",\n",
    "            \"content\": \"Name the plantets in solar system.\",\n",
    "        },\n",
    "        {\n",
    "            \"role\": \"assistant\",\n",
    "            \"content\": \"The planets in our solar system, listed in order from closest to the Sun to farthest, are:\\n\\n1. Mercury\\n2. Venus\\n3. Earth\\n4. Mars\\n5. Jupiter\\n6. Saturn\\n7. Uranus\\n8. Neptune\\n\\nIt is worth mentioning that there is ongoing debate about the classification of Pluto, which was previously considered the ninth planet but is now classified as a dwarf planet.\",        \n",
    "        }, \n",
    "        { \n",
    "            \"role\": \"user\",\n",
    "            \"content\": \"What is the distance between Earth and Mars?\"\n",
    "        }\n",
    "]"
   ],
   "outputs": [],
   "execution_count": 3
  },
  {
   "cell_type": "code",
   "metadata": {
    "ExecuteTime": {
     "end_time": "2024-07-11T11:12:22.657375Z",
     "start_time": "2024-07-11T11:12:20.614490Z"
    }
   },
   "source": [
    "oai_client = OpenAI(api_key=openai_key)\n",
    "\n",
    "response = oai_client.chat.completions.create(\n",
    "    model=\"gpt-3.5-turbo\",\n",
    "    messages=teacher_chat,\n",
    ")\n",
    "\n",
    "print(response.choices[0].message.content)"
   ],
   "outputs": [
    {
     "data": {
      "text/plain": [
       "The distance between Earth and Mars varies depending on the positions of the two planets in their respective orbits\n",
       "around the Sun. On average, the distance between Earth and Mars is about \u001B[1;36m225\u001B[0m million kilometers \u001B[1m(\u001B[0m\u001B[1;36m140\u001B[0m million \n",
       "miles\u001B[1m)\u001B[0m. However, because both planets have elliptical orbits, the actual distance can range from about \u001B[1;36m54.6\u001B[0m million\n",
       "kilometers \u001B[1m(\u001B[0m\u001B[1;36m33.9\u001B[0m million miles\u001B[1m)\u001B[0m at their closest approach \u001B[1m(\u001B[0mopposition\u001B[1m)\u001B[0m to about \u001B[1;36m401\u001B[0m million kilometers \u001B[1m(\u001B[0m\u001B[1;36m249\u001B[0m million\n",
       "miles\u001B[1m)\u001B[0m at their farthest apart \u001B[1m(\u001B[0mconjunction\u001B[1m)\u001B[0m.\n"
      ],
      "text/html": [
       "<pre style=\"white-space:pre;overflow-x:auto;line-height:normal;font-family:Menlo,'DejaVu Sans Mono',consolas,'Courier New',monospace\">The distance between Earth and Mars varies depending on the positions of the two planets in their respective orbits\n",
       "around the Sun. On average, the distance between Earth and Mars is about <span style=\"color: #008080; text-decoration-color: #008080; font-weight: bold\">225</span> million kilometers <span style=\"font-weight: bold\">(</span><span style=\"color: #008080; text-decoration-color: #008080; font-weight: bold\">140</span> million \n",
       "miles<span style=\"font-weight: bold\">)</span>. However, because both planets have elliptical orbits, the actual distance can range from about <span style=\"color: #008080; text-decoration-color: #008080; font-weight: bold\">54.6</span> million\n",
       "kilometers <span style=\"font-weight: bold\">(</span><span style=\"color: #008080; text-decoration-color: #008080; font-weight: bold\">33.9</span> million miles<span style=\"font-weight: bold\">)</span> at their closest approach <span style=\"font-weight: bold\">(</span>opposition<span style=\"font-weight: bold\">)</span> to about <span style=\"color: #008080; text-decoration-color: #008080; font-weight: bold\">401</span> million kilometers <span style=\"font-weight: bold\">(</span><span style=\"color: #008080; text-decoration-color: #008080; font-weight: bold\">249</span> million\n",
       "miles<span style=\"font-weight: bold\">)</span> at their farthest apart <span style=\"font-weight: bold\">(</span>conjunction<span style=\"font-weight: bold\">)</span>.\n",
       "</pre>\n"
      ]
     },
     "metadata": {},
     "output_type": "display_data"
    }
   ],
   "execution_count": 4
  },
  {
   "cell_type": "markdown",
   "metadata": {},
   "source": [
    "Testing the streaming API"
   ]
  },
  {
   "cell_type": "code",
   "metadata": {
    "ExecuteTime": {
     "end_time": "2024-07-11T11:12:31.599684Z",
     "start_time": "2024-07-11T11:12:30.421141Z"
    }
   },
   "source": [
    "oai_client = OpenAI(api_key=openai_key)\n",
    "\n",
    "response = oai_client.chat.completions.create(\n",
    "    model=\"gpt-3.5-turbo\",\n",
    "    stream=True,\n",
    "    messages=haiku_prompt\n",
    ")\n",
    "\n",
    "for chunk in response:\n",
    "    print(chunk.choices[0].delta.content)"
   ],
   "outputs": [
    {
     "data": {
      "text/plain": [
       "\n"
      ],
      "text/html": [
       "<pre style=\"white-space:pre;overflow-x:auto;line-height:normal;font-family:Menlo,'DejaVu Sans Mono',consolas,'Courier New',monospace\">\n",
       "</pre>\n"
      ]
     },
     "metadata": {},
     "output_type": "display_data"
    },
    {
     "data": {
      "text/plain": [
       "In\n"
      ],
      "text/html": [
       "<pre style=\"white-space:pre;overflow-x:auto;line-height:normal;font-family:Menlo,'DejaVu Sans Mono',consolas,'Courier New',monospace\">In\n",
       "</pre>\n"
      ]
     },
     "metadata": {},
     "output_type": "display_data"
    },
    {
     "data": {
      "text/plain": [
       " code\n"
      ],
      "text/html": [
       "<pre style=\"white-space:pre;overflow-x:auto;line-height:normal;font-family:Menlo,'DejaVu Sans Mono',consolas,'Courier New',monospace\"> code\n",
       "</pre>\n"
      ]
     },
     "metadata": {},
     "output_type": "display_data"
    },
    {
     "data": {
      "text/plain": [
       " dance\n"
      ],
      "text/html": [
       "<pre style=\"white-space:pre;overflow-x:auto;line-height:normal;font-family:Menlo,'DejaVu Sans Mono',consolas,'Courier New',monospace\"> dance\n",
       "</pre>\n"
      ]
     },
     "metadata": {},
     "output_type": "display_data"
    },
    {
     "data": {
      "text/plain": [
       ",\n"
      ],
      "text/html": [
       "<pre style=\"white-space:pre;overflow-x:auto;line-height:normal;font-family:Menlo,'DejaVu Sans Mono',consolas,'Courier New',monospace\">,\n",
       "</pre>\n"
      ]
     },
     "metadata": {},
     "output_type": "display_data"
    },
    {
     "data": {
      "text/plain": [
       " loop\n"
      ],
      "text/html": [
       "<pre style=\"white-space:pre;overflow-x:auto;line-height:normal;font-family:Menlo,'DejaVu Sans Mono',consolas,'Courier New',monospace\"> loop\n",
       "</pre>\n"
      ]
     },
     "metadata": {},
     "output_type": "display_data"
    },
    {
     "data": {
      "text/plain": [
       " we\n"
      ],
      "text/html": [
       "<pre style=\"white-space:pre;overflow-x:auto;line-height:normal;font-family:Menlo,'DejaVu Sans Mono',consolas,'Courier New',monospace\"> we\n",
       "</pre>\n"
      ]
     },
     "metadata": {},
     "output_type": "display_data"
    },
    {
     "data": {
      "text/plain": [
       "aves\n"
      ],
      "text/html": [
       "<pre style=\"white-space:pre;overflow-x:auto;line-height:normal;font-family:Menlo,'DejaVu Sans Mono',consolas,'Courier New',monospace\">aves\n",
       "</pre>\n"
      ]
     },
     "metadata": {},
     "output_type": "display_data"
    },
    {
     "data": {
      "text/plain": [
       ",\n",
       "\n"
      ],
      "text/html": [
       "<pre style=\"white-space:pre;overflow-x:auto;line-height:normal;font-family:Menlo,'DejaVu Sans Mono',consolas,'Courier New',monospace\">,\n",
       "\n",
       "</pre>\n"
      ]
     },
     "metadata": {},
     "output_type": "display_data"
    },
    {
     "data": {
      "text/plain": [
       "Function\n"
      ],
      "text/html": [
       "<pre style=\"white-space:pre;overflow-x:auto;line-height:normal;font-family:Menlo,'DejaVu Sans Mono',consolas,'Courier New',monospace\">Function\n",
       "</pre>\n"
      ]
     },
     "metadata": {},
     "output_type": "display_data"
    },
    {
     "data": {
      "text/plain": [
       " calls\n"
      ],
      "text/html": [
       "<pre style=\"white-space:pre;overflow-x:auto;line-height:normal;font-family:Menlo,'DejaVu Sans Mono',consolas,'Courier New',monospace\"> calls\n",
       "</pre>\n"
      ]
     },
     "metadata": {},
     "output_type": "display_data"
    },
    {
     "data": {
      "text/plain": [
       " itself\n"
      ],
      "text/html": [
       "<pre style=\"white-space:pre;overflow-x:auto;line-height:normal;font-family:Menlo,'DejaVu Sans Mono',consolas,'Courier New',monospace\"> itself\n",
       "</pre>\n"
      ]
     },
     "metadata": {},
     "output_type": "display_data"
    },
    {
     "data": {
      "text/plain": [
       ",\n"
      ],
      "text/html": [
       "<pre style=\"white-space:pre;overflow-x:auto;line-height:normal;font-family:Menlo,'DejaVu Sans Mono',consolas,'Courier New',monospace\">,\n",
       "</pre>\n"
      ]
     },
     "metadata": {},
     "output_type": "display_data"
    },
    {
     "data": {
      "text/plain": [
       " leaves\n"
      ],
      "text/html": [
       "<pre style=\"white-space:pre;overflow-x:auto;line-height:normal;font-family:Menlo,'DejaVu Sans Mono',consolas,'Courier New',monospace\"> leaves\n",
       "</pre>\n"
      ]
     },
     "metadata": {},
     "output_type": "display_data"
    },
    {
     "data": {
      "text/plain": [
       "\n",
       "\n"
      ],
      "text/html": [
       "<pre style=\"white-space:pre;overflow-x:auto;line-height:normal;font-family:Menlo,'DejaVu Sans Mono',consolas,'Courier New',monospace\">\n",
       "\n",
       "</pre>\n"
      ]
     },
     "metadata": {},
     "output_type": "display_data"
    },
    {
     "data": {
      "text/plain": [
       "Iterations\n"
      ],
      "text/html": [
       "<pre style=\"white-space:pre;overflow-x:auto;line-height:normal;font-family:Menlo,'DejaVu Sans Mono',consolas,'Courier New',monospace\">Iterations\n",
       "</pre>\n"
      ]
     },
     "metadata": {},
     "output_type": "display_data"
    },
    {
     "data": {
      "text/plain": [
       " thrive\n"
      ],
      "text/html": [
       "<pre style=\"white-space:pre;overflow-x:auto;line-height:normal;font-family:Menlo,'DejaVu Sans Mono',consolas,'Courier New',monospace\"> thrive\n",
       "</pre>\n"
      ]
     },
     "metadata": {},
     "output_type": "display_data"
    },
    {
     "data": {
      "text/plain": [
       ".\n"
      ],
      "text/html": [
       "<pre style=\"white-space:pre;overflow-x:auto;line-height:normal;font-family:Menlo,'DejaVu Sans Mono',consolas,'Courier New',monospace\">.\n",
       "</pre>\n"
      ]
     },
     "metadata": {},
     "output_type": "display_data"
    },
    {
     "data": {
      "text/plain": [
       "\u001B[3;35mNone\u001B[0m\n"
      ],
      "text/html": [
       "<pre style=\"white-space:pre;overflow-x:auto;line-height:normal;font-family:Menlo,'DejaVu Sans Mono',consolas,'Courier New',monospace\"><span style=\"color: #800080; text-decoration-color: #800080; font-style: italic\">None</span>\n",
       "</pre>\n"
      ]
     },
     "metadata": {},
     "output_type": "display_data"
    }
   ],
   "execution_count": 5
  },
  {
   "cell_type": "markdown",
   "metadata": {},
   "source": [
    "## Create a request to the OpenAI via promptsail proxy"
   ]
  },
  {
   "cell_type": "markdown",
   "metadata": {},
   "source": [
    "Run the docker and go to PromptSail UI http://localhost/\n",
    "\n",
    "\n",
    "At the application start we created test projects (models-playground) with OpenAI API deployment. We will use project1 for this example.\n",
    "\n",
    "In this case we will use the default `Models Playground` settings:\n",
    "* with project_slug -> 'models-playground' \n",
    "* deployment_name -> 'openai'\n",
    "resulting in promptsail proxy url like this: \n",
    "\n",
    "**http://localhost:8000/models-playground/openai/** -> https://api.openai.com/v1\n",
    "\n",
    "You can create your own project if you want.\n",
    "\n"
   ]
  },
  {
   "cell_type": "code",
   "metadata": {
    "ExecuteTime": {
     "end_time": "2024-07-11T11:12:51.856184Z",
     "start_time": "2024-07-11T11:12:47.735757Z"
    }
   },
   "source": [
    "ps_api_base = \"http://localhost:8000/models-playground/openai/\"\n",
    "\n",
    "# adress with tags \n",
    "#ps_api_base = \"http://localhost:8000/models-playground/openai/?tags=examples,openai_sdk,chat,user_ks&target_path=\"\n",
    "\n",
    "\n",
    "ps_client = OpenAI(base_url=ps_api_base, api_key=openai_key, max_retries=0)\n",
    "\n",
    "\n",
    "# model_name = \"gpt-4-turbo-preview\"\n",
    "model_name = \"gpt-3.5-turbo-0125\"\n",
    "\n",
    "response = ps_client.chat.completions.create(\n",
    "    model=model_name,\n",
    "    temperature=0.5,\n",
    "    messages=teacher_chat,\n",
    ")\n",
    "\n",
    "print(response.choices[0].message.content)"
   ],
   "outputs": [
    {
     "data": {
      "text/plain": [
       "The distance between Earth and Mars varies depending on their positions in their respective orbits around the Sun. \n",
       "On average, the distance between Earth and Mars is about \u001B[1;36m225\u001B[0m million kilometers \u001B[1m(\u001B[0m\u001B[1;36m140\u001B[0m million miles\u001B[1m)\u001B[0m. However, \n",
       "because both planets have elliptical orbits, this distance can range from about \u001B[1;36m54.6\u001B[0m million kilometers \u001B[1m(\u001B[0m\u001B[1;36m33.9\u001B[0m \n",
       "million miles\u001B[1m)\u001B[0m at their closest approach \u001B[1m(\u001B[0mopposition\u001B[1m)\u001B[0m to about \u001B[1;36m401\u001B[0m million kilometers \u001B[1m(\u001B[0m\u001B[1;36m249\u001B[0m million miles\u001B[1m)\u001B[0m at their \n",
       "farthest distance \u001B[1m(\u001B[0mconjunction\u001B[1m)\u001B[0m.\n"
      ],
      "text/html": [
       "<pre style=\"white-space:pre;overflow-x:auto;line-height:normal;font-family:Menlo,'DejaVu Sans Mono',consolas,'Courier New',monospace\">The distance between Earth and Mars varies depending on their positions in their respective orbits around the Sun. \n",
       "On average, the distance between Earth and Mars is about <span style=\"color: #008080; text-decoration-color: #008080; font-weight: bold\">225</span> million kilometers <span style=\"font-weight: bold\">(</span><span style=\"color: #008080; text-decoration-color: #008080; font-weight: bold\">140</span> million miles<span style=\"font-weight: bold\">)</span>. However, \n",
       "because both planets have elliptical orbits, this distance can range from about <span style=\"color: #008080; text-decoration-color: #008080; font-weight: bold\">54.6</span> million kilometers <span style=\"font-weight: bold\">(</span><span style=\"color: #008080; text-decoration-color: #008080; font-weight: bold\">33.9</span> \n",
       "million miles<span style=\"font-weight: bold\">)</span> at their closest approach <span style=\"font-weight: bold\">(</span>opposition<span style=\"font-weight: bold\">)</span> to about <span style=\"color: #008080; text-decoration-color: #008080; font-weight: bold\">401</span> million kilometers <span style=\"font-weight: bold\">(</span><span style=\"color: #008080; text-decoration-color: #008080; font-weight: bold\">249</span> million miles<span style=\"font-weight: bold\">)</span> at their \n",
       "farthest distance <span style=\"font-weight: bold\">(</span>conjunction<span style=\"font-weight: bold\">)</span>.\n",
       "</pre>\n"
      ]
     },
     "metadata": {},
     "output_type": "display_data"
    }
   ],
   "execution_count": 6
  },
  {
   "cell_type": "markdown",
   "metadata": {},
   "source": [
    "### Streaming API"
   ]
  },
  {
   "cell_type": "code",
   "metadata": {
    "ExecuteTime": {
     "end_time": "2024-07-11T11:12:55.944133Z",
     "start_time": "2024-07-11T11:12:53.978254Z"
    }
   },
   "source": [
    "response = ps_client.chat.completions.create(\n",
    "    model=\"gpt-3.5-turbo\",\n",
    "    stream=True,\n",
    "    messages=haiku_prompt\n",
    ")\n",
    "\n",
    "for chunk in response:\n",
    "    print(chunk.choices[0].delta.content)"
   ],
   "outputs": [
    {
     "data": {
      "text/plain": [
       "\n"
      ],
      "text/html": [
       "<pre style=\"white-space:pre;overflow-x:auto;line-height:normal;font-family:Menlo,'DejaVu Sans Mono',consolas,'Courier New',monospace\">\n",
       "</pre>\n"
      ]
     },
     "metadata": {},
     "output_type": "display_data"
    },
    {
     "data": {
      "text/plain": [
       "In\n"
      ],
      "text/html": [
       "<pre style=\"white-space:pre;overflow-x:auto;line-height:normal;font-family:Menlo,'DejaVu Sans Mono',consolas,'Courier New',monospace\">In\n",
       "</pre>\n"
      ]
     },
     "metadata": {},
     "output_type": "display_data"
    },
    {
     "data": {
      "text/plain": [
       " loops\n"
      ],
      "text/html": [
       "<pre style=\"white-space:pre;overflow-x:auto;line-height:normal;font-family:Menlo,'DejaVu Sans Mono',consolas,'Courier New',monospace\"> loops\n",
       "</pre>\n"
      ]
     },
     "metadata": {},
     "output_type": "display_data"
    },
    {
     "data": {
      "text/plain": [
       " we\n"
      ],
      "text/html": [
       "<pre style=\"white-space:pre;overflow-x:auto;line-height:normal;font-family:Menlo,'DejaVu Sans Mono',consolas,'Courier New',monospace\"> we\n",
       "</pre>\n"
      ]
     },
     "metadata": {},
     "output_type": "display_data"
    },
    {
     "data": {
      "text/plain": [
       " wander\n"
      ],
      "text/html": [
       "<pre style=\"white-space:pre;overflow-x:auto;line-height:normal;font-family:Menlo,'DejaVu Sans Mono',consolas,'Courier New',monospace\"> wander\n",
       "</pre>\n"
      ]
     },
     "metadata": {},
     "output_type": "display_data"
    },
    {
     "data": {
      "text/plain": [
       ",\n",
       "\n"
      ],
      "text/html": [
       "<pre style=\"white-space:pre;overflow-x:auto;line-height:normal;font-family:Menlo,'DejaVu Sans Mono',consolas,'Courier New',monospace\">,\n",
       "\n",
       "</pre>\n"
      ]
     },
     "metadata": {},
     "output_type": "display_data"
    },
    {
     "data": {
      "text/plain": [
       "Rec\n"
      ],
      "text/html": [
       "<pre style=\"white-space:pre;overflow-x:auto;line-height:normal;font-family:Menlo,'DejaVu Sans Mono',consolas,'Courier New',monospace\">Rec\n",
       "</pre>\n"
      ]
     },
     "metadata": {},
     "output_type": "display_data"
    },
    {
     "data": {
      "text/plain": [
       "ursion\n"
      ],
      "text/html": [
       "<pre style=\"white-space:pre;overflow-x:auto;line-height:normal;font-family:Menlo,'DejaVu Sans Mono',consolas,'Courier New',monospace\">ursion\n",
       "</pre>\n"
      ]
     },
     "metadata": {},
     "output_type": "display_data"
    },
    {
     "data": {
      "text/plain": [
       " calls\n"
      ],
      "text/html": [
       "<pre style=\"white-space:pre;overflow-x:auto;line-height:normal;font-family:Menlo,'DejaVu Sans Mono',consolas,'Courier New',monospace\"> calls\n",
       "</pre>\n"
      ]
     },
     "metadata": {},
     "output_type": "display_data"
    },
    {
     "data": {
      "text/plain": [
       " within\n"
      ],
      "text/html": [
       "<pre style=\"white-space:pre;overflow-x:auto;line-height:normal;font-family:Menlo,'DejaVu Sans Mono',consolas,'Courier New',monospace\"> within\n",
       "</pre>\n"
      ]
     },
     "metadata": {},
     "output_type": "display_data"
    },
    {
     "data": {
      "text/plain": [
       ",\n",
       "\n"
      ],
      "text/html": [
       "<pre style=\"white-space:pre;overflow-x:auto;line-height:normal;font-family:Menlo,'DejaVu Sans Mono',consolas,'Courier New',monospace\">,\n",
       "\n",
       "</pre>\n"
      ]
     },
     "metadata": {},
     "output_type": "display_data"
    },
    {
     "data": {
      "text/plain": [
       "End\n"
      ],
      "text/html": [
       "<pre style=\"white-space:pre;overflow-x:auto;line-height:normal;font-family:Menlo,'DejaVu Sans Mono',consolas,'Courier New',monospace\">End\n",
       "</pre>\n"
      ]
     },
     "metadata": {},
     "output_type": "display_data"
    },
    {
     "data": {
      "text/plain": [
       "less\n"
      ],
      "text/html": [
       "<pre style=\"white-space:pre;overflow-x:auto;line-height:normal;font-family:Menlo,'DejaVu Sans Mono',consolas,'Courier New',monospace\">less\n",
       "</pre>\n"
      ]
     },
     "metadata": {},
     "output_type": "display_data"
    },
    {
     "data": {
      "text/plain": [
       " echoes\n"
      ],
      "text/html": [
       "<pre style=\"white-space:pre;overflow-x:auto;line-height:normal;font-family:Menlo,'DejaVu Sans Mono',consolas,'Courier New',monospace\"> echoes\n",
       "</pre>\n"
      ]
     },
     "metadata": {},
     "output_type": "display_data"
    },
    {
     "data": {
      "text/plain": [
       " code\n"
      ],
      "text/html": [
       "<pre style=\"white-space:pre;overflow-x:auto;line-height:normal;font-family:Menlo,'DejaVu Sans Mono',consolas,'Courier New',monospace\"> code\n",
       "</pre>\n"
      ]
     },
     "metadata": {},
     "output_type": "display_data"
    },
    {
     "data": {
      "text/plain": [
       ".\n"
      ],
      "text/html": [
       "<pre style=\"white-space:pre;overflow-x:auto;line-height:normal;font-family:Menlo,'DejaVu Sans Mono',consolas,'Courier New',monospace\">.\n",
       "</pre>\n"
      ]
     },
     "metadata": {},
     "output_type": "display_data"
    },
    {
     "data": {
      "text/plain": [
       "\u001B[3;35mNone\u001B[0m\n"
      ],
      "text/html": [
       "<pre style=\"white-space:pre;overflow-x:auto;line-height:normal;font-family:Menlo,'DejaVu Sans Mono',consolas,'Courier New',monospace\"><span style=\"color: #800080; text-decoration-color: #800080; font-style: italic\">None</span>\n",
       "</pre>\n"
      ]
     },
     "metadata": {},
     "output_type": "display_data"
    }
   ],
   "execution_count": 7
  }
 ],
 "metadata": {
  "kernelspec": {
   "display_name": "prompt-sail-hDSOLtZB-py3.10",
   "language": "python",
   "name": "python3"
  },
  "language_info": {
   "codemirror_mode": {
    "name": "ipython",
    "version": 3
   },
   "file_extension": ".py",
   "mimetype": "text/x-python",
   "name": "python",
   "nbconvert_exporter": "python",
   "pygments_lexer": "ipython3",
   "version": "3.10.6"
  }
 },
 "nbformat": 4,
 "nbformat_minor": 2
}
