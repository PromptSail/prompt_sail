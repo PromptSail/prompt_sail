{
 "cells": [
  {
   "cell_type": "markdown",
   "metadata": {},
   "source": [
    "# How to connect to OpenAI service via OpenAI Python SDK"
   ]
  },
  {
   "cell_type": "markdown",
   "metadata": {},
   "source": [
    "First import the OpenAI Python SDK and load your API key from the environment.\n"
   ]
  },
  {
   "cell_type": "code",
   "execution_count": 2,
   "metadata": {},
   "outputs": [
    {
     "name": "stdout",
     "output_type": "stream",
     "text": [
      "OpenAI api key=sk-...Uzy\n"
     ]
    }
   ],
   "source": [
    "from openai import OpenAI\n",
    "import os\n",
    "from dotenv import load_dotenv, dotenv_values\n",
    "from pprint import pprint\n",
    "\n",
    "config = dotenv_values(\".env\")\n",
    "\n",
    "openai_key = config[\"OPENAI_API_KEY\"]\n",
    "openai_org_id = config[\"OPENAI_ORG_ID\"]\n",
    "print(\n",
    "    f\"OpenAI api key={openai_key[0:3]}...{openai_key[-3:]}\"\n",
    ")"
   ]
  },
  {
   "cell_type": "markdown",
   "metadata": {},
   "source": [
    "Lets see what gpt models are available for the API key we loaded."
   ]
  },
  {
   "cell_type": "code",
   "execution_count": 3,
   "metadata": {},
   "outputs": [
    {
     "name": "stdout",
     "output_type": "stream",
     "text": [
      "[Model(id='gpt-3.5-turbo', created=1677610602, object='model', owned_by='openai'),\n",
      " Model(id='gpt-3.5-turbo-0301', created=1677649963, object='model', owned_by='openai'),\n",
      " Model(id='gpt-3.5-turbo-0613', created=1686587434, object='model', owned_by='openai'),\n",
      " Model(id='gpt-3.5-turbo-1106', created=1698959748, object='model', owned_by='system'),\n",
      " Model(id='gpt-3.5-turbo-16k', created=1683758102, object='model', owned_by='openai-internal'),\n",
      " Model(id='gpt-3.5-turbo-16k-0613', created=1685474247, object='model', owned_by='openai'),\n",
      " Model(id='gpt-3.5-turbo-instruct', created=1692901427, object='model', owned_by='system'),\n",
      " Model(id='gpt-3.5-turbo-instruct-0914', created=1694122472, object='model', owned_by='system'),\n",
      " Model(id='gpt-4', created=1687882411, object='model', owned_by='openai'),\n",
      " Model(id='gpt-4-0314', created=1687882410, object='model', owned_by='openai'),\n",
      " Model(id='gpt-4-0613', created=1686588896, object='model', owned_by='openai'),\n",
      " Model(id='gpt-4-1106-preview', created=1698957206, object='model', owned_by='system'),\n",
      " Model(id='gpt-4-vision-preview', created=1698894917, object='model', owned_by='system')]\n"
     ]
    }
   ],
   "source": [
    "client_org = OpenAI(\n",
    "    organization=openai_org_id,\n",
    "    api_key=openai_key,\n",
    ")\n",
    "models = client_org.models.list().data\n",
    "models = [m for m in models if \"gpt\" in m.id.lower()]\n",
    "\n",
    "# sort models by model id\n",
    "models = sorted(models, key=lambda x: x.id)\n",
    "\n",
    "# print models which contains gpt in the name\n",
    "pprint(models)"
   ]
  },
  {
   "cell_type": "markdown",
   "metadata": {},
   "source": [
    "Test the direct connection to OpenAI service via OpenAI Python SDK."
   ]
  },
  {
   "cell_type": "code",
   "execution_count": 4,
   "metadata": {},
   "outputs": [
    {
     "name": "stdout",
     "output_type": "stream",
     "text": [
      "('Amidst the realm of code and lines,\\n'\n",
      " 'Recursion whispers, its voice entwines.\\n'\n",
      " 'A concept abstract, yet deeply profound,\\n'\n",
      " 'Where algorithms dance, a symphony resound.\\n'\n",
      " '\\n'\n",
      " 'In a world of loops, where patterns twist,\\n'\n",
      " 'Recursion emerges, persistent and persist.\\n'\n",
      " 'A self-referential enchantment it weaves,\\n'\n",
      " 'Unraveling mysteries, like autumnal leaves.\\n'\n",
      " '\\n'\n",
      " 'Like a Russian doll, nesting with grace,\\n'\n",
      " 'Recursion explores, in a mystical chase.\\n'\n",
      " 'A function calls itself, again and again,\\n'\n",
      " 'Unraveling complexity, chasing the zen.\\n'\n",
      " '\\n'\n",
      " 'With elegance and grace, it navigates,\\n'\n",
      " 'Onwards it journeys, as it creates,\\n'\n",
      " 'Unraveling puzzles, one layer at a time,\\n'\n",
      " 'Looping within, in a parallel rhyme.\\n'\n",
      " '\\n'\n",
      " 'Each iteration brings forth new birth,\\n'\n",
      " 'A fractal unraveled, expanding its girth.\\n'\n",
      " 'In a recursive embrace, it finds its home,\\n'\n",
      " 'Revealing wonders, where answers roam.\\n'\n",
      " '\\n'\n",
      " 'Iteration within iteration, it soars high,\\n'\n",
      " 'An infinite loop, reaching for the sky.\\n'\n",
      " 'Yet, a condition halts its boundless flight,\\n'\n",
      " 'A base case anchors, sanity kept in sight.\\n'\n",
      " '\\n'\n",
      " 'For recursion knows, balance it keeps,\\n'\n",
      " 'Boundaries respected, the soul it reaps.\\n'\n",
      " 'With precision, it conquers complexities vast,\\n'\n",
      " 'Solving challenges, present and past.\\n'\n",
      " '\\n'\n",
      " 'So, let recursion be your guiding light,\\n'\n",
      " \"As you traverse the realms of code's delight.\\n\"\n",
      " 'Embrace the mystery, let it lead your way,\\n'\n",
      " 'In harmony with logic, let it sway.\\n'\n",
      " '\\n'\n",
      " 'For in this dance, where concepts collide,\\n'\n",
      " 'Recursion unfolds, a celestial tide.\\n'\n",
      " 'Let it unravel, with each call anew,\\n'\n",
      " 'A poetic rhythm, a programming breakthrough.')\n"
     ]
    }
   ],
   "source": [
    "oai_client = OpenAI(api_key=openai_key)\n",
    "\n",
    "\n",
    "response = oai_client.chat.completions.create(\n",
    "    model=\"gpt-3.5-turbo\",\n",
    "    messages=[\n",
    "        {\n",
    "            \"role\": \"system\",\n",
    "            \"content\": \"You are a poetic assistant, skilled in explaining complex programming concepts with creative flair.\",\n",
    "        },\n",
    "        {\n",
    "            \"role\": \"user\",\n",
    "            \"content\": \"Compose a poem that explains the concept of recursion in programming.\",\n",
    "        },\n",
    "    ],\n",
    ")\n",
    "\n",
    "pprint(response.choices[0].message.content)\n"
   ]
  },
  {
   "cell_type": "markdown",
   "metadata": {},
   "source": [
    "Testing the streaming API"
   ]
  },
  {
   "cell_type": "code",
   "execution_count": 16,
   "metadata": {},
   "outputs": [
    {
     "name": "stdout",
     "output_type": "stream",
     "text": [
      "\n",
      "Nested\n",
      " loops\n",
      ",\n",
      " endless\n",
      "\n",
      "\n",
      "Function\n",
      " calls\n",
      " itself\n",
      ",\n",
      " yet\n",
      "\n",
      "\n",
      "One\n",
      " task\n",
      " becomes\n",
      " all\n",
      "None\n"
     ]
    }
   ],
   "source": [
    "oai_client = OpenAI(api_key=openai_key)\n",
    "\n",
    "\n",
    "response = oai_client.chat.completions.create(\n",
    "    model=\"gpt-3.5-turbo\",\n",
    "    stream=True,\n",
    "    messages=[\n",
    "        {\n",
    "            \"role\": \"system\",\n",
    "            \"content\": \"You are a poetic assistant, skilled in explaining complex programming concepts with creative flair.\",\n",
    "        },\n",
    "        {\n",
    "            \"role\": \"user\",\n",
    "            \"content\": \"Compose a haiku that explains the concept of recursion in programming.\",\n",
    "        },\n",
    "    ],\n",
    ")\n",
    "\n",
    "for chunk in response:\n",
    "    print(chunk.choices[0].delta.content)\n",
    "\n"
   ]
  },
  {
   "cell_type": "markdown",
   "metadata": {},
   "source": [
    "## Create a request to the OpenAI via promptsail proxy"
   ]
  },
  {
   "cell_type": "markdown",
   "metadata": {},
   "source": [
    "Run the docker and go to PromptSail UI http://promptsail.local/\n",
    "\n",
    "\n",
    "At the application start we created two test projects with OpenAI API mappings. We will use project1 for this example.\n",
    "\n",
    "* [project1](http://promptsail.local/ui/project/project1) -> https://api.openai.com/v1\n",
    "\n",
    "You can create your own project if you want.\n",
    "\n"
   ]
  },
  {
   "cell_type": "code",
   "execution_count": null,
   "metadata": {},
   "outputs": [],
   "source": [
    "ps_api_base = \"http://promptsail.local:8000/project1/\"\n",
    "\n",
    "\n",
    "ps_client = OpenAI(base_url=ps_api_base, api_key=openai_key, max_retries=0)\n",
    "\n",
    "\n",
    "response = ps_client.chat.completions.create(\n",
    "    model=\"gpt-3.5-turbo\",\n",
    "    timeout=1000,\n",
    "    messages=[\n",
    "        {\n",
    "            \"role\": \"system\",\n",
    "            \"content\": \"Yoda assistant you are, skilled in explaining complex life and phisopical matters.\",\n",
    "        },\n",
    "        {\n",
    "            \"role\": \"user\",\n",
    "            \"content\": \"What number 42 means\",\n",
    "        },\n",
    "    ],\n",
    ")\n",
    "\n",
    "pprint(response.choices[0].message.content)"
   ]
  },
  {
   "cell_type": "code",
   "execution_count": null,
   "metadata": {},
   "outputs": [],
   "source": []
  }
 ],
 "metadata": {
  "kernelspec": {
   "display_name": "prompt-sail-hDSOLtZB-py3.10",
   "language": "python",
   "name": "python3"
  },
  "language_info": {
   "codemirror_mode": {
    "name": "ipython",
    "version": 3
   },
   "file_extension": ".py",
   "mimetype": "text/x-python",
   "name": "python",
   "nbconvert_exporter": "python",
   "pygments_lexer": "ipython3",
   "version": "3.10.6"
  }
 },
 "nbformat": 4,
 "nbformat_minor": 2
}
