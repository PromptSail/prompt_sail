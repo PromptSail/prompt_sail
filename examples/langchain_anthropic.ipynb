{
 "cells": [
  {
   "metadata": {},
   "cell_type": "markdown",
   "source": [
    "# How to store transactions for Anthropic chat in PromptSail\n",
    "\n",
    "This guide illustrates how to store transactions for Anthropic Claude models using the [Langchain Python SDK](https://python.langchain.com/docs/integrations/chat/anthropic/). It directly interfaces with the Anthropic API Claude 3 family models.\n",
    "\n",
    "To begin, you'll need an account on [Anthropic](https://anthropic.com/). If you don't have one, create it. \n",
    "\n",
    "Next, obtain your API key 🔑 from the [Anthropic console](https://console.anthropic.com/settings/keys).\n",
    "\n",
    "Then, paste this API key into the `.env` file located in the `examples` folder and assign it to the `ANTHROPIC_API_KEY` variable."
   ],
   "id": "cceb27b0ca026062"
  },
  {
   "cell_type": "code",
   "id": "initial_id",
   "metadata": {
    "collapsed": true,
    "ExecuteTime": {
     "end_time": "2024-05-06T11:09:16.375316Z",
     "start_time": "2024-05-06T11:09:15.765895Z"
    }
   },
   "source": [
    "from langchain_anthropic import ChatAnthropic\n",
    "from dotenv import dotenv_values\n",
    "\n",
    "\n",
    "config = dotenv_values(\".env\")\n",
    "\n",
    "anthropic_key = config[\"ANTHROPIC_API_KEY\"]\n",
    "print(\n",
    "    f\"Anthropic api key={anthropic_key[0:13]}...{anthropic_key[-3:]}\"\n",
    ")"
   ],
   "outputs": [
    {
     "name": "stdout",
     "output_type": "stream",
     "text": [
      "Anthropic api key=sk-ant-api03-...gAA\n"
     ]
    }
   ],
   "execution_count": 1
  },
  {
   "metadata": {},
   "cell_type": "markdown",
   "source": "Models comparsion you can find at [Anthropic documentation](https://docs.anthropic.com/claude/docs/models-overview#model-comparison).",
   "id": "5b4a606063c1f0d8"
  },
  {
   "metadata": {},
   "cell_type": "markdown",
   "source": "## This part is just about testing if the API key is correct and you can connect straight to the Anthropic API",
   "id": "d51d83486e077b8b"
  },
  {
   "metadata": {
    "ExecuteTime": {
     "end_time": "2024-05-06T11:09:18.793731Z",
     "start_time": "2024-05-06T11:09:18.780204Z"
    }
   },
   "cell_type": "code",
   "source": [
    "from langchain_core.prompts import ChatPromptTemplate\n",
    "\n",
    "system = (\n",
    "    \"You are a helpful assistant that translates {input_language} to {output_language}.\"\n",
    ")\n",
    "human = \"{text}\"\n",
    "prompt = ChatPromptTemplate.from_messages([(\"system\", system), (\"human\", human)])"
   ],
   "id": "ef00ba9677bf67fa",
   "outputs": [],
   "execution_count": 2
  },
  {
   "metadata": {
    "ExecuteTime": {
     "end_time": "2024-05-06T11:09:20.357892Z",
     "start_time": "2024-05-06T11:09:20.326344Z"
    }
   },
   "cell_type": "code",
   "source": "chat = ChatAnthropic(temperature=0, anthropic_api_key=anthropic_key, model_name=\"claude-3-opus-20240229\")",
   "id": "58b0cebe67315926",
   "outputs": [],
   "execution_count": 3
  },
  {
   "metadata": {
    "ExecuteTime": {
     "end_time": "2024-05-06T11:09:24.111455Z",
     "start_time": "2024-05-06T11:09:21.591028Z"
    }
   },
   "cell_type": "code",
   "source": [
    "chain = prompt | chat\n",
    "chain.invoke(\n",
    "    {\n",
    "        \"input_language\": \"English\",\n",
    "        \"output_language\": \"Korean\",\n",
    "        \"text\": \"I love Python\",\n",
    "    }\n",
    ")"
   ],
   "id": "24feab4cd246714a",
   "outputs": [
    {
     "data": {
      "text/plain": [
       "AIMessage(content='저는 파이썬을 사랑합니다.\\n\\nTranslation:\\nI love Python.', response_metadata={'id': 'msg_01VUEHtbpTJGbBVN7h5FGv5i', 'model': 'claude-3-opus-20240229', 'stop_reason': 'end_turn', 'stop_sequence': None, 'usage': {'input_tokens': 22, 'output_tokens': 28}}, id='run-c1e509d7-8363-480d-9d3d-2a7f84d6c95f-0')"
      ]
     },
     "execution_count": 4,
     "metadata": {},
     "output_type": "execute_result"
    }
   ],
   "execution_count": 4
  },
  {
   "metadata": {},
   "cell_type": "markdown",
   "source": [
    "## Create a request to the Anthropic API via PromptSail proxy\n",
    "\n",
    "[Run the PromptSail docker images](https://promptsail.com/docs/quick-start-guide/#pull-and-run-the-docker-images-from-ghcr) and go to UI at http://localhost/.\n",
    "We will have to setup a project and add ai provider. \n",
    "\n",
    "\n",
    "Create new project with you `project_slug`or edit existing one for purpose of this example we will use `project1`.\n",
    "\n",
    "Add your own Anthropic provider by editing the project settings and click \"Add AI Provider\" button, this will create the mapping between the Anthropic endpoint to promptsail proxy URL. \n",
    "\n",
    "In the form set the `api base url` to your Anthropic endpoint to: **'https://api.anthropic.com'**\n",
    " \n",
    "and add meaningfull `deployment name`.\n",
    "\n",
    "Save the changes by clicking \"Add\" and \"Update\" button.\n",
    " \n",
    "In mongo it will create new entry in `ai_providers` array, similar to this one:\n",
    "\n",
    "```bash\n",
    "{\n",
    "     ai_providers: [\n",
    "        {\n",
    "            deployment_name: 'anth claude'\n",
    "            slug: 'anth-claude',\n",
    "            api_base: 'https://api.anthropic.com',\n",
    "            description: '',\n",
    "            provider_name: 'Anthropic'\n",
    "        }\n",
    "    ],\n",
    "}\n",
    "```\n",
    "\n",
    "In this case we will use the default `project 1` settings:\n",
    "* with project_slug -> 'project1' \n",
    "* slugified deployment_name -> 'private-anthropic-deployment'\n",
    "\n",
    "resulting in promptsail proxy url like this: \n",
    "\n",
    "**http://localhost:8000/project1/anth-claude**"
   ],
   "id": "55210f5186f0b712"
  },
  {
   "metadata": {
    "ExecuteTime": {
     "end_time": "2024-05-06T11:11:31.639856Z",
     "start_time": "2024-05-06T11:11:31.610813Z"
    }
   },
   "cell_type": "code",
   "source": [
    "ps_chat = ChatAnthropic(\n",
    "    temperature=0, \n",
    "    anthropic_api_key=anthropic_key, model_name=\"claude-3-opus-20240229\", anthropic_api_url=\"http://localhost:8000/project1/anth-claude/\"\n",
    ")"
   ],
   "id": "4689486af8913431",
   "outputs": [],
   "execution_count": 9
  },
  {
   "metadata": {
    "ExecuteTime": {
     "end_time": "2024-05-06T11:11:37.215076Z",
     "start_time": "2024-05-06T11:11:32.315070Z"
    }
   },
   "cell_type": "code",
   "source": [
    "ps_chain = prompt | ps_chat\n",
    "ps_chain.invoke(\n",
    "    {\n",
    "        \"input_language\": \"English\",\n",
    "        \"output_language\": \"Korean\",\n",
    "        \"text\": \"I love Python\",\n",
    "    }\n",
    ")"
   ],
   "id": "93d1cd5572f681fe",
   "outputs": [
    {
     "data": {
      "text/plain": [
       "AIMessage(content='저는 파이썬을 사랑합니다.\\n\\nTranslation:\\nI love Python.', response_metadata={'id': 'msg_01BPPcr6umzhkCwNKrBKfmwk', 'model': 'claude-3-opus-20240229', 'stop_reason': 'end_turn', 'stop_sequence': None, 'usage': {'input_tokens': 22, 'output_tokens': 28}}, id='run-1a4cf04d-b135-41cb-b3bd-a1411dab64a3-0')"
      ]
     },
     "execution_count": 10,
     "metadata": {},
     "output_type": "execute_result"
    }
   ],
   "execution_count": 10
  }
 ],
 "metadata": {
  "kernelspec": {
   "display_name": "Python 3",
   "language": "python",
   "name": "python3"
  },
  "language_info": {
   "codemirror_mode": {
    "name": "ipython",
    "version": 2
   },
   "file_extension": ".py",
   "mimetype": "text/x-python",
   "name": "python",
   "nbconvert_exporter": "python",
   "pygments_lexer": "ipython2",
   "version": "2.7.6"
  }
 },
 "nbformat": 4,
 "nbformat_minor": 5
}
