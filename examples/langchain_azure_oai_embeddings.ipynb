{
 "cells": [
  {
   "cell_type": "markdown",
   "metadata": {},
   "source": [
    "# How to store transations to Embedding Model in PromptSail"
   ]
  },
  {
   "cell_type": "code",
   "execution_count": 6,
   "metadata": {},
   "outputs": [
    {
     "name": "stdout",
     "output_type": "stream",
     "text": [
      "Azure OpenAI api key=9b2...d67b3\n",
      "Azure OpenAI api endpoint=https://openai-pr...\n",
      "Azure OpenAI deployment name=ada-emb...\n",
      "Azure OpenAI api version=2023-07-01-preview\n"
     ]
    }
   ],
   "source": [
    "import os\n",
    "from dotenv import load_dotenv, dotenv_values\n",
    "from pprint import pprint\n",
    "\n",
    "\n",
    "config = dotenv_values(\".env\")\n",
    "\n",
    "\n",
    "azure_oai_key = config[\"AZURE_OPENAI_API_KEY\"]\n",
    "api_base_url = config[\"AZURE_OPENAI_ENDPOINT\"]\n",
    "\n",
    "deployment_name = config[\"AZURE_ENDPOINT_OPENAI_DEPLOYMENT_NAME\"]\n",
    "api_version = config[\"AZURE_OPENAI_API_VERSION\"]\n",
    "\n",
    "print(\n",
    "    f\"Azure OpenAI api key={azure_oai_key[0:3]}...{azure_oai_key[-5:]}\"\n",
    ")\n",
    "print(\n",
    "    f\"Azure OpenAI api endpoint={api_base_url[0:17]}...\"\n",
    ")\n",
    "print(f\"Azure OpenAI deployment name={deployment_name[0:7]}...\")\n",
    "print(f\"Azure OpenAI api version={api_version}\")"
   ]
  },
  {
   "cell_type": "code",
   "execution_count": 7,
   "metadata": {},
   "outputs": [
    {
     "name": "stdout",
     "output_type": "stream",
     "text": [
      "1536\n"
     ]
    }
   ],
   "source": [
    "\n",
    "from langchain.embeddings import OpenAIEmbeddings, AzureOpenAIEmbeddings\n",
    "\n",
    "\n",
    "# Create an instance of the OpenAIEmbeddings class using Azure OpenAI\n",
    "embeddings = AzureOpenAIEmbeddings(\n",
    "    openai_api_key=azure_oai_key,\n",
    "    azure_deployment=deployment_name,\n",
    "    api_version=api_version,\n",
    "    azure_endpoint=api_base_url,\n",
    "    #model=\"ada-embeddings\",\n",
    "    chunk_size=1)\n",
    "\n",
    "# Testing embeddings\n",
    "txt = \"The Ultimate Question of Life, the Universe, and Everything is 42.\"\n",
    "\n",
    "# Embed a single document\n",
    "e = embeddings.embed_query(txt)\n",
    "\n",
    "print(len(e)) # should be 1536"
   ]
  },
  {
   "cell_type": "markdown",
   "metadata": {},
   "source": [
    "## Create a request to the AzureOpenAI Embedding API via PromptSail proxy\n",
    "\n",
    "Run the docker and go to PromptSail UI http://promptsail.local/\n",
    "\n",
    "\n",
    "You should add your own mappings in project settings. Create new project with you `project_slug`or edit existing one.\n",
    "\n",
    "Set the `api_base` to your Azure OpenAI endpoint like\n",
    " \n",
    "'https://**azure_openai_resource**.openai.azure.com/'\n",
    " \n",
    " and provider_name to Azure OpenAI.\n",
    "\n",
    "\n",
    "\n",
    "```bash\n",
    "{\n",
    "    ai_providers: [\n",
    "        {\n",
    "            api_base: 'https://azure_openai_resource.openai.azure.com',\n",
    "            provider_name: 'Azure OpenAI',\n",
    "            ai_model_name: 'gpt-3.5-turbo'\n",
    "        }\n",
    "    ],\n",
    "}\n",
    "```\n",
    "\n",
    "In this case we will use the project with project_slug -> 'project2'\n"
   ]
  },
  {
   "cell_type": "code",
   "execution_count": 11,
   "metadata": {},
   "outputs": [
    {
     "name": "stdout",
     "output_type": "stream",
     "text": [
      "1536\n"
     ]
    }
   ],
   "source": [
    "from langchain.embeddings import AzureOpenAIEmbeddings\n",
    "\n",
    "\n",
    "ps_api_base = \"http://promptsail.local:8000/project2/\"\n",
    "\n",
    "# Create an instance of the OpenAIEmbeddings class using Azure OpenAI\n",
    "embeddings = AzureOpenAIEmbeddings(\n",
    "    openai_api_key=azure_oai_key,\n",
    "    azure_deployment=deployment_name,\n",
    "    api_version=api_version,\n",
    "    azure_endpoint=ps_api_base,\n",
    "    #model=\"ada-embeddings\",\n",
    "    chunk_size=1)\n",
    "\n",
    "# Testing embeddings\n",
    "txt = \"The Ultimate Question of Life, the Universe, and Everything is 42.\"\n",
    "\n",
    "# Embed a single document\n",
    "e = embeddings.embed_query(txt)\n",
    "\n",
    "print(len(e)) # should be 1536"
   ]
  },
  {
   "cell_type": "code",
   "execution_count": null,
   "metadata": {},
   "outputs": [],
   "source": []
  }
 ],
 "metadata": {
  "kernelspec": {
   "display_name": "promptsail-hDSOLtZB-py3.10",
   "language": "python",
   "name": "python3"
  },
  "language_info": {
   "codemirror_mode": {
    "name": "ipython",
    "version": 3
   },
   "file_extension": ".py",
   "mimetype": "text/x-python",
   "name": "python",
   "nbconvert_exporter": "python",
   "pygments_lexer": "ipython3",
   "version": "3.10.6"
  }
 },
 "nbformat": 4,
 "nbformat_minor": 2
}
