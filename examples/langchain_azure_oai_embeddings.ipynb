{
 "cells": [
  {
   "cell_type": "markdown",
   "metadata": {},
   "source": [
    "# How to store transactions for Azure OpenAI Embedding Model in PromptSail"
   ]
  },
  {
   "cell_type": "markdown",
   "metadata": {},
   "source": [
    "First you need to get or create an Azure OpenAI embedding deployment. \n",
    "You can do it here: https://portal.azure.com/#view/Microsoft_Azure_ProjectOxford/CognitiveServicesHub/~/OpenAI\n",
    "\n",
    "Click on the chosen resource and than the \"Develop\" button in the middle of the screen.\n",
    "\n",
    "Copy the API key and endpoint and paste it into `.env` file in the `examples` folder. "
   ]
  },
  {
   "cell_type": "code",
   "execution_count": 17,
   "metadata": {},
   "outputs": [
    {
     "name": "stdout",
     "output_type": "stream",
     "text": [
      "Azure OpenAI api key=9b2...7b3\n",
      "Azure OpenAI api endpoint=https://openai-pr....openai.azure.com/\n",
      "Azure OpenAI deployment name=ada-embeddings\n",
      "Azure OpenAI api version=2023-07-01-preview\n"
     ]
    }
   ],
   "source": [
    "import os\n",
    "from dotenv import load_dotenv, dotenv_values\n",
    "from pprint import pprint\n",
    "\n",
    "\n",
    "config = dotenv_values(\".env\")\n",
    "\n",
    "\n",
    "azure_oai_key = config[\"AZURE_OPENAI_API_KEY\"]\n",
    "api_base_url = config[\"AZURE_OPENAI_ENDPOINT\"]\n",
    "\n",
    "api_version = config[\"AZURE_OPENAI_API_VERSION\"]\n",
    "deployment_name = config[\"AZURE_EMBEDDING_DEPLOYMENT_NAME\"]\n",
    "\n",
    "print(\n",
    "    f\"Azure OpenAI api key={azure_oai_key[0:3]}...{azure_oai_key[-3:]}\"\n",
    ")\n",
    "print(\n",
    "    f\"Azure OpenAI api endpoint={api_base_url[0:17]}...{api_base_url[-18:]}\"\n",
    ")\n",
    "print(f\"Azure OpenAI deployment name={deployment_name}\")\n",
    "print(f\"Azure OpenAI api version={api_version}\")"
   ]
  },
  {
   "cell_type": "code",
   "execution_count": 18,
   "metadata": {},
   "outputs": [
    {
     "name": "stdout",
     "output_type": "stream",
     "text": [
      "1536\n"
     ]
    }
   ],
   "source": [
    "\n",
    "from langchain.embeddings import OpenAIEmbeddings, AzureOpenAIEmbeddings\n",
    "\n",
    "\n",
    "# Create an instance of the OpenAIEmbeddings class using Azure OpenAI\n",
    "embeddings = AzureOpenAIEmbeddings(\n",
    "    openai_api_key=azure_oai_key,\n",
    "    azure_deployment=deployment_name,\n",
    "    api_version=api_version,\n",
    "    azure_endpoint=api_base_url,\n",
    "    #model=\"ada-embeddings\",\n",
    "    chunk_size=1)\n",
    "\n",
    "# Testing embeddings\n",
    "txt = \"The Ultimate Question of Life, the Universe, and Everything is 42.\"\n",
    "\n",
    "# Embed a single document\n",
    "e = embeddings.embed_query(txt)\n",
    "\n",
    "print(len(e)) # should be 1536"
   ]
  },
  {
   "cell_type": "markdown",
   "metadata": {},
   "source": [
    "## Create a request to the AzureOpenAI Embedding API via PromptSail proxy\n",
    "\n",
    "Run the docker and go to PromptSail UI http://localhost/\n",
    "\n",
    "Create new project with you `project_slug`or edit existing one.\n",
    "\n",
    "Add your own Azure OpenAI provider by editing the project settings, this will map the Azure OpenAI endpoint to new proxy prompt sail URL. \n",
    "\n",
    "Set the `api base url` to your Azure OpenAI endpoint like\n",
    " \n",
    "'https://**azure_openai_resource**.openai.azure.com/'\n",
    " \n",
    " and add meaningfull `deployment name`.\n",
    "\n",
    "\n",
    "In mongo it will create new entry in `ai_providers` array, similar to this one\n",
    "\n",
    "```bash\n",
    "{\n",
    "     ai_providers: [\n",
    "        {\n",
    "            deployment_name: 'azure US deployment',\n",
    "            slug: 'azure-us-deployment',\n",
    "            api_base: 'https://[azure_openai_resource].openai.azure.com/',\n",
    "            description: '',\n",
    "            provider_name: 'Azure OpenAI'\n",
    "        }\n",
    "    ],\n",
    "}\n",
    "```\n",
    "\n",
    "In this case we will use the default `project 2` settings:\n",
    "* with project_slug -> 'project2' \n",
    "* deployment_name -> 'azure-us-deployment'\n",
    "resulting in promptsail proxy url like this: \n",
    "\n",
    "**\"http://localhost:8000/project2/azure-us-deployment\"**\n"
   ]
  },
  {
   "cell_type": "code",
   "execution_count": 19,
   "metadata": {},
   "outputs": [
    {
     "name": "stdout",
     "output_type": "stream",
     "text": [
      "1536\n"
     ]
    }
   ],
   "source": [
    "from langchain.embeddings import AzureOpenAIEmbeddings\n",
    "\n",
    "\n",
    "ps_api_base = \"http://localhost:8000/project2/azure-us-deployment\"\n",
    "\n",
    "# different deployment\n",
    "ps_api_base = \"http://localhost:8000/edu-project/ps-us2\"\n",
    "\n",
    "\n",
    "\n",
    "# Create an instance of the OpenAIEmbeddings class using Azure OpenAI\n",
    "embeddings = AzureOpenAIEmbeddings(\n",
    "    openai_api_key=azure_oai_key,\n",
    "    azure_deployment=deployment_name,\n",
    "    api_version=api_version,\n",
    "    azure_endpoint=ps_api_base,\n",
    "    #model=\"ada-embeddings\",\n",
    "    chunk_size=1)\n",
    "\n",
    "# Testing embeddings\n",
    "txt = \"The Ultimate Question of Life, the Universe, and Everything is 42.\"\n",
    "\n",
    "# Embed a single document\n",
    "e = embeddings.embed_query(txt)\n",
    "\n",
    "print(len(e)) # should be 1536"
   ]
  },
  {
   "cell_type": "code",
   "execution_count": null,
   "metadata": {},
   "outputs": [],
   "source": []
  }
 ],
 "metadata": {
  "kernelspec": {
   "display_name": "promptsail-hDSOLtZB-py3.10",
   "language": "python",
   "name": "python3"
  },
  "language_info": {
   "codemirror_mode": {
    "name": "ipython",
    "version": 3
   },
   "file_extension": ".py",
   "mimetype": "text/x-python",
   "name": "python",
   "nbconvert_exporter": "python",
   "pygments_lexer": "ipython3",
   "version": "3.10.6"
  }
 },
 "nbformat": 4,
 "nbformat_minor": 2
}
